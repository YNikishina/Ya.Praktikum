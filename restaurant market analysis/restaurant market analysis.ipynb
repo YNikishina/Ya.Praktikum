{
 "cells": [
  {
   "cell_type": "markdown",
   "metadata": {},
   "source": [
    "# Проект \"Анализ рынка заведений общественного питания г. Москвы\""
   ]
  },
  {
   "cell_type": "markdown",
   "metadata": {},
   "source": [
    "## Содержание\n",
    "\n",
    "##### Часть 0. Введение:\n",
    "* [0.1 Цель проекта](#section_0.1)\n",
    "* [0.2 Загрузка библиотек](#section_0.2)\n",
    "\n",
    "##### Часть 1. Ознакомление с данными:\n",
    "* [1.1 Загрузка, изучение и предобработка данных](#section_1.1)\n",
    "* [1.2 Наблюдения и выводы](#section_1.2)\n",
    "\n",
    "##### Часть 2. Анализ данных:\n",
    "* [2.1 Анализ данных](#section_2.1)\n",
    "* [2.2 Выводы и рекомендации по результатам анализа](#section_2.6)\n",
    "\n",
    "##### Часть 3. Презентация результатов:\n",
    "* [3.1 Презентация](#section_3.1)"
   ]
  },
  {
   "cell_type": "markdown",
   "metadata": {},
   "source": [
    "## Часть 0. Введение:"
   ]
  },
  {
   "cell_type": "markdown",
   "metadata": {},
   "source": [
    "<a id='section_0.1'></a>\n",
    "### 0.1 Цель проекта\n",
    "\n",
    "Планируется открыть небольшое оригинальное кафе в Москве, в котором гостей будут обслуживать роботы. \n",
    "\n",
    "Цель проекта - провести исследование рынка общественного питания г. Москвы, используя имеющиеся открытые данные, и сделать выводы о том, каким должно быть заведение, чтобы завоевать популярность среди гостей."
   ]
  },
  {
   "cell_type": "markdown",
   "metadata": {},
   "source": [
    "<a id='section_0.2'></a>\n",
    "### 0.2 Загрузка необходимых библиотек\n",
    "\n",
    "Загрузим библиотеки, которые нам понадобятся для выполнения проекта."
   ]
  },
  {
   "cell_type": "code",
   "execution_count": 1,
   "metadata": {},
   "outputs": [],
   "source": [
    "import pandas as pd\n",
    "import numpy as np\n",
    "\n",
    "from matplotlib import pyplot as plt\n",
    "%matplotlib inline\n",
    "\n",
    "from pandas.plotting import register_matplotlib_converters\n",
    "register_matplotlib_converters()\n",
    "\n",
    "import seaborn as sns\n",
    "sns.set_style('darkgrid') \n",
    "sns.set_palette('bright') \n",
    "\n",
    "from plotly import graph_objects as go\n",
    "\n",
    "import warnings\n",
    "warnings.filterwarnings('ignore')\n",
    "\n",
    "from pylab import rcParams\n",
    "\n",
    "from io import BytesIO\n",
    "import requests"
   ]
  },
  {
   "cell_type": "markdown",
   "metadata": {},
   "source": [
    "## Часть 1. Ознакомление с данными:"
   ]
  },
  {
   "cell_type": "markdown",
   "metadata": {},
   "source": [
    "<a id='section_0.1'></a>\n",
    "### 1.1 Загрузка, изучение и предобработка данных\n",
    "\n",
    "Загрузим имеющиеся данные и подготовим их к анализу: проверим данные на отсутствие пропусков, дубликатов, аномальных значений; при необходимости изменим тип данных на правильный."
   ]
  },
  {
   "cell_type": "code",
   "execution_count": 2,
   "metadata": {},
   "outputs": [
    {
     "data": {
      "text/html": [
       "<div>\n",
       "<style scoped>\n",
       "    .dataframe tbody tr th:only-of-type {\n",
       "        vertical-align: middle;\n",
       "    }\n",
       "\n",
       "    .dataframe tbody tr th {\n",
       "        vertical-align: top;\n",
       "    }\n",
       "\n",
       "    .dataframe thead th {\n",
       "        text-align: right;\n",
       "    }\n",
       "</style>\n",
       "<table border=\"1\" class=\"dataframe\">\n",
       "  <thead>\n",
       "    <tr style=\"text-align: right;\">\n",
       "      <th></th>\n",
       "      <th>id</th>\n",
       "      <th>object_name</th>\n",
       "      <th>chain</th>\n",
       "      <th>object_type</th>\n",
       "      <th>address</th>\n",
       "      <th>number</th>\n",
       "    </tr>\n",
       "  </thead>\n",
       "  <tbody>\n",
       "    <tr>\n",
       "      <td>0</td>\n",
       "      <td>151635</td>\n",
       "      <td>СМЕТАНА</td>\n",
       "      <td>нет</td>\n",
       "      <td>кафе</td>\n",
       "      <td>город Москва, улица Егора Абакумова, дом 9</td>\n",
       "      <td>48</td>\n",
       "    </tr>\n",
       "    <tr>\n",
       "      <td>1</td>\n",
       "      <td>77874</td>\n",
       "      <td>Родник</td>\n",
       "      <td>нет</td>\n",
       "      <td>кафе</td>\n",
       "      <td>город Москва, улица Талалихина, дом 2/1, корпус 1</td>\n",
       "      <td>35</td>\n",
       "    </tr>\n",
       "    <tr>\n",
       "      <td>2</td>\n",
       "      <td>24309</td>\n",
       "      <td>Кафе «Академия»</td>\n",
       "      <td>нет</td>\n",
       "      <td>кафе</td>\n",
       "      <td>город Москва, Абельмановская улица, дом 6</td>\n",
       "      <td>95</td>\n",
       "    </tr>\n",
       "    <tr>\n",
       "      <td>3</td>\n",
       "      <td>21894</td>\n",
       "      <td>ПИЦЦЕТОРИЯ</td>\n",
       "      <td>да</td>\n",
       "      <td>кафе</td>\n",
       "      <td>город Москва, Абрамцевская улица, дом 1</td>\n",
       "      <td>40</td>\n",
       "    </tr>\n",
       "    <tr>\n",
       "      <td>4</td>\n",
       "      <td>119365</td>\n",
       "      <td>Кафе «Вишневая метель»</td>\n",
       "      <td>нет</td>\n",
       "      <td>кафе</td>\n",
       "      <td>город Москва, Абрамцевская улица, дом 9, корпус 1</td>\n",
       "      <td>50</td>\n",
       "    </tr>\n",
       "  </tbody>\n",
       "</table>\n",
       "</div>"
      ],
      "text/plain": [
       "       id             object_name chain object_type  \\\n",
       "0  151635                 СМЕТАНА   нет        кафе   \n",
       "1   77874                  Родник   нет        кафе   \n",
       "2   24309         Кафе «Академия»   нет        кафе   \n",
       "3   21894              ПИЦЦЕТОРИЯ    да        кафе   \n",
       "4  119365  Кафе «Вишневая метель»   нет        кафе   \n",
       "\n",
       "                                             address  number  \n",
       "0         город Москва, улица Егора Абакумова, дом 9      48  \n",
       "1  город Москва, улица Талалихина, дом 2/1, корпус 1      35  \n",
       "2          город Москва, Абельмановская улица, дом 6      95  \n",
       "3            город Москва, Абрамцевская улица, дом 1      40  \n",
       "4  город Москва, Абрамцевская улица, дом 9, корпус 1      50  "
      ]
     },
     "execution_count": 2,
     "metadata": {},
     "output_type": "execute_result"
    }
   ],
   "source": [
    "# Загружаем данные и смотрим первые строки\n",
    "data = pd.read_csv('/datasets/rest_data.csv')\n",
    "data.head(5)"
   ]
  },
  {
   "cell_type": "code",
   "execution_count": 3,
   "metadata": {},
   "outputs": [],
   "source": [
    "# Переименовываем колонки\n",
    "data.columns = ['id', 'name', 'is_chain', 'type', 'address', 'seating_capacity']"
   ]
  },
  {
   "cell_type": "code",
   "execution_count": 4,
   "metadata": {},
   "outputs": [
    {
     "name": "stdout",
     "output_type": "stream",
     "text": [
      "<class 'pandas.core.frame.DataFrame'>\n",
      "RangeIndex: 15366 entries, 0 to 15365\n",
      "Data columns (total 6 columns):\n",
      "id                  15366 non-null int64\n",
      "name                15366 non-null object\n",
      "is_chain            15366 non-null object\n",
      "type                15366 non-null object\n",
      "address             15366 non-null object\n",
      "seating_capacity    15366 non-null int64\n",
      "dtypes: int64(2), object(4)\n",
      "memory usage: 720.4+ KB\n"
     ]
    }
   ],
   "source": [
    "# Смотрим информацию о количестве и типах данных \n",
    "data.info()"
   ]
  },
  {
   "cell_type": "code",
   "execution_count": 5,
   "metadata": {},
   "outputs": [
    {
     "data": {
      "text/plain": [
       "0"
      ]
     },
     "execution_count": 5,
     "metadata": {},
     "output_type": "execute_result"
    }
   ],
   "source": [
    "# Проверяем на наличие дубликатов \n",
    "data.duplicated().sum()"
   ]
  },
  {
   "cell_type": "code",
   "execution_count": 6,
   "metadata": {},
   "outputs": [
    {
     "name": "stdout",
     "output_type": "stream",
     "text": [
      "<class 'pandas.core.frame.DataFrame'>\n",
      "Int64Index: 15159 entries, 0 to 15364\n",
      "Data columns (total 6 columns):\n",
      "id                  15159 non-null int64\n",
      "name                15159 non-null object\n",
      "is_chain            15159 non-null object\n",
      "type                15159 non-null object\n",
      "address             15159 non-null object\n",
      "seating_capacity    15159 non-null int64\n",
      "dtypes: int64(2), object(4)\n",
      "memory usage: 829.0+ KB\n"
     ]
    }
   ],
   "source": [
    "data = data.drop_duplicates(subset = ['name', 'address'], keep = 'first')\n",
    "data.info()"
   ]
  },
  {
   "cell_type": "code",
   "execution_count": 7,
   "metadata": {},
   "outputs": [
    {
     "data": {
      "text/plain": [
       "array(['нет', 'да'], dtype=object)"
      ]
     },
     "execution_count": 7,
     "metadata": {},
     "output_type": "execute_result"
    }
   ],
   "source": [
    "# Проверяем уникальные значения в столбце is_chain\n",
    "data['is_chain'].unique()"
   ]
  },
  {
   "cell_type": "code",
   "execution_count": 8,
   "metadata": {},
   "outputs": [
    {
     "data": {
      "text/plain": [
       "array(['кафе', 'столовая', 'закусочная',\n",
       "       'предприятие быстрого обслуживания', 'ресторан', 'кафетерий',\n",
       "       'буфет', 'бар', 'магазин (отдел кулинарии)'], dtype=object)"
      ]
     },
     "execution_count": 8,
     "metadata": {},
     "output_type": "execute_result"
    }
   ],
   "source": [
    "# Проверяем уникальные значения в столбце type\n",
    "data['type'].unique()"
   ]
  },
  {
   "cell_type": "code",
   "execution_count": 9,
   "metadata": {},
   "outputs": [
    {
     "data": {
      "text/plain": [
       "array(['кафе', 'столовая', 'закусочная', 'фастфуд', 'ресторан',\n",
       "       'кафетерий', 'буфет', 'бар', 'кулинария'], dtype=object)"
      ]
     },
     "execution_count": 9,
     "metadata": {},
     "output_type": "execute_result"
    }
   ],
   "source": [
    "# Заменяем названия некоторых типов на более короткие для графиков\n",
    "data['type'] = data['type'].replace('магазин (отдел кулинарии)', 'кулинария')\n",
    "data['type'] = data['type'].replace('предприятие быстрого обслуживания', 'фастфуд')\n",
    "data['type'].unique()"
   ]
  },
  {
   "cell_type": "code",
   "execution_count": 10,
   "metadata": {},
   "outputs": [
    {
     "data": {
      "text/plain": [
       "count    15159.000000\n",
       "mean        59.942806\n",
       "std         75.008636\n",
       "min          0.000000\n",
       "25%         14.000000\n",
       "50%         40.000000\n",
       "75%         80.000000\n",
       "max       1700.000000\n",
       "Name: seating_capacity, dtype: float64"
      ]
     },
     "execution_count": 10,
     "metadata": {},
     "output_type": "execute_result"
    }
   ],
   "source": [
    "# Смотрим информацию о данных в столбце seating_capacity\n",
    "data['seating_capacity'].describe()"
   ]
  },
  {
   "cell_type": "markdown",
   "metadata": {},
   "source": [
    "<a id='section_1.2'></a>\n",
    "### 1.2 Наблюдения и выводы\n",
    "\n",
    "По результатам изучения данных мы сделали следующие выводы и наблюдения\n",
    "\n",
    "1. Всего первоначальный набор данных содержит 15366 записей о предприятиях общественого питания г. Москвы.\n",
    "2. Данные не содержат пропусков. Однако, проверка на дубликаты по названиям и адресам выявила примерно 1,5%  дубликатов, которые мы удалили.\n",
    "3. После предобработки в нашей таблице содержатся следующая информация:\n",
    "   * `id` — идентификатор объекта;\n",
    "   * `name` — название объекта;\n",
    "   * `is_chain` — информация о том, является ли объект сетевым (в формате 'да' / 'нет');\n",
    "   * `type` — тип объекта;\n",
    "   * `address` — адрес объекта;\n",
    "   * `seating_capacity` — количество посадочных мест.\n",
    "4. По типам объекты делятся на 9 групп: кафе, столовая, закусочная, фастфуд, ресторан, кафетерий, буфет, бар, кулинария.\n",
    "5. По количеству посадочных мест есть объекты с вместимостью от 0 до 1700 человек. Средняя вместимость составляет 60 мест, медиана - 40 мест. "
   ]
  },
  {
   "cell_type": "markdown",
   "metadata": {},
   "source": [
    "## Часть 2. Анализ данных: "
   ]
  },
  {
   "cell_type": "markdown",
   "metadata": {},
   "source": [
    "<a id='section_2.1'></a>\n",
    "### 2.1 Анализ данных\n",
    "\n",
    "#### Виды объектов\n",
    "Начнем с того, что исследуем соотношение видов объектов общественного питания по количеству."
   ]
  },
  {
   "cell_type": "code",
   "execution_count": 11,
   "metadata": {},
   "outputs": [
    {
     "data": {
      "text/html": [
       "<div>\n",
       "<style scoped>\n",
       "    .dataframe tbody tr th:only-of-type {\n",
       "        vertical-align: middle;\n",
       "    }\n",
       "\n",
       "    .dataframe tbody tr th {\n",
       "        vertical-align: top;\n",
       "    }\n",
       "\n",
       "    .dataframe thead th {\n",
       "        text-align: right;\n",
       "    }\n",
       "</style>\n",
       "<table border=\"1\" class=\"dataframe\">\n",
       "  <thead>\n",
       "    <tr style=\"text-align: right;\">\n",
       "      <th></th>\n",
       "      <th>type</th>\n",
       "      <th>count</th>\n",
       "    </tr>\n",
       "  </thead>\n",
       "  <tbody>\n",
       "    <tr>\n",
       "      <td>0</td>\n",
       "      <td>кафе</td>\n",
       "      <td>6003</td>\n",
       "    </tr>\n",
       "    <tr>\n",
       "      <td>1</td>\n",
       "      <td>столовая</td>\n",
       "      <td>2572</td>\n",
       "    </tr>\n",
       "    <tr>\n",
       "      <td>2</td>\n",
       "      <td>ресторан</td>\n",
       "      <td>2272</td>\n",
       "    </tr>\n",
       "    <tr>\n",
       "      <td>3</td>\n",
       "      <td>фастфуд</td>\n",
       "      <td>1886</td>\n",
       "    </tr>\n",
       "    <tr>\n",
       "      <td>4</td>\n",
       "      <td>бар</td>\n",
       "      <td>850</td>\n",
       "    </tr>\n",
       "    <tr>\n",
       "      <td>5</td>\n",
       "      <td>буфет</td>\n",
       "      <td>567</td>\n",
       "    </tr>\n",
       "    <tr>\n",
       "      <td>6</td>\n",
       "      <td>кафетерий</td>\n",
       "      <td>392</td>\n",
       "    </tr>\n",
       "    <tr>\n",
       "      <td>7</td>\n",
       "      <td>закусочная</td>\n",
       "      <td>345</td>\n",
       "    </tr>\n",
       "    <tr>\n",
       "      <td>8</td>\n",
       "      <td>кулинария</td>\n",
       "      <td>272</td>\n",
       "    </tr>\n",
       "  </tbody>\n",
       "</table>\n",
       "</div>"
      ],
      "text/plain": [
       "         type  count\n",
       "0        кафе   6003\n",
       "1    столовая   2572\n",
       "2    ресторан   2272\n",
       "3     фастфуд   1886\n",
       "4         бар    850\n",
       "5       буфет    567\n",
       "6   кафетерий    392\n",
       "7  закусочная    345\n",
       "8   кулинария    272"
      ]
     },
     "execution_count": 11,
     "metadata": {},
     "output_type": "execute_result"
    }
   ],
   "source": [
    "# Сгруппируем данные, чтобы получить количество объектов для каждого вида\n",
    "rest_types = data.groupby('type').agg({'id': 'count'}).sort_values(by = 'id', ascending = False).reset_index()\n",
    "rest_types.columns = ['type', 'count']\n",
    "\n",
    "rest_types"
   ]
  },
  {
   "cell_type": "code",
   "execution_count": 12,
   "metadata": {},
   "outputs": [
    {
     "data": {
      "image/png": "[encoded data removed]",
      "text/plain": [
       "<Figure size 648x648 with 1 Axes>"
      ]
     },
     "metadata": {},
     "output_type": "display_data"
    }
   ],
   "source": [
    "# Визуализируем полученные данные с помощью диаграммы \"пирог\"\n",
    "plt.figure(figsize=(9, 9))\n",
    "plt.pie('count', \n",
    "        labels = 'type',\n",
    "        textprops = {'fontsize': 12, 'fontweight': 'bold'},\n",
    "        autopct = '%1.1f%%', pctdistance = 0.6, \n",
    "        data = rest_types)\n",
    "plt.title('Объекты общественного питания по видам', fontsize = 14, fontweight = 'bold')\n",
    "plt.show()"
   ]
  },
  {
   "cell_type": "markdown",
   "metadata": {},
   "source": [
    "Большую часть заведений составляют кафе (6003 объекта или 39,6% от общего количества заведений). За ними следуют столовые (2572 объекта / 17%), рестораны (2272 объекта / 15%) и предприятия быстрого обслуживания (1886 объектов / 12,4%). Оставшиеся 16% приходится на бары, буфеты, кафетерии, закусочные и кулинарии."
   ]
  },
  {
   "cell_type": "markdown",
   "metadata": {},
   "source": [
    "#### Сетевые / несетевые заведения\n",
    "\n",
    "Исследуем соотношение сетевых и несетевых заведений по количеству."
   ]
  },
  {
   "cell_type": "code",
   "execution_count": 13,
   "metadata": {},
   "outputs": [
    {
     "data": {
      "text/html": [
       "<div>\n",
       "<style scoped>\n",
       "    .dataframe tbody tr th:only-of-type {\n",
       "        vertical-align: middle;\n",
       "    }\n",
       "\n",
       "    .dataframe tbody tr th {\n",
       "        vertical-align: top;\n",
       "    }\n",
       "\n",
       "    .dataframe thead th {\n",
       "        text-align: right;\n",
       "    }\n",
       "</style>\n",
       "<table border=\"1\" class=\"dataframe\">\n",
       "  <thead>\n",
       "    <tr style=\"text-align: right;\">\n",
       "      <th></th>\n",
       "      <th>is_chain</th>\n",
       "      <th>id</th>\n",
       "    </tr>\n",
       "  </thead>\n",
       "  <tbody>\n",
       "    <tr>\n",
       "      <td>0</td>\n",
       "      <td>да</td>\n",
       "      <td>2940</td>\n",
       "    </tr>\n",
       "    <tr>\n",
       "      <td>1</td>\n",
       "      <td>нет</td>\n",
       "      <td>12219</td>\n",
       "    </tr>\n",
       "  </tbody>\n",
       "</table>\n",
       "</div>"
      ],
      "text/plain": [
       "  is_chain     id\n",
       "0       да   2940\n",
       "1      нет  12219"
      ]
     },
     "execution_count": 13,
     "metadata": {},
     "output_type": "execute_result"
    }
   ],
   "source": [
    "# Группируем данные и считаем количество сетевых / несетевых объектов \n",
    "chain_rest = data.groupby('is_chain').agg({'id': 'count'}).sort_values(by='id').reset_index()\n",
    "chain_rest"
   ]
  },
  {
   "cell_type": "code",
   "execution_count": 14,
   "metadata": {},
   "outputs": [
    {
     "data": {
      "image/png": "[encoded data removed]",
      "text/plain": [
       "<Figure size 576x432 with 1 Axes>"
      ]
     },
     "metadata": {},
     "output_type": "display_data"
    }
   ],
   "source": [
    "# Визуализируем данные с помощью столбчатого графика\n",
    "plt.figure(figsize = (8, 6))\n",
    "bplot = sns.barplot(x = 'is_chain', y = 'id', data = chain_rest)\n",
    "\n",
    "# Добавим значения столбцов\n",
    "for p in bplot.patches:\n",
    "    bplot.annotate(format(p.get_height(), '.0f'), \n",
    "                   (p.get_x() + p.get_width() / 2., p.get_height()), \n",
    "                   ha = 'center', va = 'center', \n",
    "                   xytext = (0, 9), \n",
    "                   textcoords = 'offset points')\n",
    "\n",
    "# Подписываем оси, добавляем заголовок\n",
    "plt.ylabel('')\n",
    "plt.xlabel('Является ли заведение сетевым')\n",
    "plt.title('Cоотношение сетевых и несетевых заведений', fontsize=14, fontweight='bold')\n",
    "plt.show()"
   ]
  },
  {
   "cell_type": "markdown",
   "metadata": {},
   "source": [
    "Видим, что несетевых заведений в 4 раза больше, чем сетевых.\n",
    "\n",
    "Проанализируем, для каких видов объектов общественного питания более характерно сетевое распространение."
   ]
  },
  {
   "cell_type": "code",
   "execution_count": 15,
   "metadata": {},
   "outputs": [
    {
     "data": {
      "text/html": [
       "<div>\n",
       "<style scoped>\n",
       "    .dataframe tbody tr th:only-of-type {\n",
       "        vertical-align: middle;\n",
       "    }\n",
       "\n",
       "    .dataframe tbody tr th {\n",
       "        vertical-align: top;\n",
       "    }\n",
       "\n",
       "    .dataframe thead th {\n",
       "        text-align: right;\n",
       "    }\n",
       "</style>\n",
       "<table border=\"1\" class=\"dataframe\">\n",
       "  <thead>\n",
       "    <tr style=\"text-align: right;\">\n",
       "      <th></th>\n",
       "      <th>type</th>\n",
       "      <th>id</th>\n",
       "      <th>count</th>\n",
       "    </tr>\n",
       "  </thead>\n",
       "  <tbody>\n",
       "    <tr>\n",
       "      <td>0</td>\n",
       "      <td>кафе</td>\n",
       "      <td>1384</td>\n",
       "      <td>6003</td>\n",
       "    </tr>\n",
       "    <tr>\n",
       "      <td>8</td>\n",
       "      <td>столовая</td>\n",
       "      <td>3</td>\n",
       "      <td>2572</td>\n",
       "    </tr>\n",
       "    <tr>\n",
       "      <td>2</td>\n",
       "      <td>ресторан</td>\n",
       "      <td>539</td>\n",
       "      <td>2272</td>\n",
       "    </tr>\n",
       "    <tr>\n",
       "      <td>1</td>\n",
       "      <td>фастфуд</td>\n",
       "      <td>782</td>\n",
       "      <td>1886</td>\n",
       "    </tr>\n",
       "    <tr>\n",
       "      <td>6</td>\n",
       "      <td>бар</td>\n",
       "      <td>37</td>\n",
       "      <td>850</td>\n",
       "    </tr>\n",
       "    <tr>\n",
       "      <td>7</td>\n",
       "      <td>буфет</td>\n",
       "      <td>10</td>\n",
       "      <td>567</td>\n",
       "    </tr>\n",
       "    <tr>\n",
       "      <td>5</td>\n",
       "      <td>кафетерий</td>\n",
       "      <td>51</td>\n",
       "      <td>392</td>\n",
       "    </tr>\n",
       "    <tr>\n",
       "      <td>4</td>\n",
       "      <td>закусочная</td>\n",
       "      <td>56</td>\n",
       "      <td>345</td>\n",
       "    </tr>\n",
       "    <tr>\n",
       "      <td>3</td>\n",
       "      <td>кулинария</td>\n",
       "      <td>78</td>\n",
       "      <td>272</td>\n",
       "    </tr>\n",
       "  </tbody>\n",
       "</table>\n",
       "</div>"
      ],
      "text/plain": [
       "         type    id  count\n",
       "0        кафе  1384   6003\n",
       "8    столовая     3   2572\n",
       "2    ресторан   539   2272\n",
       "1     фастфуд   782   1886\n",
       "6         бар    37    850\n",
       "7       буфет    10    567\n",
       "5   кафетерий    51    392\n",
       "4  закусочная    56    345\n",
       "3   кулинария    78    272"
      ]
     },
     "execution_count": 15,
     "metadata": {},
     "output_type": "execute_result"
    }
   ],
   "source": [
    "# Выбираем записи, относящиеся к сетевым объектам, группируем по типам и считаем количество\n",
    "chain_rest_types = (data.query('is_chain == \"да\"')\n",
    "                    .groupby('type')\n",
    "                    .agg({'id': 'count'})\n",
    "                    .sort_values(by='id', ascending=False)\n",
    "                    .reset_index()\n",
    "                   )\n",
    "\n",
    "# Добавляем общее количество заведений по типам\n",
    "chain_rest_types = chain_rest_types.merge(rest_types, on='type').sort_values(by='count', ascending=False)\n",
    "chain_rest_types"
   ]
  },
  {
   "cell_type": "code",
   "execution_count": 16,
   "metadata": {},
   "outputs": [
    {
     "data": {
      "text/html": [
       "<div>\n",
       "<style scoped>\n",
       "    .dataframe tbody tr th:only-of-type {\n",
       "        vertical-align: middle;\n",
       "    }\n",
       "\n",
       "    .dataframe tbody tr th {\n",
       "        vertical-align: top;\n",
       "    }\n",
       "\n",
       "    .dataframe thead th {\n",
       "        text-align: right;\n",
       "    }\n",
       "</style>\n",
       "<table border=\"1\" class=\"dataframe\">\n",
       "  <thead>\n",
       "    <tr style=\"text-align: right;\">\n",
       "      <th></th>\n",
       "      <th>chain</th>\n",
       "      <th>no_chain</th>\n",
       "    </tr>\n",
       "    <tr>\n",
       "      <th>type</th>\n",
       "      <th></th>\n",
       "      <th></th>\n",
       "    </tr>\n",
       "  </thead>\n",
       "  <tbody>\n",
       "    <tr>\n",
       "      <td>фастфуд</td>\n",
       "      <td>0.41</td>\n",
       "      <td>0.59</td>\n",
       "    </tr>\n",
       "    <tr>\n",
       "      <td>кулинария</td>\n",
       "      <td>0.29</td>\n",
       "      <td>0.71</td>\n",
       "    </tr>\n",
       "    <tr>\n",
       "      <td>ресторан</td>\n",
       "      <td>0.24</td>\n",
       "      <td>0.76</td>\n",
       "    </tr>\n",
       "    <tr>\n",
       "      <td>кафе</td>\n",
       "      <td>0.23</td>\n",
       "      <td>0.77</td>\n",
       "    </tr>\n",
       "    <tr>\n",
       "      <td>закусочная</td>\n",
       "      <td>0.16</td>\n",
       "      <td>0.84</td>\n",
       "    </tr>\n",
       "    <tr>\n",
       "      <td>кафетерий</td>\n",
       "      <td>0.13</td>\n",
       "      <td>0.87</td>\n",
       "    </tr>\n",
       "    <tr>\n",
       "      <td>бар</td>\n",
       "      <td>0.04</td>\n",
       "      <td>0.96</td>\n",
       "    </tr>\n",
       "    <tr>\n",
       "      <td>буфет</td>\n",
       "      <td>0.02</td>\n",
       "      <td>0.98</td>\n",
       "    </tr>\n",
       "    <tr>\n",
       "      <td>столовая</td>\n",
       "      <td>0.00</td>\n",
       "      <td>1.00</td>\n",
       "    </tr>\n",
       "  </tbody>\n",
       "</table>\n",
       "</div>"
      ],
      "text/plain": [
       "            chain  no_chain\n",
       "type                       \n",
       "фастфуд      0.41      0.59\n",
       "кулинария    0.29      0.71\n",
       "ресторан     0.24      0.76\n",
       "кафе         0.23      0.77\n",
       "закусочная   0.16      0.84\n",
       "кафетерий    0.13      0.87\n",
       "бар          0.04      0.96\n",
       "буфет        0.02      0.98\n",
       "столовая     0.00      1.00"
      ]
     },
     "execution_count": 16,
     "metadata": {},
     "output_type": "execute_result"
    }
   ],
   "source": [
    "# Вычисляем долю сетевых объектов\n",
    "chain_rest_types['chain'] = (chain_rest_types['id'] / chain_rest_types['count']).round(2)\n",
    "\n",
    "# Вычисляем долю несетевых объектов\n",
    "chain_rest_types['no_chain'] = 1 - chain_rest_types['chain']\n",
    "chain_rest_types.index = chain_rest_types['type']\n",
    "\n",
    "# Удаляем лишние столбцы\n",
    "chain_rest_types = chain_rest_types.drop(columns = ['count', 'id', 'type']).sort_values(by = 'chain', ascending = False)\n",
    "chain_rest_types"
   ]
  },
  {
   "cell_type": "code",
   "execution_count": 17,
   "metadata": {},
   "outputs": [
    {
     "data": {
      "image/png": "[encoded data removed]",
      "text/plain": [
       "<Figure size 720x432 with 1 Axes>"
      ]
     },
     "metadata": {},
     "output_type": "display_data"
    }
   ],
   "source": [
    "# Визуализируем с помощью столбчатого графика\n",
    "rcParams['figure.figsize'] = 10, 6\n",
    "chain_rest_types.plot(kind = 'barh', stacked = True)\n",
    "plt.xlim(0, 1)\n",
    "plt.legend(['сетевые', 'несетевые'])\n",
    "plt.ylabel('')\n",
    "plt.title('Соотношение сетевых и несетевых объектов для разных типов заведений', fontsize=14, fontweight='bold')\n",
    "plt.show()"
   ]
  },
  {
   "cell_type": "markdown",
   "metadata": {},
   "source": [
    "Видим, что наибольшая доля сетевых объектов приходится на предприятия быстрого обслуживания (41%). За ними следуют кулинарные отделы магазинов (29%), рестораны (24%), кафе (23%), закусочные (16%) и кафетерии (13%). Среди баров и буфетов доля сетевых заведений составялет менее 5%, а среди столовых г. Москвы, согласно данным, сетевых заведений нет."
   ]
  },
  {
   "cell_type": "markdown",
   "metadata": {},
   "source": [
    "#### Количество посадочных мест в сетевых заведениях\n",
    "\n",
    "Узнаем, какое количество посадочных мест характерно для сетевых заведений."
   ]
  },
  {
   "cell_type": "code",
   "execution_count": 18,
   "metadata": {},
   "outputs": [],
   "source": [
    "# Выбираем рестораны, относящиеся к сетевым\n",
    "chain_rests = data.query('is_chain == \"да\"')\n",
    "\n",
    "# Переводим все названия в нижний регистр и вычищаем лишние пробелы для последующей группировки \n",
    "chain_rests['name'] = chain_rests['name'].str.lower().str.strip()\n",
    "\n",
    "# Удаляем из названия лишние кавычки, тип заведения и пр.\n",
    "chain_rests['name'] = chain_rests['name'].str.replace('\"|кафе|кальянная|кальян-|японский|хинкальная|пекарня|быстрого питания|и кондитерская|кофейня|закусочная|- буфет|предприятие быстрого обслуживания|кулинарное бюро|семейное|семейное и кондитерская|семейный|чешская пивная|предприятие быстрого питания|пиццерия|детский клуб|пицца|ресторан|бар|«|»', '')\n",
    "chain_rests['name'] = chain_rests['name'].str.replace('\"|-|кафе|кальянная|кальян-|японский|хинкальная|пекарня|быстрого питания|и кондитерская|кофейня|закусочная|- буфет|предприятие быстрого обслуживания|кулинарное бюро|семейное|семейное и кондитерская|семейный|чешская пивная|предприятие быстрого питания|пиццерия|детский клуб|пицца|ресторан|бар|«|»', '')\n",
    "\n",
    "# Убираем лишние пробелы\n",
    "chain_rests['name'] = chain_rests['name'].str.strip()"
   ]
  },
  {
   "cell_type": "code",
   "execution_count": 19,
   "metadata": {},
   "outputs": [
    {
     "data": {
      "text/html": [
       "<div>\n",
       "<style scoped>\n",
       "    .dataframe tbody tr th:only-of-type {\n",
       "        vertical-align: middle;\n",
       "    }\n",
       "\n",
       "    .dataframe tbody tr th {\n",
       "        vertical-align: top;\n",
       "    }\n",
       "\n",
       "    .dataframe thead th {\n",
       "        text-align: right;\n",
       "    }\n",
       "</style>\n",
       "<table border=\"1\" class=\"dataframe\">\n",
       "  <thead>\n",
       "    <tr style=\"text-align: right;\">\n",
       "      <th></th>\n",
       "      <th>name</th>\n",
       "      <th>rests_qty</th>\n",
       "      <th>median_seating</th>\n",
       "    </tr>\n",
       "  </thead>\n",
       "  <tbody>\n",
       "    <tr>\n",
       "      <td>0</td>\n",
       "      <td>шоколадница</td>\n",
       "      <td>180</td>\n",
       "      <td>50.0</td>\n",
       "    </tr>\n",
       "    <tr>\n",
       "      <td>1</td>\n",
       "      <td>kfc</td>\n",
       "      <td>172</td>\n",
       "      <td>45.5</td>\n",
       "    </tr>\n",
       "    <tr>\n",
       "      <td>2</td>\n",
       "      <td>макдоналдс</td>\n",
       "      <td>168</td>\n",
       "      <td>79.0</td>\n",
       "    </tr>\n",
       "    <tr>\n",
       "      <td>3</td>\n",
       "      <td>бургер кинг</td>\n",
       "      <td>151</td>\n",
       "      <td>45.0</td>\n",
       "    </tr>\n",
       "    <tr>\n",
       "      <td>4</td>\n",
       "      <td>теремок</td>\n",
       "      <td>107</td>\n",
       "      <td>24.0</td>\n",
       "    </tr>\n",
       "    <tr>\n",
       "      <td>...</td>\n",
       "      <td>...</td>\n",
       "      <td>...</td>\n",
       "      <td>...</td>\n",
       "    </tr>\n",
       "    <tr>\n",
       "      <td>403</td>\n",
       "      <td>москва  макдоналдс</td>\n",
       "      <td>1</td>\n",
       "      <td>70.0</td>\n",
       "    </tr>\n",
       "    <tr>\n",
       "      <td>404</td>\n",
       "      <td>starbucks, старбакс кофе</td>\n",
       "      <td>1</td>\n",
       "      <td>40.0</td>\n",
       "    </tr>\n",
       "    <tr>\n",
       "      <td>405</td>\n",
       "      <td>мск московская сеть кальянных на шаболовке</td>\n",
       "      <td>1</td>\n",
       "      <td>70.0</td>\n",
       "    </tr>\n",
       "    <tr>\n",
       "      <td>406</td>\n",
       "      <td>starbucks старбакс</td>\n",
       "      <td>1</td>\n",
       "      <td>34.0</td>\n",
       "    </tr>\n",
       "    <tr>\n",
       "      <td>407</td>\n",
       "      <td>нияма.  пи</td>\n",
       "      <td>1</td>\n",
       "      <td>215.0</td>\n",
       "    </tr>\n",
       "  </tbody>\n",
       "</table>\n",
       "<p>408 rows × 3 columns</p>\n",
       "</div>"
      ],
      "text/plain": [
       "                                           name  rests_qty  median_seating\n",
       "0                                   шоколадница        180            50.0\n",
       "1                                           kfc        172            45.5\n",
       "2                                    макдоналдс        168            79.0\n",
       "3                                   бургер кинг        151            45.0\n",
       "4                                       теремок        107            24.0\n",
       "..                                          ...        ...             ...\n",
       "403                          москва  макдоналдс          1            70.0\n",
       "404                    starbucks, старбакс кофе          1            40.0\n",
       "405  мск московская сеть кальянных на шаболовке          1            70.0\n",
       "406                          starbucks старбакс          1            34.0\n",
       "407                                  нияма.  пи          1           215.0\n",
       "\n",
       "[408 rows x 3 columns]"
      ]
     },
     "execution_count": 19,
     "metadata": {},
     "output_type": "execute_result"
    }
   ],
   "source": [
    "# Группируем по названию и считаем количество заведений в сети и медиану количества посадочных мест\n",
    "chain_size = (chain_rests\n",
    "              .groupby('name')\n",
    "              .agg({'id' : 'count', 'seating_capacity' : 'median'})\n",
    "              .sort_values(by = 'id', ascending = False)\n",
    "              .reset_index()\n",
    "             )\n",
    "# Переименовываем столбцы\n",
    "chain_size.columns = ['name', 'rests_qty', 'median_seating']\n",
    "\n",
    "# Смотрим результат\n",
    "chain_size"
   ]
  },
  {
   "cell_type": "code",
   "execution_count": 20,
   "metadata": {},
   "outputs": [
    {
     "data": {
      "text/plain": [
       "197"
      ]
     },
     "execution_count": 20,
     "metadata": {},
     "output_type": "execute_result"
    }
   ],
   "source": [
    "# Посмотрим, количество сетей (предварительно удалив сети, в которых только 1 заведение, \n",
    "# так как, скорее всего, это связано с различным написанием названий сети\n",
    "chain_size = chain_size.query('rests_qty != 1')\n",
    "\n",
    "len(chain_size)"
   ]
  },
  {
   "cell_type": "markdown",
   "metadata": {},
   "source": [
    "Всего мы выявили 197 сетей. "
   ]
  },
  {
   "cell_type": "code",
   "execution_count": 21,
   "metadata": {},
   "outputs": [
    {
     "data": {
      "image/png": "[encoded data removed]",
      "text/plain": [
       "<Figure size 864x432 with 1 Axes>"
      ]
     },
     "metadata": {},
     "output_type": "display_data"
    }
   ],
   "source": [
    "plt.figure(figsize = (12, 6))\n",
    "chain_size['rests_qty'].hist(bins = 36, range = (0, 180))\n",
    "plt.xlabel('количество объектов в сети')\n",
    "plt.ylabel('количество сетей')\n",
    "plt.title('Распределение количества объектов в сети', fontsize = 14, fontweight = 'bold')\n",
    "plt.show()"
   ]
  },
  {
   "cell_type": "markdown",
   "metadata": {},
   "source": [
    "Видим, что согласно данным, большая часть сетей имеет до 20 объектов.\n",
    "\n",
    "Проанализируем одновременно количество объектов в сети и количество мест на каждом объекте."
   ]
  },
  {
   "cell_type": "code",
   "execution_count": 22,
   "metadata": {},
   "outputs": [],
   "source": [
    "# Выделим данные по сетевым кафе в отдельный датафрейм\n",
    "data_chains = chain_rests.query(\"name.isin(@chain_size.name)\")"
   ]
  },
  {
   "cell_type": "code",
   "execution_count": 23,
   "metadata": {},
   "outputs": [
    {
     "data": {
      "text/html": [
       "<div>\n",
       "<style scoped>\n",
       "    .dataframe tbody tr th:only-of-type {\n",
       "        vertical-align: middle;\n",
       "    }\n",
       "\n",
       "    .dataframe tbody tr th {\n",
       "        vertical-align: top;\n",
       "    }\n",
       "\n",
       "    .dataframe thead th {\n",
       "        text-align: right;\n",
       "    }\n",
       "</style>\n",
       "<table border=\"1\" class=\"dataframe\">\n",
       "  <thead>\n",
       "    <tr style=\"text-align: right;\">\n",
       "      <th></th>\n",
       "      <th>id</th>\n",
       "      <th>name</th>\n",
       "      <th>is_chain</th>\n",
       "      <th>type</th>\n",
       "      <th>address</th>\n",
       "      <th>seating_capacity</th>\n",
       "      <th>rests_qty</th>\n",
       "      <th>median_seating</th>\n",
       "    </tr>\n",
       "  </thead>\n",
       "  <tbody>\n",
       "    <tr>\n",
       "      <td>0</td>\n",
       "      <td>21894</td>\n",
       "      <td>пиццетория</td>\n",
       "      <td>да</td>\n",
       "      <td>кафе</td>\n",
       "      <td>город Москва, Абрамцевская улица, дом 1</td>\n",
       "      <td>40</td>\n",
       "      <td>2</td>\n",
       "      <td>32.5</td>\n",
       "    </tr>\n",
       "    <tr>\n",
       "      <td>1</td>\n",
       "      <td>148815</td>\n",
       "      <td>брусника</td>\n",
       "      <td>да</td>\n",
       "      <td>кафе</td>\n",
       "      <td>город Москва, переулок Сивцев Вражек, дом 6/2</td>\n",
       "      <td>10</td>\n",
       "      <td>8</td>\n",
       "      <td>33.0</td>\n",
       "    </tr>\n",
       "    <tr>\n",
       "      <td>2</td>\n",
       "      <td>22579</td>\n",
       "      <td>алло</td>\n",
       "      <td>да</td>\n",
       "      <td>кафе</td>\n",
       "      <td>город Москва, улица Авиаторов, дом 14</td>\n",
       "      <td>32</td>\n",
       "      <td>15</td>\n",
       "      <td>32.0</td>\n",
       "    </tr>\n",
       "    <tr>\n",
       "      <td>3</td>\n",
       "      <td>144107</td>\n",
       "      <td>суши wok</td>\n",
       "      <td>да</td>\n",
       "      <td>фастфуд</td>\n",
       "      <td>город Москва, Азовская улица, дом 3</td>\n",
       "      <td>7</td>\n",
       "      <td>75</td>\n",
       "      <td>6.0</td>\n",
       "    </tr>\n",
       "    <tr>\n",
       "      <td>4</td>\n",
       "      <td>58565</td>\n",
       "      <td>тануки</td>\n",
       "      <td>да</td>\n",
       "      <td>ресторан</td>\n",
       "      <td>город Москва, Большая Академическая улица, дом 65</td>\n",
       "      <td>160</td>\n",
       "      <td>47</td>\n",
       "      <td>98.0</td>\n",
       "    </tr>\n",
       "  </tbody>\n",
       "</table>\n",
       "</div>"
      ],
      "text/plain": [
       "       id        name is_chain      type  \\\n",
       "0   21894  пиццетория       да      кафе   \n",
       "1  148815    брусника       да      кафе   \n",
       "2   22579        алло       да      кафе   \n",
       "3  144107    суши wok       да   фастфуд   \n",
       "4   58565      тануки       да  ресторан   \n",
       "\n",
       "                                             address  seating_capacity  \\\n",
       "0            город Москва, Абрамцевская улица, дом 1                40   \n",
       "1      город Москва, переулок Сивцев Вражек, дом 6/2                10   \n",
       "2              город Москва, улица Авиаторов, дом 14                32   \n",
       "3                город Москва, Азовская улица, дом 3                 7   \n",
       "4  город Москва, Большая Академическая улица, дом 65               160   \n",
       "\n",
       "   rests_qty  median_seating  \n",
       "0          2            32.5  \n",
       "1          8            33.0  \n",
       "2         15            32.0  \n",
       "3         75             6.0  \n",
       "4         47            98.0  "
      ]
     },
     "execution_count": 23,
     "metadata": {},
     "output_type": "execute_result"
    }
   ],
   "source": [
    "# Добавляем данные по размерам сетей\n",
    "data_chains = data_chains.merge(chain_size, left_on = 'name', right_on = 'name', how = 'left')\n",
    "data_chains.head(5)"
   ]
  },
  {
   "cell_type": "code",
   "execution_count": 24,
   "metadata": {},
   "outputs": [
    {
     "data": {
      "image/png": "[encoded data removed]",
      "text/plain": [
       "<Figure size 432x432 with 3 Axes>"
      ]
     },
     "metadata": {},
     "output_type": "display_data"
    }
   ],
   "source": [
    "# Визуализирум данные с помощью графика jointplot\n",
    "rcParams['figure.figsize'] = 9, 9\n",
    "sns.jointplot(x = 'seating_capacity', y = 'rests_qty', data = data_chains, kind = 'hex')\n",
    "plt.show()"
   ]
  },
  {
   "cell_type": "code",
   "execution_count": 25,
   "metadata": {},
   "outputs": [
    {
     "data": {
      "image/png": "[encoded data removed]",
      "text/plain": [
       "<Figure size 432x432 with 3 Axes>"
      ]
     },
     "metadata": {},
     "output_type": "display_data"
    }
   ],
   "source": [
    "# Ограничим диапазон данных по количеству посадочных мест\n",
    "rcParams['figure.figsize'] = 9, 9\n",
    "sns.jointplot(x = 'seating_capacity', y = 'rests_qty', data = data_chains, xlim = (0, 200), alpha = 0.7)\n",
    "plt.show()"
   ]
  },
  {
   "cell_type": "markdown",
   "metadata": {},
   "source": [
    "Судя по графику, больше всего заведений относятся к сетям с количеством объектов от 2 до 40 и количеством посадочных мест от 0 до 50.\n",
    "\n",
    "Посмотрим на распределение посадочных мест в крупных сетях."
   ]
  },
  {
   "cell_type": "code",
   "execution_count": 26,
   "metadata": {},
   "outputs": [
    {
     "data": {
      "text/html": [
       "<div>\n",
       "<style scoped>\n",
       "    .dataframe tbody tr th:only-of-type {\n",
       "        vertical-align: middle;\n",
       "    }\n",
       "\n",
       "    .dataframe tbody tr th {\n",
       "        vertical-align: top;\n",
       "    }\n",
       "\n",
       "    .dataframe thead th {\n",
       "        text-align: right;\n",
       "    }\n",
       "</style>\n",
       "<table border=\"1\" class=\"dataframe\">\n",
       "  <thead>\n",
       "    <tr style=\"text-align: right;\">\n",
       "      <th></th>\n",
       "      <th>name</th>\n",
       "      <th>rests_qty</th>\n",
       "      <th>median_seating</th>\n",
       "    </tr>\n",
       "  </thead>\n",
       "  <tbody>\n",
       "    <tr>\n",
       "      <td>0</td>\n",
       "      <td>шоколадница</td>\n",
       "      <td>180</td>\n",
       "      <td>50.0</td>\n",
       "    </tr>\n",
       "    <tr>\n",
       "      <td>1</td>\n",
       "      <td>kfc</td>\n",
       "      <td>172</td>\n",
       "      <td>45.5</td>\n",
       "    </tr>\n",
       "    <tr>\n",
       "      <td>2</td>\n",
       "      <td>макдоналдс</td>\n",
       "      <td>168</td>\n",
       "      <td>79.0</td>\n",
       "    </tr>\n",
       "    <tr>\n",
       "      <td>3</td>\n",
       "      <td>бургер кинг</td>\n",
       "      <td>151</td>\n",
       "      <td>45.0</td>\n",
       "    </tr>\n",
       "    <tr>\n",
       "      <td>4</td>\n",
       "      <td>теремок</td>\n",
       "      <td>107</td>\n",
       "      <td>24.0</td>\n",
       "    </tr>\n",
       "    <tr>\n",
       "      <td>5</td>\n",
       "      <td>домино'с</td>\n",
       "      <td>98</td>\n",
       "      <td>16.0</td>\n",
       "    </tr>\n",
       "    <tr>\n",
       "      <td>6</td>\n",
       "      <td>крошка картошка</td>\n",
       "      <td>95</td>\n",
       "      <td>15.0</td>\n",
       "    </tr>\n",
       "    <tr>\n",
       "      <td>7</td>\n",
       "      <td>суши wok</td>\n",
       "      <td>75</td>\n",
       "      <td>6.0</td>\n",
       "    </tr>\n",
       "    <tr>\n",
       "      <td>8</td>\n",
       "      <td>милти</td>\n",
       "      <td>75</td>\n",
       "      <td>0.0</td>\n",
       "    </tr>\n",
       "    <tr>\n",
       "      <td>9</td>\n",
       "      <td>папа джонс</td>\n",
       "      <td>66</td>\n",
       "      <td>20.0</td>\n",
       "    </tr>\n",
       "  </tbody>\n",
       "</table>\n",
       "</div>"
      ],
      "text/plain": [
       "              name  rests_qty  median_seating\n",
       "0      шоколадница        180            50.0\n",
       "1              kfc        172            45.5\n",
       "2       макдоналдс        168            79.0\n",
       "3      бургер кинг        151            45.0\n",
       "4          теремок        107            24.0\n",
       "5         домино'с         98            16.0\n",
       "6  крошка картошка         95            15.0\n",
       "7         суши wok         75             6.0\n",
       "8            милти         75             0.0\n",
       "9       папа джонс         66            20.0"
      ]
     },
     "execution_count": 26,
     "metadata": {},
     "output_type": "execute_result"
    }
   ],
   "source": [
    "# Выделяем топ-10 сетей по количеству объектов\n",
    "chain_size_top10 = chain_size.head(10)\n",
    "\n",
    "chain_size_top10"
   ]
  },
  {
   "cell_type": "code",
   "execution_count": 27,
   "metadata": {},
   "outputs": [
    {
     "data": {
      "text/plain": [
       "32.0"
      ]
     },
     "execution_count": 27,
     "metadata": {},
     "output_type": "execute_result"
    }
   ],
   "source": [
    "# Выбираем данные заведений, относящихся к топ-10 сетям \n",
    "data_top10_chains = chain_rests.query(\"name.isin(@chain_size_top10.name)\")\n",
    "\n",
    "# Посмотрим медиану количества посадочных мест в крупных сетях\n",
    "data_top10_chains['seating_capacity'].median()"
   ]
  },
  {
   "cell_type": "code",
   "execution_count": 28,
   "metadata": {},
   "outputs": [
    {
     "data": {
      "image/png": "[encoded data removed]",
      "text/plain": [
       "<Figure size 432x576 with 1 Axes>"
      ]
     },
     "metadata": {},
     "output_type": "display_data"
    }
   ],
   "source": [
    "# Визуализируем данные по количеству посадочных мест в выбранных ресторанах с помощью графика \"скрипка\"\n",
    "plt.figure(figsize = (6, 8))\n",
    "sns.boxplot(y = 'seating_capacity', data = data_top10_chains)\n",
    "plt.xlabel('количество посадочных мест')\n",
    "plt.title('Распределение количества посадочных мест в крупных сетях', fontsize = 14, fontweight = 'bold')\n",
    "plt.show()"
   ]
  },
  {
   "cell_type": "code",
   "execution_count": 29,
   "metadata": {},
   "outputs": [
    {
     "data": {
      "image/png": "[encoded data removed]",
      "text/plain": [
       "<Figure size 864x432 with 1 Axes>"
      ]
     },
     "metadata": {},
     "output_type": "display_data"
    }
   ],
   "source": [
    "# Визуализируем данные по количеству посадочных мест в сетевых ресторанах с помощью графика \"скрипка\"\n",
    "plt.figure(figsize = (12, 6))\n",
    "sns.violinplot(y = 'seating_capacity', data = data_top10_chains, orient = 'h', grid = True)\n",
    "# Ограничим диапазон посадочных мест максимумом в 200 \n",
    "plt.xlim(-20, 200)\n",
    "plt.xlabel('количество посадочных мест')\n",
    "plt.title('Распределение количества посадочных мест в крупных сетях', fontsize = 14, fontweight = 'bold')\n",
    "plt.show()"
   ]
  },
  {
   "cell_type": "markdown",
   "metadata": {},
   "source": [
    "К топ-10 сетям г. Москвы по количеству заведений можно отнести следующие:\n",
    " - Шоколадница (180 объектов), \n",
    " - KFC (172\tобъекта),\n",
    " - Макдоналдс (168 объектов),\n",
    " - Бургер Кинг (151\tобъект),\n",
    " - Теремок (107\tобъектов), \n",
    " - Домино'с\t(98 объектов),\n",
    " - Крошка-картошка (95 объектов)\n",
    " - Суши wok (75\tобъектов), \n",
    " - Милти (75 объектов),\n",
    " - Папа Джонс (66 объектов).\n",
    " \n",
    "По результатам анализа количества посадочных мест в крупных сетях можно отметить, что большая часть заведений имеет от 0 до 70 посадочных мест, с медианой 32 посадочных места. \n",
    " \n",
    "На следующем этапе сравним количество посадочных мест в сетях с количеством посадочных мест в целом в различных типах заведений."
   ]
  },
  {
   "cell_type": "markdown",
   "metadata": {},
   "source": [
    "#### Количество посадочных мест по типам заведений\n",
    "\n",
    "Проанализируем количество посадочных мест по типам заведений. Для этого визуализируем количество посадочных мест для каждого типа с помощью графика \"ящик с усами\". Для большей наглядности установим верхнюю границу на 450 посадочных местах."
   ]
  },
  {
   "cell_type": "code",
   "execution_count": 30,
   "metadata": {},
   "outputs": [
    {
     "data": {
      "text/html": [
       "<div>\n",
       "<style scoped>\n",
       "    .dataframe tbody tr th:only-of-type {\n",
       "        vertical-align: middle;\n",
       "    }\n",
       "\n",
       "    .dataframe tbody tr th {\n",
       "        vertical-align: top;\n",
       "    }\n",
       "\n",
       "    .dataframe thead tr th {\n",
       "        text-align: left;\n",
       "    }\n",
       "\n",
       "    .dataframe thead tr:last-of-type th {\n",
       "        text-align: right;\n",
       "    }\n",
       "</style>\n",
       "<table border=\"1\" class=\"dataframe\">\n",
       "  <thead>\n",
       "    <tr>\n",
       "      <th></th>\n",
       "      <th colspan=\"2\" halign=\"left\">seating_capacity</th>\n",
       "    </tr>\n",
       "    <tr>\n",
       "      <th></th>\n",
       "      <th>mean</th>\n",
       "      <th>median</th>\n",
       "    </tr>\n",
       "    <tr>\n",
       "      <th>type</th>\n",
       "      <th></th>\n",
       "      <th></th>\n",
       "    </tr>\n",
       "  </thead>\n",
       "  <tbody>\n",
       "    <tr>\n",
       "      <td>бар</td>\n",
       "      <td>43.609412</td>\n",
       "      <td>35</td>\n",
       "    </tr>\n",
       "    <tr>\n",
       "      <td>буфет</td>\n",
       "      <td>51.654321</td>\n",
       "      <td>32</td>\n",
       "    </tr>\n",
       "    <tr>\n",
       "      <td>закусочная</td>\n",
       "      <td>6.884058</td>\n",
       "      <td>0</td>\n",
       "    </tr>\n",
       "    <tr>\n",
       "      <td>кафе</td>\n",
       "      <td>39.902549</td>\n",
       "      <td>32</td>\n",
       "    </tr>\n",
       "    <tr>\n",
       "      <td>кафетерий</td>\n",
       "      <td>9.155612</td>\n",
       "      <td>6</td>\n",
       "    </tr>\n",
       "    <tr>\n",
       "      <td>кулинария</td>\n",
       "      <td>5.610294</td>\n",
       "      <td>0</td>\n",
       "    </tr>\n",
       "    <tr>\n",
       "      <td>ресторан</td>\n",
       "      <td>97.109595</td>\n",
       "      <td>80</td>\n",
       "    </tr>\n",
       "    <tr>\n",
       "      <td>столовая</td>\n",
       "      <td>130.457621</td>\n",
       "      <td>103</td>\n",
       "    </tr>\n",
       "    <tr>\n",
       "      <td>фастфуд</td>\n",
       "      <td>20.743372</td>\n",
       "      <td>6</td>\n",
       "    </tr>\n",
       "  </tbody>\n",
       "</table>\n",
       "</div>"
      ],
      "text/plain": [
       "           seating_capacity       \n",
       "                       mean median\n",
       "type                              \n",
       "бар               43.609412     35\n",
       "буфет             51.654321     32\n",
       "закусочная         6.884058      0\n",
       "кафе              39.902549     32\n",
       "кафетерий          9.155612      6\n",
       "кулинария          5.610294      0\n",
       "ресторан          97.109595     80\n",
       "столовая         130.457621    103\n",
       "фастфуд           20.743372      6"
      ]
     },
     "execution_count": 30,
     "metadata": {},
     "output_type": "execute_result"
    }
   ],
   "source": [
    "# Группируем данные по типу, считаем среднее количество посадочных мест и медиану\n",
    "median_seating_capacity = data.groupby('type').agg({'seating_capacity' : ['mean', 'median']})\n",
    "median_seating_capacity"
   ]
  },
  {
   "cell_type": "code",
   "execution_count": 31,
   "metadata": {},
   "outputs": [
    {
     "data": {
      "image/png": "[encoded data removed]",
      "text/plain": [
       "<Figure size 864x432 with 1 Axes>"
      ]
     },
     "metadata": {},
     "output_type": "display_data"
    }
   ],
   "source": [
    "# Строим \"ящик с усами\"\n",
    "plt.figure(figsize = (12, 6))\n",
    "sns.boxplot(x = \"type\", \n",
    "            y = \"seating_capacity\", \n",
    "            data = data.query('seating_capacity < 450'), \n",
    "            order = ['столовая', 'ресторан', 'буфет', 'кафе', 'бар', \n",
    "                   'фастфуд', 'кафетерий', \n",
    "                   'закусочная', 'кулинария'],\n",
    "            palette = 'bright') \n",
    "plt.title('Распределение количества посадочных мест по типам заведений',\n",
    "         fontsize = 14, fontweight = 'bold')\n",
    "plt.xticks(rotation = 45)\n",
    "plt.xlabel('')\n",
    "plt.ylabel('количество посадочных мест')\n",
    "plt.show()"
   ]
  },
  {
   "cell_type": "markdown",
   "metadata": {},
   "source": [
    "Видим, что наибольшее количество посадочных мест характерно для заведений типа \"столовая\" (медиана - 103 места). За ними следуют рестораны с медианой в 80 посадочных мест. На третьем месте - бары, буфеты и кафе, у которых медиана 30-35 мест. \n",
    "\n",
    "В данном случае мы выбрали медиану в качестве меры центральной тенденции, так как по графику видно, что распределения скошены вправо (имеют длинный \"хвост\" и выбросы), и, соответственно, среднее - как более подверженное влиянию выбросов - хуже отражает реальную картину."
   ]
  },
  {
   "cell_type": "markdown",
   "metadata": {},
   "source": [
    "#### Распределение заведений по улицам и районам\n",
    "\n",
    "Посмотрим, как распределены предприятия общественного питания по районам и улицам Москвы. Найдем улицы с наибольшим количеством предприятий общественного питания и с наименьшим количеством. Проанализируем, в каких районах они находятся."
   ]
  },
  {
   "cell_type": "code",
   "execution_count": 32,
   "metadata": {},
   "outputs": [],
   "source": [
    "# Выделяем в отдельный столбец информацию об улице из столбца address\n",
    "data['street'] = (data['address']\n",
    "                  .str\n",
    "                  .extract('(([А-яё0-9-\\s]+)?(улица|переулок|шоссе|просек|тупик|посёлок|территория|проспект|корпус|километр|переулок|линия|Проезд|поселение|аллея|квартал|микрорайон|проезд|бульвар|набережная|площадь)([А-яё0-9-\\s]+)?)')[0]\n",
    "                 )"
   ]
  },
  {
   "cell_type": "code",
   "execution_count": 33,
   "metadata": {},
   "outputs": [
    {
     "data": {
      "text/html": [
       "<div>\n",
       "<style scoped>\n",
       "    .dataframe tbody tr th:only-of-type {\n",
       "        vertical-align: middle;\n",
       "    }\n",
       "\n",
       "    .dataframe tbody tr th {\n",
       "        vertical-align: top;\n",
       "    }\n",
       "\n",
       "    .dataframe thead th {\n",
       "        text-align: right;\n",
       "    }\n",
       "</style>\n",
       "<table border=\"1\" class=\"dataframe\">\n",
       "  <thead>\n",
       "    <tr style=\"text-align: right;\">\n",
       "      <th></th>\n",
       "      <th>id</th>\n",
       "      <th>name</th>\n",
       "      <th>is_chain</th>\n",
       "      <th>type</th>\n",
       "      <th>address</th>\n",
       "      <th>seating_capacity</th>\n",
       "      <th>street</th>\n",
       "    </tr>\n",
       "  </thead>\n",
       "  <tbody>\n",
       "  </tbody>\n",
       "</table>\n",
       "</div>"
      ],
      "text/plain": [
       "Empty DataFrame\n",
       "Columns: [id, name, is_chain, type, address, seating_capacity, street]\n",
       "Index: []"
      ]
     },
     "execution_count": 33,
     "metadata": {},
     "output_type": "execute_result"
    }
   ],
   "source": [
    "# Проверяем, не осталось ли незаполненных строк в столбце с названием улицы\n",
    "data.query('street.isna()')"
   ]
  },
  {
   "cell_type": "code",
   "execution_count": 34,
   "metadata": {},
   "outputs": [],
   "source": [
    "# Выделим только название улицы в отдельный столбец для объединения с данными по районам\n",
    "data['street_name'] = data['street'].str.replace('улица|переулок|шоссе|просек|тупик|посёлок|территория|проспект|километр|переулок|линия|Проезд|поселение|аллея|квартал|микрорайон|проезд|бульвар|набережная|площадь', '')\n",
    "\n",
    "# Приведем написание к нижнему регистру и уберем лишние пробелы\n",
    "data['street_name'] = data['street_name'].str.lower().str.strip()    "
   ]
  },
  {
   "cell_type": "code",
   "execution_count": 35,
   "metadata": {},
   "outputs": [
    {
     "data": {
      "text/html": [
       "<div>\n",
       "<style scoped>\n",
       "    .dataframe tbody tr th:only-of-type {\n",
       "        vertical-align: middle;\n",
       "    }\n",
       "\n",
       "    .dataframe tbody tr th {\n",
       "        vertical-align: top;\n",
       "    }\n",
       "\n",
       "    .dataframe thead th {\n",
       "        text-align: right;\n",
       "    }\n",
       "</style>\n",
       "<table border=\"1\" class=\"dataframe\">\n",
       "  <thead>\n",
       "    <tr style=\"text-align: right;\">\n",
       "      <th></th>\n",
       "      <th>streetname</th>\n",
       "      <th>okrug</th>\n",
       "      <th>area</th>\n",
       "    </tr>\n",
       "  </thead>\n",
       "  <tbody>\n",
       "    <tr>\n",
       "      <td>0</td>\n",
       "      <td>Выставочный переулок</td>\n",
       "      <td>ЦАО</td>\n",
       "      <td>Пресненский район</td>\n",
       "    </tr>\n",
       "    <tr>\n",
       "      <td>1</td>\n",
       "      <td>улица Гашека</td>\n",
       "      <td>ЦАО</td>\n",
       "      <td>Пресненский район</td>\n",
       "    </tr>\n",
       "    <tr>\n",
       "      <td>2</td>\n",
       "      <td>Большая Никитская улица</td>\n",
       "      <td>ЦАО</td>\n",
       "      <td>Пресненский район</td>\n",
       "    </tr>\n",
       "    <tr>\n",
       "      <td>3</td>\n",
       "      <td>Глубокий переулок</td>\n",
       "      <td>ЦАО</td>\n",
       "      <td>Пресненский район</td>\n",
       "    </tr>\n",
       "    <tr>\n",
       "      <td>4</td>\n",
       "      <td>Большой Гнездниковский переулок</td>\n",
       "      <td>ЦАО</td>\n",
       "      <td>Пресненский район</td>\n",
       "    </tr>\n",
       "  </tbody>\n",
       "</table>\n",
       "</div>"
      ],
      "text/plain": [
       "                        streetname okrug               area\n",
       "0             Выставочный переулок   ЦАО  Пресненский район\n",
       "1                     улица Гашека   ЦАО  Пресненский район\n",
       "2          Большая Никитская улица   ЦАО  Пресненский район\n",
       "3                Глубокий переулок   ЦАО  Пресненский район\n",
       "4  Большой Гнездниковский переулок   ЦАО  Пресненский район"
      ]
     },
     "execution_count": 35,
     "metadata": {},
     "output_type": "execute_result"
    }
   ],
   "source": [
    "# Загружаем файл с районами и округами\n",
    "spreadsheet_id = '17gqoqTe_InjybMiudYvp2oqsY1VIOyXhhMdBG3XiZeg'\n",
    "file_name = 'https://docs.google.com/spreadsheets/d/{}/export?format=csv'.format(spreadsheet_id)\n",
    "r = requests.get(file_name)\n",
    "addresses_mosgaz = pd.read_csv(BytesIO(r.content))\n",
    "addresses_mosgaz = addresses_mosgaz.drop(columns = 'areaid')\n",
    "addresses_mosgaz.head(5)"
   ]
  },
  {
   "cell_type": "code",
   "execution_count": 36,
   "metadata": {},
   "outputs": [
    {
     "data": {
      "text/html": [
       "<div>\n",
       "<style scoped>\n",
       "    .dataframe tbody tr th:only-of-type {\n",
       "        vertical-align: middle;\n",
       "    }\n",
       "\n",
       "    .dataframe tbody tr th {\n",
       "        vertical-align: top;\n",
       "    }\n",
       "\n",
       "    .dataframe thead th {\n",
       "        text-align: right;\n",
       "    }\n",
       "</style>\n",
       "<table border=\"1\" class=\"dataframe\">\n",
       "  <thead>\n",
       "    <tr style=\"text-align: right;\">\n",
       "      <th></th>\n",
       "      <th>streetname</th>\n",
       "      <th>okrug</th>\n",
       "      <th>area</th>\n",
       "      <th>street_name</th>\n",
       "    </tr>\n",
       "  </thead>\n",
       "  <tbody>\n",
       "    <tr>\n",
       "      <td>0</td>\n",
       "      <td>Выставочный переулок</td>\n",
       "      <td>ЦАО</td>\n",
       "      <td>Пресненский район</td>\n",
       "      <td>выставочный</td>\n",
       "    </tr>\n",
       "    <tr>\n",
       "      <td>1</td>\n",
       "      <td>улица Гашека</td>\n",
       "      <td>ЦАО</td>\n",
       "      <td>Пресненский район</td>\n",
       "      <td>гашека</td>\n",
       "    </tr>\n",
       "    <tr>\n",
       "      <td>2</td>\n",
       "      <td>Большая Никитская улица</td>\n",
       "      <td>ЦАО</td>\n",
       "      <td>Пресненский район</td>\n",
       "      <td>большая никитская</td>\n",
       "    </tr>\n",
       "    <tr>\n",
       "      <td>3</td>\n",
       "      <td>Глубокий переулок</td>\n",
       "      <td>ЦАО</td>\n",
       "      <td>Пресненский район</td>\n",
       "      <td>глубокий</td>\n",
       "    </tr>\n",
       "    <tr>\n",
       "      <td>4</td>\n",
       "      <td>Большой Гнездниковский переулок</td>\n",
       "      <td>ЦАО</td>\n",
       "      <td>Пресненский район</td>\n",
       "      <td>большой гнездниковский</td>\n",
       "    </tr>\n",
       "  </tbody>\n",
       "</table>\n",
       "</div>"
      ],
      "text/plain": [
       "                        streetname okrug               area  \\\n",
       "0             Выставочный переулок   ЦАО  Пресненский район   \n",
       "1                     улица Гашека   ЦАО  Пресненский район   \n",
       "2          Большая Никитская улица   ЦАО  Пресненский район   \n",
       "3                Глубокий переулок   ЦАО  Пресненский район   \n",
       "4  Большой Гнездниковский переулок   ЦАО  Пресненский район   \n",
       "\n",
       "              street_name  \n",
       "0             выставочный  \n",
       "1                  гашека  \n",
       "2       большая никитская  \n",
       "3                глубокий  \n",
       "4  большой гнездниковский  "
      ]
     },
     "execution_count": 36,
     "metadata": {},
     "output_type": "execute_result"
    }
   ],
   "source": [
    "# Выделим название улицы в том же формате, что и в основном наборе данных\n",
    "addresses_mosgaz['street_name'] = addresses_mosgaz['streetname'].str.replace('улица|переулок|шоссе|просек|тупик|посёлок|территория|проспект|километр|переулок|линия|Проезд|поселение|аллея|квартал|микрорайон|проезд|бульвар|набережная|площадь', '')\n",
    "\n",
    "# Приведем написание к нижнему регистру и уберем лишние пробелы\n",
    "addresses_mosgaz['street_name'] = addresses_mosgaz['street_name'].str.lower().str.strip()  \n",
    "\n",
    "addresses_mosgaz.head(5)"
   ]
  },
  {
   "cell_type": "markdown",
   "metadata": {},
   "source": [
    "Теперь изучим, на каких улицах находится наибольшее количество кафе."
   ]
  },
  {
   "cell_type": "code",
   "execution_count": 37,
   "metadata": {},
   "outputs": [
    {
     "data": {
      "text/html": [
       "<div>\n",
       "<style scoped>\n",
       "    .dataframe tbody tr th:only-of-type {\n",
       "        vertical-align: middle;\n",
       "    }\n",
       "\n",
       "    .dataframe tbody tr th {\n",
       "        vertical-align: top;\n",
       "    }\n",
       "\n",
       "    .dataframe thead th {\n",
       "        text-align: right;\n",
       "    }\n",
       "</style>\n",
       "<table border=\"1\" class=\"dataframe\">\n",
       "  <thead>\n",
       "    <tr style=\"text-align: right;\">\n",
       "      <th></th>\n",
       "      <th>street</th>\n",
       "      <th>street_name</th>\n",
       "      <th>restaurants_qty</th>\n",
       "    </tr>\n",
       "  </thead>\n",
       "  <tbody>\n",
       "    <tr>\n",
       "      <td>0</td>\n",
       "      <td>проспект Мира</td>\n",
       "      <td>мира</td>\n",
       "      <td>197</td>\n",
       "    </tr>\n",
       "    <tr>\n",
       "      <td>1</td>\n",
       "      <td>Профсоюзная улица</td>\n",
       "      <td>профсоюзная</td>\n",
       "      <td>179</td>\n",
       "    </tr>\n",
       "    <tr>\n",
       "      <td>2</td>\n",
       "      <td>Ленинградский проспект</td>\n",
       "      <td>ленинградский</td>\n",
       "      <td>169</td>\n",
       "    </tr>\n",
       "    <tr>\n",
       "      <td>3</td>\n",
       "      <td>Пресненская набережная</td>\n",
       "      <td>пресненская</td>\n",
       "      <td>165</td>\n",
       "    </tr>\n",
       "    <tr>\n",
       "      <td>4</td>\n",
       "      <td>Варшавское шоссе</td>\n",
       "      <td>варшавское</td>\n",
       "      <td>162</td>\n",
       "    </tr>\n",
       "    <tr>\n",
       "      <td>5</td>\n",
       "      <td>Ленинский проспект</td>\n",
       "      <td>ленинский</td>\n",
       "      <td>147</td>\n",
       "    </tr>\n",
       "    <tr>\n",
       "      <td>6</td>\n",
       "      <td>поселение Сосенское</td>\n",
       "      <td>сосенское</td>\n",
       "      <td>136</td>\n",
       "    </tr>\n",
       "    <tr>\n",
       "      <td>7</td>\n",
       "      <td>проспект Вернадского</td>\n",
       "      <td>вернадского</td>\n",
       "      <td>127</td>\n",
       "    </tr>\n",
       "    <tr>\n",
       "      <td>8</td>\n",
       "      <td>Кутузовский проспект</td>\n",
       "      <td>кутузовский</td>\n",
       "      <td>112</td>\n",
       "    </tr>\n",
       "    <tr>\n",
       "      <td>9</td>\n",
       "      <td>Каширское шоссе</td>\n",
       "      <td>каширское</td>\n",
       "      <td>110</td>\n",
       "    </tr>\n",
       "    <tr>\n",
       "      <td>10</td>\n",
       "      <td>Кировоградская улица</td>\n",
       "      <td>кировоградская</td>\n",
       "      <td>106</td>\n",
       "    </tr>\n",
       "  </tbody>\n",
       "</table>\n",
       "</div>"
      ],
      "text/plain": [
       "                     street     street_name  restaurants_qty\n",
       "0             проспект Мира            мира              197\n",
       "1         Профсоюзная улица     профсоюзная              179\n",
       "2    Ленинградский проспект   ленинградский              169\n",
       "3    Пресненская набережная     пресненская              165\n",
       "4          Варшавское шоссе      варшавское              162\n",
       "5        Ленинский проспект       ленинский              147\n",
       "6       поселение Сосенское       сосенское              136\n",
       "7      проспект Вернадского     вернадского              127\n",
       "8      Кутузовский проспект     кутузовский              112\n",
       "9           Каширское шоссе       каширское              110\n",
       "10     Кировоградская улица  кировоградская              106"
      ]
     },
     "execution_count": 37,
     "metadata": {},
     "output_type": "execute_result"
    }
   ],
   "source": [
    "# Выделяем топ-10 улиц по количеству объектов\n",
    "top10_streets_with_many_rests = (data\n",
    "                                 .groupby(['street', 'street_name'])\n",
    "                                 .agg({'id': 'count'})\n",
    "                                 .sort_values(by = 'id', ascending = False)\n",
    "                                 .head(11)\n",
    "                                 .reset_index()\n",
    "                                )\n",
    "\n",
    "# Переименовываем столбец\n",
    "top10_streets_with_many_rests.rename(columns={'id': 'restaurants_qty'}, inplace = True)\n",
    "\n",
    "# Смотрим результат\n",
    "top10_streets_with_many_rests"
   ]
  },
  {
   "cell_type": "code",
   "execution_count": 38,
   "metadata": {},
   "outputs": [
    {
     "data": {
      "text/html": [
       "<div>\n",
       "<style scoped>\n",
       "    .dataframe tbody tr th:only-of-type {\n",
       "        vertical-align: middle;\n",
       "    }\n",
       "\n",
       "    .dataframe tbody tr th {\n",
       "        vertical-align: top;\n",
       "    }\n",
       "\n",
       "    .dataframe thead th {\n",
       "        text-align: right;\n",
       "    }\n",
       "</style>\n",
       "<table border=\"1\" class=\"dataframe\">\n",
       "  <thead>\n",
       "    <tr style=\"text-align: right;\">\n",
       "      <th></th>\n",
       "      <th>street</th>\n",
       "      <th>street_name</th>\n",
       "      <th>restaurants_qty</th>\n",
       "    </tr>\n",
       "  </thead>\n",
       "  <tbody>\n",
       "    <tr>\n",
       "      <td>0</td>\n",
       "      <td>проспект Мира</td>\n",
       "      <td>мира</td>\n",
       "      <td>197</td>\n",
       "    </tr>\n",
       "    <tr>\n",
       "      <td>1</td>\n",
       "      <td>Профсоюзная улица</td>\n",
       "      <td>профсоюзная</td>\n",
       "      <td>179</td>\n",
       "    </tr>\n",
       "    <tr>\n",
       "      <td>2</td>\n",
       "      <td>Ленинградский проспект</td>\n",
       "      <td>ленинградский</td>\n",
       "      <td>169</td>\n",
       "    </tr>\n",
       "    <tr>\n",
       "      <td>3</td>\n",
       "      <td>Пресненская набережная</td>\n",
       "      <td>пресненская</td>\n",
       "      <td>165</td>\n",
       "    </tr>\n",
       "    <tr>\n",
       "      <td>4</td>\n",
       "      <td>Варшавское шоссе</td>\n",
       "      <td>варшавское</td>\n",
       "      <td>162</td>\n",
       "    </tr>\n",
       "    <tr>\n",
       "      <td>5</td>\n",
       "      <td>Ленинский проспект</td>\n",
       "      <td>ленинский</td>\n",
       "      <td>147</td>\n",
       "    </tr>\n",
       "    <tr>\n",
       "      <td>7</td>\n",
       "      <td>проспект Вернадского</td>\n",
       "      <td>вернадского</td>\n",
       "      <td>127</td>\n",
       "    </tr>\n",
       "    <tr>\n",
       "      <td>8</td>\n",
       "      <td>Кутузовский проспект</td>\n",
       "      <td>кутузовский</td>\n",
       "      <td>112</td>\n",
       "    </tr>\n",
       "    <tr>\n",
       "      <td>9</td>\n",
       "      <td>Каширское шоссе</td>\n",
       "      <td>каширское</td>\n",
       "      <td>110</td>\n",
       "    </tr>\n",
       "    <tr>\n",
       "      <td>10</td>\n",
       "      <td>Кировоградская улица</td>\n",
       "      <td>кировоградская</td>\n",
       "      <td>106</td>\n",
       "    </tr>\n",
       "  </tbody>\n",
       "</table>\n",
       "</div>"
      ],
      "text/plain": [
       "                     street     street_name  restaurants_qty\n",
       "0             проспект Мира            мира              197\n",
       "1         Профсоюзная улица     профсоюзная              179\n",
       "2    Ленинградский проспект   ленинградский              169\n",
       "3    Пресненская набережная     пресненская              165\n",
       "4          Варшавское шоссе      варшавское              162\n",
       "5        Ленинский проспект       ленинский              147\n",
       "7      проспект Вернадского     вернадского              127\n",
       "8      Кутузовский проспект     кутузовский              112\n",
       "9           Каширское шоссе       каширское              110\n",
       "10     Кировоградская улица  кировоградская              106"
      ]
     },
     "execution_count": 38,
     "metadata": {},
     "output_type": "execute_result"
    }
   ],
   "source": [
    "# Удаляем строку, в которой значится не улица, а целый район\n",
    "top10_streets_with_many_rests = top10_streets_with_many_rests.drop(6)\n",
    "                              \n",
    "# Смотрим результат\n",
    "top10_streets_with_many_rests"
   ]
  },
  {
   "cell_type": "markdown",
   "metadata": {},
   "source": [
    "Теперь посмотрим, в каких районах находятся улицы с большим количеством кафе."
   ]
  },
  {
   "cell_type": "code",
   "execution_count": 39,
   "metadata": {},
   "outputs": [
    {
     "data": {
      "text/html": [
       "<div>\n",
       "<style scoped>\n",
       "    .dataframe tbody tr th:only-of-type {\n",
       "        vertical-align: middle;\n",
       "    }\n",
       "\n",
       "    .dataframe tbody tr th {\n",
       "        vertical-align: top;\n",
       "    }\n",
       "\n",
       "    .dataframe thead th {\n",
       "        text-align: right;\n",
       "    }\n",
       "</style>\n",
       "<table border=\"1\" class=\"dataframe\">\n",
       "  <thead>\n",
       "    <tr style=\"text-align: right;\">\n",
       "      <th></th>\n",
       "      <th>area</th>\n",
       "      <th>street_name</th>\n",
       "    </tr>\n",
       "  </thead>\n",
       "  <tbody>\n",
       "    <tr>\n",
       "      <td>0</td>\n",
       "      <td>Район Дорогомилово</td>\n",
       "      <td>3</td>\n",
       "    </tr>\n",
       "    <tr>\n",
       "      <td>1</td>\n",
       "      <td>Район Чертаново Северное</td>\n",
       "      <td>2</td>\n",
       "    </tr>\n",
       "    <tr>\n",
       "      <td>2</td>\n",
       "      <td>Донской район</td>\n",
       "      <td>2</td>\n",
       "    </tr>\n",
       "    <tr>\n",
       "      <td>3</td>\n",
       "      <td>Ломоносовский район</td>\n",
       "      <td>2</td>\n",
       "    </tr>\n",
       "    <tr>\n",
       "      <td>4</td>\n",
       "      <td>Район Проспект Вернадского</td>\n",
       "      <td>2</td>\n",
       "    </tr>\n",
       "    <tr>\n",
       "      <td>5</td>\n",
       "      <td>Обручевский район</td>\n",
       "      <td>2</td>\n",
       "    </tr>\n",
       "    <tr>\n",
       "      <td>6</td>\n",
       "      <td>Район Теплый Стан</td>\n",
       "      <td>2</td>\n",
       "    </tr>\n",
       "    <tr>\n",
       "      <td>7</td>\n",
       "      <td>Район Нагатино-Садовники</td>\n",
       "      <td>2</td>\n",
       "    </tr>\n",
       "    <tr>\n",
       "      <td>8</td>\n",
       "      <td>Район Чертаново Южное</td>\n",
       "      <td>2</td>\n",
       "    </tr>\n",
       "    <tr>\n",
       "      <td>9</td>\n",
       "      <td>Район Чертаново Центральное</td>\n",
       "      <td>2</td>\n",
       "    </tr>\n",
       "    <tr>\n",
       "      <td>10</td>\n",
       "      <td>Район Тропарево-Никулино</td>\n",
       "      <td>2</td>\n",
       "    </tr>\n",
       "    <tr>\n",
       "      <td>11</td>\n",
       "      <td>Район Гагаринский</td>\n",
       "      <td>2</td>\n",
       "    </tr>\n",
       "    <tr>\n",
       "      <td>12</td>\n",
       "      <td>Район Фили-Давыдково</td>\n",
       "      <td>1</td>\n",
       "    </tr>\n",
       "    <tr>\n",
       "      <td>13</td>\n",
       "      <td>Район Сокол</td>\n",
       "      <td>1</td>\n",
       "    </tr>\n",
       "    <tr>\n",
       "      <td>14</td>\n",
       "      <td>Академический район</td>\n",
       "      <td>1</td>\n",
       "    </tr>\n",
       "    <tr>\n",
       "      <td>15</td>\n",
       "      <td>Район Черемушки</td>\n",
       "      <td>1</td>\n",
       "    </tr>\n",
       "    <tr>\n",
       "      <td>16</td>\n",
       "      <td>Район Свиблово</td>\n",
       "      <td>1</td>\n",
       "    </tr>\n",
       "    <tr>\n",
       "      <td>17</td>\n",
       "      <td>Район Южное Бутово</td>\n",
       "      <td>1</td>\n",
       "    </tr>\n",
       "    <tr>\n",
       "      <td>18</td>\n",
       "      <td>Район Якиманка</td>\n",
       "      <td>1</td>\n",
       "    </tr>\n",
       "    <tr>\n",
       "      <td>19</td>\n",
       "      <td>Район Ясенево</td>\n",
       "      <td>1</td>\n",
       "    </tr>\n",
       "    <tr>\n",
       "      <td>20</td>\n",
       "      <td>Хорошевский район</td>\n",
       "      <td>1</td>\n",
       "    </tr>\n",
       "    <tr>\n",
       "      <td>21</td>\n",
       "      <td>Район Северное Бутово</td>\n",
       "      <td>1</td>\n",
       "    </tr>\n",
       "    <tr>\n",
       "      <td>22</td>\n",
       "      <td>Район Орехово-Борисово Южное</td>\n",
       "      <td>1</td>\n",
       "    </tr>\n",
       "    <tr>\n",
       "      <td>23</td>\n",
       "      <td>Район Ростокино</td>\n",
       "      <td>1</td>\n",
       "    </tr>\n",
       "    <tr>\n",
       "      <td>24</td>\n",
       "      <td>Район Раменки</td>\n",
       "      <td>1</td>\n",
       "    </tr>\n",
       "    <tr>\n",
       "      <td>25</td>\n",
       "      <td>Алексеевский район</td>\n",
       "      <td>1</td>\n",
       "    </tr>\n",
       "    <tr>\n",
       "      <td>26</td>\n",
       "      <td>Район Орехово-Борисово Северное</td>\n",
       "      <td>1</td>\n",
       "    </tr>\n",
       "    <tr>\n",
       "      <td>27</td>\n",
       "      <td>Район Москворечье-Сабурово</td>\n",
       "      <td>1</td>\n",
       "    </tr>\n",
       "    <tr>\n",
       "      <td>28</td>\n",
       "      <td>Район Марьина роща</td>\n",
       "      <td>1</td>\n",
       "    </tr>\n",
       "    <tr>\n",
       "      <td>29</td>\n",
       "      <td>Район Коньково</td>\n",
       "      <td>1</td>\n",
       "    </tr>\n",
       "    <tr>\n",
       "      <td>30</td>\n",
       "      <td>Район Внуково</td>\n",
       "      <td>1</td>\n",
       "    </tr>\n",
       "    <tr>\n",
       "      <td>31</td>\n",
       "      <td>Район Беговой</td>\n",
       "      <td>1</td>\n",
       "    </tr>\n",
       "    <tr>\n",
       "      <td>32</td>\n",
       "      <td>Район Аэропорт</td>\n",
       "      <td>1</td>\n",
       "    </tr>\n",
       "    <tr>\n",
       "      <td>33</td>\n",
       "      <td>Пресненский район</td>\n",
       "      <td>1</td>\n",
       "    </tr>\n",
       "    <tr>\n",
       "      <td>34</td>\n",
       "      <td>Останкинский район</td>\n",
       "      <td>1</td>\n",
       "    </tr>\n",
       "    <tr>\n",
       "      <td>35</td>\n",
       "      <td>Нагорный район</td>\n",
       "      <td>1</td>\n",
       "    </tr>\n",
       "    <tr>\n",
       "      <td>36</td>\n",
       "      <td>Мещанский район</td>\n",
       "      <td>1</td>\n",
       "    </tr>\n",
       "    <tr>\n",
       "      <td>37</td>\n",
       "      <td>Ярославский Район</td>\n",
       "      <td>1</td>\n",
       "    </tr>\n",
       "  </tbody>\n",
       "</table>\n",
       "</div>"
      ],
      "text/plain": [
       "                               area  street_name\n",
       "0                Район Дорогомилово            3\n",
       "1          Район Чертаново Северное            2\n",
       "2                     Донской район            2\n",
       "3               Ломоносовский район            2\n",
       "4        Район Проспект Вернадского            2\n",
       "5                 Обручевский район            2\n",
       "6                 Район Теплый Стан            2\n",
       "7          Район Нагатино-Садовники            2\n",
       "8             Район Чертаново Южное            2\n",
       "9       Район Чертаново Центральное            2\n",
       "10         Район Тропарево-Никулино            2\n",
       "11                Район Гагаринский            2\n",
       "12             Район Фили-Давыдково            1\n",
       "13                      Район Сокол            1\n",
       "14              Академический район            1\n",
       "15                  Район Черемушки            1\n",
       "16                   Район Свиблово            1\n",
       "17               Район Южное Бутово            1\n",
       "18                   Район Якиманка            1\n",
       "19                    Район Ясенево            1\n",
       "20                Хорошевский район            1\n",
       "21            Район Северное Бутово            1\n",
       "22     Район Орехово-Борисово Южное            1\n",
       "23                  Район Ростокино            1\n",
       "24                    Район Раменки            1\n",
       "25               Алексеевский район            1\n",
       "26  Район Орехово-Борисово Северное            1\n",
       "27       Район Москворечье-Сабурово            1\n",
       "28               Район Марьина роща            1\n",
       "29                   Район Коньково            1\n",
       "30                    Район Внуково            1\n",
       "31                    Район Беговой            1\n",
       "32                   Район Аэропорт            1\n",
       "33                Пресненский район            1\n",
       "34               Останкинский район            1\n",
       "35                   Нагорный район            1\n",
       "36                  Мещанский район            1\n",
       "37                Ярославский Район            1"
      ]
     },
     "execution_count": 39,
     "metadata": {},
     "output_type": "execute_result"
    }
   ],
   "source": [
    "# Выбираем из датасета с адресами ранее определенные улицы,\n",
    "# группируем их по району и считаем количество улиц в каждом районе\n",
    "areas_with_many_rests = addresses_mosgaz.query('street_name.isin(@top10_streets_with_many_rests.street_name)')\n",
    "areas_with_many_rests = (areas_with_many_rests\n",
    "                         .groupby('area')\n",
    "                         .agg({'street_name' : 'count'})\n",
    "                         .sort_values(by = 'street_name', ascending = False)\n",
    "                         .reset_index()\n",
    "                        )\n",
    "areas_with_many_rests"
   ]
  },
  {
   "cell_type": "code",
   "execution_count": 40,
   "metadata": {},
   "outputs": [
    {
     "data": {
      "text/html": [
       "<div>\n",
       "<style scoped>\n",
       "    .dataframe tbody tr th:only-of-type {\n",
       "        vertical-align: middle;\n",
       "    }\n",
       "\n",
       "    .dataframe tbody tr th {\n",
       "        vertical-align: top;\n",
       "    }\n",
       "\n",
       "    .dataframe thead th {\n",
       "        text-align: right;\n",
       "    }\n",
       "</style>\n",
       "<table border=\"1\" class=\"dataframe\">\n",
       "  <thead>\n",
       "    <tr style=\"text-align: right;\">\n",
       "      <th></th>\n",
       "      <th>area</th>\n",
       "      <th>street_name</th>\n",
       "    </tr>\n",
       "  </thead>\n",
       "  <tbody>\n",
       "    <tr>\n",
       "      <td>0</td>\n",
       "      <td>Район Дорогомилово</td>\n",
       "      <td>3</td>\n",
       "    </tr>\n",
       "    <tr>\n",
       "      <td>1</td>\n",
       "      <td>Район Чертаново Северное</td>\n",
       "      <td>2</td>\n",
       "    </tr>\n",
       "    <tr>\n",
       "      <td>2</td>\n",
       "      <td>Донской район</td>\n",
       "      <td>2</td>\n",
       "    </tr>\n",
       "    <tr>\n",
       "      <td>3</td>\n",
       "      <td>Ломоносовский район</td>\n",
       "      <td>2</td>\n",
       "    </tr>\n",
       "    <tr>\n",
       "      <td>4</td>\n",
       "      <td>Район Проспект Вернадского</td>\n",
       "      <td>2</td>\n",
       "    </tr>\n",
       "    <tr>\n",
       "      <td>5</td>\n",
       "      <td>Обручевский район</td>\n",
       "      <td>2</td>\n",
       "    </tr>\n",
       "    <tr>\n",
       "      <td>6</td>\n",
       "      <td>Район Теплый Стан</td>\n",
       "      <td>2</td>\n",
       "    </tr>\n",
       "    <tr>\n",
       "      <td>7</td>\n",
       "      <td>Район Нагатино-Садовники</td>\n",
       "      <td>2</td>\n",
       "    </tr>\n",
       "    <tr>\n",
       "      <td>8</td>\n",
       "      <td>Район Чертаново Южное</td>\n",
       "      <td>2</td>\n",
       "    </tr>\n",
       "    <tr>\n",
       "      <td>9</td>\n",
       "      <td>Район Чертаново Центральное</td>\n",
       "      <td>2</td>\n",
       "    </tr>\n",
       "    <tr>\n",
       "      <td>10</td>\n",
       "      <td>Район Тропарево-Никулино</td>\n",
       "      <td>2</td>\n",
       "    </tr>\n",
       "    <tr>\n",
       "      <td>11</td>\n",
       "      <td>Район Гагаринский</td>\n",
       "      <td>2</td>\n",
       "    </tr>\n",
       "  </tbody>\n",
       "</table>\n",
       "</div>"
      ],
      "text/plain": [
       "                           area  street_name\n",
       "0            Район Дорогомилово            3\n",
       "1      Район Чертаново Северное            2\n",
       "2                 Донской район            2\n",
       "3           Ломоносовский район            2\n",
       "4    Район Проспект Вернадского            2\n",
       "5             Обручевский район            2\n",
       "6             Район Теплый Стан            2\n",
       "7      Район Нагатино-Садовники            2\n",
       "8         Район Чертаново Южное            2\n",
       "9   Район Чертаново Центральное            2\n",
       "10     Район Тропарево-Никулино            2\n",
       "11            Район Гагаринский            2"
      ]
     },
     "execution_count": 40,
     "metadata": {},
     "output_type": "execute_result"
    }
   ],
   "source": [
    "# Выбираем районы, в которых находится более 1 улицы\n",
    "top_areas_with_many_rests = areas_with_many_rests.query('street_name > 1')\n",
    "top_areas_with_many_rests"
   ]
  },
  {
   "cell_type": "code",
   "execution_count": 41,
   "metadata": {},
   "outputs": [
    {
     "data": {
      "image/png": "[encoded data removed]",
      "text/plain": [
       "<Figure size 864x432 with 1 Axes>"
      ]
     },
     "metadata": {},
     "output_type": "display_data"
    }
   ],
   "source": [
    "# Визуализируем с помощью столбчатого графика\n",
    "plt.figure(figsize = (12, 6))\n",
    "sns.barplot(x = 'street', y = 'restaurants_qty', data = top10_streets_with_many_rests) \n",
    "plt.title('Улицы с наибольшим количеством объектов', fontsize = 14, fontweight = 'bold')\n",
    "plt.xticks(rotation = 65)\n",
    "plt.xlabel('')\n",
    "plt.ylabel('количество ресторанов')\n",
    "plt.show()"
   ]
  },
  {
   "cell_type": "markdown",
   "metadata": {},
   "source": [
    "Улицы с наибольшим количеством объектов (от 160 до 200 объектов): \n",
    " - проспект Мира (197 объекта), \n",
    " - Профсоюзная улица (179 объекта), \n",
    " - Ленинградский проспект (169 объект), \n",
    " - Пресненская набережная (165 объектов),\n",
    " - Варшавское шоссе (162 объекта).\n",
    "\n",
    "От 110 до 150 объектов находится на следующих улицах (в порядке убывания): \n",
    " - Ленинский проспект, \n",
    " - проспект Вернадского, \n",
    " - Кутузовский проспект, \n",
    " - Каширское шоссе, \n",
    " - Кировоградская улица.\n",
    "\n",
    "Улицы с большим количеством ресторанов находятся в 38 районах г. Москвы. К районам, в которых находится более одной такой улицы, относятся Дорогомилово, Чертаново Северное, Чертаново Южное, Чертаново Центральное, Донской район, Ломоносовский район, Район Проспект Вернадского, Обручевский район, Теплый Стан, Нагатино-Садовники, Тропарево-Никулино, Гагаринский.\n",
    "\n",
    "Изучим улицы с одним объектом общественного питания: сколько их, где они находятся."
   ]
  },
  {
   "cell_type": "code",
   "execution_count": 42,
   "metadata": {},
   "outputs": [
    {
     "data": {
      "text/plain": [
       "627"
      ]
     },
     "execution_count": 42,
     "metadata": {},
     "output_type": "execute_result"
    }
   ],
   "source": [
    "# Выберем улицы, на которых находится только 1 ресторан\n",
    "streets_with_one_rest = data.groupby('street_name').agg({'id': 'count'}).query('id == 1')\n",
    "\n",
    "# Посмотрим, сколько их\n",
    "len(streets_with_one_rest)"
   ]
  },
  {
   "cell_type": "code",
   "execution_count": 43,
   "metadata": {},
   "outputs": [
    {
     "data": {
      "text/html": [
       "<div>\n",
       "<style scoped>\n",
       "    .dataframe tbody tr th:only-of-type {\n",
       "        vertical-align: middle;\n",
       "    }\n",
       "\n",
       "    .dataframe tbody tr th {\n",
       "        vertical-align: top;\n",
       "    }\n",
       "\n",
       "    .dataframe thead th {\n",
       "        text-align: right;\n",
       "    }\n",
       "</style>\n",
       "<table border=\"1\" class=\"dataframe\">\n",
       "  <thead>\n",
       "    <tr style=\"text-align: right;\">\n",
       "      <th></th>\n",
       "      <th>area</th>\n",
       "      <th>street_name</th>\n",
       "    </tr>\n",
       "  </thead>\n",
       "  <tbody>\n",
       "    <tr>\n",
       "      <td>0</td>\n",
       "      <td>Таганский район</td>\n",
       "      <td>27</td>\n",
       "    </tr>\n",
       "    <tr>\n",
       "      <td>1</td>\n",
       "      <td>Басманный район</td>\n",
       "      <td>26</td>\n",
       "    </tr>\n",
       "    <tr>\n",
       "      <td>2</td>\n",
       "      <td>Район Хамовники</td>\n",
       "      <td>26</td>\n",
       "    </tr>\n",
       "    <tr>\n",
       "      <td>3</td>\n",
       "      <td>Пресненский район</td>\n",
       "      <td>19</td>\n",
       "    </tr>\n",
       "    <tr>\n",
       "      <td>4</td>\n",
       "      <td>Район Марьина роща</td>\n",
       "      <td>19</td>\n",
       "    </tr>\n",
       "    <tr>\n",
       "      <td>5</td>\n",
       "      <td>Тверской район</td>\n",
       "      <td>19</td>\n",
       "    </tr>\n",
       "    <tr>\n",
       "      <td>6</td>\n",
       "      <td>Район Арбат</td>\n",
       "      <td>18</td>\n",
       "    </tr>\n",
       "    <tr>\n",
       "      <td>7</td>\n",
       "      <td>Мещанский район</td>\n",
       "      <td>16</td>\n",
       "    </tr>\n",
       "    <tr>\n",
       "      <td>8</td>\n",
       "      <td>Район Замоскворечье</td>\n",
       "      <td>15</td>\n",
       "    </tr>\n",
       "  </tbody>\n",
       "</table>\n",
       "</div>"
      ],
      "text/plain": [
       "                  area  street_name\n",
       "0      Таганский район           27\n",
       "1      Басманный район           26\n",
       "2      Район Хамовники           26\n",
       "3    Пресненский район           19\n",
       "4   Район Марьина роща           19\n",
       "5       Тверской район           19\n",
       "6          Район Арбат           18\n",
       "7      Мещанский район           16\n",
       "8  Район Замоскворечье           15"
      ]
     },
     "execution_count": 43,
     "metadata": {},
     "output_type": "execute_result"
    }
   ],
   "source": [
    "# Формируем сводную таблицу количеством улиц с 1 рестораном по районам\n",
    "areas_with_single_rest_streets = (addresses_mosgaz\n",
    "                                  .query('street_name.isin(@streets_with_one_rest.index)')\n",
    "                                  .groupby('area')\n",
    "                                  .agg({'street_name' : 'count'})\n",
    "                                  .sort_values(by = 'street_name', ascending = False)\n",
    "                                  .reset_index()\n",
    "                                 )\n",
    "\n",
    "\n",
    "# Выбираем районы, в которых таких улиц 15 и более\n",
    "areas_with_single_rest_streets.query('street_name >= 15')"
   ]
  },
  {
   "cell_type": "code",
   "execution_count": 44,
   "metadata": {},
   "outputs": [
    {
     "data": {
      "image/png": "[encoded data removed]",
      "text/plain": [
       "<Figure size 864x432 with 1 Axes>"
      ]
     },
     "metadata": {},
     "output_type": "display_data"
    }
   ],
   "source": [
    "# Визуализируем с помощью столбчатого графика\n",
    "plt.figure(figsize = (12, 6))\n",
    "sns.barplot(x = 'area', y = 'street_name', data = areas_with_single_rest_streets.query('street_name >= 15'), palette = 'bright') \n",
    "plt.title('Районы, в которых расположены улицы с одним объектом', fontsize = 14, fontweight = 'bold')\n",
    "plt.xticks(rotation = 65)\n",
    "plt.xlabel('')\n",
    "plt.ylabel('количество улиц')\n",
    "plt.show()"
   ]
  },
  {
   "cell_type": "markdown",
   "metadata": {},
   "source": [
    "Всего мы нашли 627 улиц, на которых расположен лишь 1 ресторан.\n",
    "\n",
    "Среди районов, в которых находится максимальное количество таких улиц, лидируют с 15 и более улицами:\n",
    " - Таганский район,\n",
    " - Басманный район,\n",
    " - Район Хамовники,\n",
    " - Пресненский район,\n",
    " - Район Марьина роща,\n",
    " - Тверской район,\n",
    " - Район Арбат,\n",
    " - Мещанский район,\n",
    " - Район Замоскворечье."
   ]
  },
  {
   "cell_type": "markdown",
   "metadata": {},
   "source": [
    "#### Распределение количества посадочных мест для улиц с большим количеством объектов общественного питания\n",
    "\n",
    "Посмотрим, есть ли закономерности в распределении количества посадочных мест для улиц с большим количеством объектов общественного питания."
   ]
  },
  {
   "cell_type": "code",
   "execution_count": 45,
   "metadata": {},
   "outputs": [],
   "source": [
    "# Создаем массив с улицами, на которых расположено максимальное количество ресторанов\n",
    "top10_streets = top10_streets_with_many_rests['street']\n",
    "\n",
    "# Выделяем данные по ресторанам, которые находятся на этих улицах\n",
    "rests_in_busy_streets = data.query('street.isin(@top10_streets)')"
   ]
  },
  {
   "cell_type": "code",
   "execution_count": 46,
   "metadata": {},
   "outputs": [
    {
     "data": {
      "image/png": "[encoded data removed]",
      "text/plain": [
       "<Figure size 1152x360 with 1 Axes>"
      ]
     },
     "metadata": {},
     "output_type": "display_data"
    }
   ],
   "source": [
    "# Визуализируем данные по количеству посадочных мест с помощью гистограммы\n",
    "plt.figure(figsize = (16, 5))\n",
    "rests_in_busy_streets['seating_capacity'].hist(bins = 100)\n",
    "plt.title('Распределение заведений на улицах с множеством объектов по количеству посадочных мест', \n",
    "          fontsize = 14, fontweight = 'bold')\n",
    "plt.show()"
   ]
  },
  {
   "cell_type": "code",
   "execution_count": 47,
   "metadata": {},
   "outputs": [
    {
     "data": {
      "image/png": "[encoded data removed]",
      "text/plain": [
       "<Figure size 1152x360 with 1 Axes>"
      ]
     },
     "metadata": {},
     "output_type": "display_data"
    }
   ],
   "source": [
    "# Визуализируем данные по количеству посадочных мест в диапазоне до 150 с помощью гистограммы\n",
    "plt.figure(figsize = (16, 5))\n",
    "rests_in_busy_streets['seating_capacity'].hist(range = (0,150), bins = 30)\n",
    "plt.title('Распределение заведений на улицах с множеством объектов по количеству посадочных мест', fontsize = 14, \n",
    "          fontweight = 'bold')\n",
    "plt.xlabel('количество посадочных мест')\n",
    "plt.ylabel('количество объектов')\n",
    "plt.show()"
   ]
  },
  {
   "cell_type": "markdown",
   "metadata": {},
   "source": [
    "Видим, что большая часть объектов, расположенных на улицах с большим количеством ресторанов, имеет не более 50 посадочных мест. Это логично, учитывая, что на таких улицах у клиентов есть большой выбор заведений, а владельцам невыгодна низкая заполненность объектов, так как аренда составляет одную из основных статей расходов."
   ]
  },
  {
   "cell_type": "markdown",
   "metadata": {},
   "source": [
    "<a id='section_2.2'></a>\n",
    "### 2.2 Выводы и рекомендации по результатам анализа\n",
    "\n",
    "#### Выводы\n",
    "\n",
    "На основании проведенного анализа можно сделать следующие выводы:\n",
    "\n",
    "1. Большую часть заведений составляют кафе (6003 объекта или 39,6% от общего количества заведений). За ними следуют столовые (2572 объекта / 17%), рестораны (2272 объекта / 15%) и предприятия быстрого обслуживания (1886 объектов / 12,4%). Оставшиеся 16% приходится на бары, буфеты, кафетерии, закусочные и кулинарии.\n",
    "\n",
    "\n",
    "2. Из всего количества заведений (которое равно 15159) только 19,4% являются сетевыми.\n",
    "\n",
    "\n",
    "3. Наибольшая доля сетевых объектов приходится на предприятия быстрого обслуживания (41%). За ними следуют кулинарные отделы магазинов (29%), рестораны (24%), кафе (23%), закусочные (16%) и кафетерии (13%). Среди баров и буфетов доля сетевых заведений составляет менее 5%, а среди столовых г. Москвы, согласно данным, сетевых заведений нет.\n",
    "\n",
    "\n",
    "4. Всего в датасете содержится информация о 197 сетях. Большая часть сетей включает в себя до 20 объектов. \n",
    "\n",
    "Больше всего заведений относятся к сетям с количеством объектов от 2 до 40 и количеством посадочных мест от 0 до 50.\n",
    "\n",
    "К топ-10 сетям г. Москвы по количеству заведений можно отнести следующие:\n",
    " - Шоколадница (180 объектов), \n",
    " - KFC (172\tобъекта),\n",
    " - Макдоналдс (168 объектов),\n",
    " - Бургер Кинг (151\tобъект),\n",
    " - Теремок (107\tобъектов), \n",
    " - Домино'с\t(98 объектов),\n",
    " - Крошка-картошка (95 объектов)\n",
    " - Суши wok (75\tобъектов), \n",
    " - Милти (75 объектов),\n",
    " - Папа Джонс (66 объектов).\n",
    " \n",
    "Большая часть заведений крупных сетей имеет от 0 до 70 посадочных мест, с медианой 32 посадочных места. \n",
    " \n",
    "\n",
    "5. Анализ количества посадочных мест по типам заведений выявил, что наибольшее количество посадочных мест характерно для заведений типа \"столовая\" (медиана - 103 места). За ними следуют рестораны с медианой в 80 посадочных мест. На третьем месте - бары, буфеты и кафе, у которых медиана 30-35 мест.\n",
    "\n",
    "\n",
    "6. ТОп- 10 улиц с большим количеством объектов (от 110 до 200 объектов) расположены в 38 районах. К районам, в которых находится более одной такой улицы, относятся Дорогомилово, Чертаново Северное, Чертаново Южное, Чертаново Центральное, Донской район, Ломоносовский район, Район Проспект Вернадского, Обручевский район, Теплый Стан, Нагатино-Садовники, Тропарево-Никулино, Гагаринский.\n",
    "\n",
    "\n",
    "7. Всего мы нашли 627 улиц, на которых расположен лишь 1 ресторан.\n",
    "\n",
    "Среди районов, в которых находится максимальное количество таких улиц, лидируют с 15 и более улицами:\n",
    " - Таганский район,\n",
    " - Басманный район,\n",
    " - Район Хамовники,\n",
    " - Пресненский район,\n",
    " - Район Марьина роща,\n",
    " - Тверской район,\n",
    " - Район Арбат,\n",
    " - Мещанский район,\n",
    " - Район Замоскворечье.\n",
    " \n",
    "8. Большая часть объектов, расположенных на улицах с большим количеством ресторанов, имеет не более 50 посадочных мест. Это логично, учитывая, что на таких улицах у клиентов есть большой выбор заведений, а владельцам невыгодна низкая заполненность объектов, так как аренда составляет одну из основных статей расходов.\n",
    "\n",
    "\n",
    "#### Рекомендации\n",
    "\n",
    "На основании информации выше можно сделать следующие рекомендации:\n",
    "\n",
    "*1. Местоположение объекта*\n",
    "\n",
    "Представляется целесообразным разместить объект на одной из улиц, где находится большое количество предприятий общественного питания. Наличие множества других объектов говорит о стабильном потоке гостей. Привлекать аудиторию можно за счет уникального предложения (такого, как, например, обслуживание роботами).\n",
    "\n",
    "*2. Тип и формат объекта*\n",
    "\n",
    "Так как мы рассматриваем вариант с обслуживанием, то среди подобного рода заведений наиболее популярным является формат кафе. В сравнении с ресторанами он более демократичен и привлекает более широкую аудиторию посетителей и, кроме того, не требует меньших затрат для открытия от владельцев. При этом данный формат весьма универсален: гости могут приходить в кафе и для семейного отдыха, и для встреч с друзьями, и для деловых обедов.  \n",
    "\n",
    "*3. Количество посадочных мест*\n",
    "\n",
    "Стоит ограничиться объектом с 30-35 посадочными местами. Это позволит протестировать бизнес без слишком больших затрат на аренду, дизайн и ремонт. В случае успешности формата можно будет масштабироваться за счет открытия дополнительных объектов, которые в дальнейшем можно объединить в сеть."
   ]
  },
  {
   "cell_type": "markdown",
   "metadata": {},
   "source": [
    "## Часть 3. Презентация результатов:"
   ]
  },
  {
   "cell_type": "markdown",
   "metadata": {},
   "source": [
    "<a id='section_3.1'></a>\n",
    "### 3.1 Презентация\n",
    "\n",
    "<a href=\"https://drive.google.com/file/d/11WJhVmVdswwDvwY2i64Ge0tzip5OosSt/view?usp=sharing\">Ссылка на презентацию</a>"
   ]
  }
 ],
 "metadata": {
  "kernelspec": {
   "display_name": "Python 3",
   "language": "python",
   "name": "python3"
  },
  "language_info": {
   "codemirror_mode": {
    "name": "ipython",
    "version": 3
   },
   "file_extension": ".py",
   "mimetype": "text/x-python",
   "name": "python",
   "nbconvert_exporter": "python",
   "pygments_lexer": "ipython3",
   "version": "3.8.5"
  }
 },
 "nbformat": 4,
 "nbformat_minor": 2
}
