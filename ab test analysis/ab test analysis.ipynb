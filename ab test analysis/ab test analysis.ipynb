{
 "cells": [
  {
   "cell_type": "markdown",
   "metadata": {},
   "source": [
    "# Проект по А/В-тестированию"
   ]
  },
  {
   "cell_type": "markdown",
   "metadata": {},
   "source": [
    "## Содержание\n",
    "\n",
    "##### Часть 1. Введение:\n",
    "* [1.1 Цель проекта](#section_1.1)\n",
    "* [1.2 Загрузка библиотек](#section_1.2)\n",
    "\n",
    "##### Часть 2. Изучение и очистка данных:\n",
    "* [2.1 Изучение и предобработка данных](#section_2.1)\n",
    "* [2.2 Проверка данных для анализа и приведение их в соответствие с техзаданием](#section_2.2)\n",
    "* [2.3 Выводы и рекомендации](#section_2.3)\n",
    "\n",
    "##### Часть 3. Анализ результатов А/В-теста:\n",
    "* [3.1 Исследовательский анализ данных](#section_3.1)\n",
    "* [3.2 Выводы](#section_3.2)"
   ]
  },
  {
   "cell_type": "markdown",
   "metadata": {},
   "source": [
    "# Часть 1. Введение"
   ]
  },
  {
   "cell_type": "markdown",
   "metadata": {},
   "source": [
    "<a id='section_1.1'> </a>\n",
    "## 1.1 Цель проекта\n",
    "\n",
    "Целью проекта — провести оценку A/B-теста проводившегося в интернет-магазине для тестирования изменений, связанных с внедрением улучшенной рекомендательной системы.\n",
    "\n",
    "В ходе выполнения проекта планируется провести:\n",
    "\n",
    "1. проверку корректности проведения теста (соответствие техзаданию),\n",
    "2. оценку результатов теста.\n",
    "\n",
    "##### Техническое задание\n",
    "- Название теста: recommender_system_test.\n",
    "- Группы: А (контрольная), B (новая платёжная воронка).\n",
    "- Дата запуска: 2020-12-07.\n",
    "- Дата остановки набора новых пользователей: 2020-12-21.\n",
    "- Дата остановки: 2021-01-04.\n",
    "- Аудитория: 15% новых пользователей из региона EU.\n",
    "- Назначение теста: тестирование изменений, связанных с внедрением улучшенной рекомендательной системы.\n",
    "- Ожидаемое количество участников теста: 6000.\n",
    "- Ожидаемый эффект: за 14 дней с момента регистрации в системе пользователи покажут улучшение каждой метрики не менее, чем на 10%:\n",
    "    - конверсии в просмотр карточек товаров (событие product_page),\n",
    "    - просмотры корзины (product_cart),\n",
    "    - покупки (purchase)."
   ]
  },
  {
   "cell_type": "markdown",
   "metadata": {},
   "source": [
    "<a id = 'section_1.2'> </a>\n",
    "## 1.2 Загрузка необходимых библиотек\n",
    "\n",
    "Загрузим необходимые библиотеки."
   ]
  },
  {
   "cell_type": "code",
   "execution_count": 1,
   "metadata": {},
   "outputs": [],
   "source": [
    "import pandas as pd\n",
    "\n",
    "import datetime as dt\n",
    "from scipy import stats as st\n",
    "import math as mth\n",
    "\n",
    "from matplotlib import pyplot as plt\n",
    "%matplotlib inline\n",
    "from pandas.plotting import register_matplotlib_converters\n",
    "register_matplotlib_converters()\n",
    "\n",
    "import warnings\n",
    "warnings.filterwarnings('ignore')"
   ]
  },
  {
   "cell_type": "markdown",
   "metadata": {},
   "source": [
    "# Часть 2. Изучение и предобработка данных"
   ]
  },
  {
   "cell_type": "markdown",
   "metadata": {},
   "source": [
    "<a id = 'section_2.1'> </a>\n",
    "## 2.1 Изучение и предобработка данных\n",
    "\n",
    "Изучим полученные данные.\n",
    "\n",
    "##### Датафрейм ab_project_marketing_events\n",
    "\n",
    "Начнем с датафрейма `ab_project_marketing_events`. Это календарь маркетинговых событий на 2020 год, в котором предположительно содержится информация о названии акции; регионе, в котором она проводится; сроках ее проведения."
   ]
  },
  {
   "cell_type": "code",
   "execution_count": 2,
   "metadata": {},
   "outputs": [
    {
     "data": {
      "text/html": [
       "<div>\n",
       "<style scoped>\n",
       "    .dataframe tbody tr th:only-of-type {\n",
       "        vertical-align: middle;\n",
       "    }\n",
       "\n",
       "    .dataframe tbody tr th {\n",
       "        vertical-align: top;\n",
       "    }\n",
       "\n",
       "    .dataframe thead th {\n",
       "        text-align: right;\n",
       "    }\n",
       "</style>\n",
       "<table border=\"1\" class=\"dataframe\">\n",
       "  <thead>\n",
       "    <tr style=\"text-align: right;\">\n",
       "      <th></th>\n",
       "      <th>name</th>\n",
       "      <th>regions</th>\n",
       "      <th>start_dt</th>\n",
       "      <th>finish_dt</th>\n",
       "    </tr>\n",
       "  </thead>\n",
       "  <tbody>\n",
       "    <tr>\n",
       "      <td>10</td>\n",
       "      <td>CIS New Year Gift Lottery</td>\n",
       "      <td>CIS</td>\n",
       "      <td>2020-12-30</td>\n",
       "      <td>2021-01-07</td>\n",
       "    </tr>\n",
       "    <tr>\n",
       "      <td>0</td>\n",
       "      <td>Christmas&amp;New Year Promo</td>\n",
       "      <td>EU, N.America</td>\n",
       "      <td>2020-12-25</td>\n",
       "      <td>2021-01-03</td>\n",
       "    </tr>\n",
       "    <tr>\n",
       "      <td>5</td>\n",
       "      <td>Black Friday Ads Campaign</td>\n",
       "      <td>EU, CIS, APAC, N.America</td>\n",
       "      <td>2020-11-26</td>\n",
       "      <td>2020-12-01</td>\n",
       "    </tr>\n",
       "    <tr>\n",
       "      <td>12</td>\n",
       "      <td>Single's Day Gift Promo</td>\n",
       "      <td>APAC</td>\n",
       "      <td>2020-11-11</td>\n",
       "      <td>2020-11-12</td>\n",
       "    </tr>\n",
       "    <tr>\n",
       "      <td>13</td>\n",
       "      <td>Chinese Moon Festival</td>\n",
       "      <td>APAC</td>\n",
       "      <td>2020-10-01</td>\n",
       "      <td>2020-10-07</td>\n",
       "    </tr>\n",
       "    <tr>\n",
       "      <td>4</td>\n",
       "      <td>4th of July Promo</td>\n",
       "      <td>N.America</td>\n",
       "      <td>2020-07-04</td>\n",
       "      <td>2020-07-11</td>\n",
       "    </tr>\n",
       "    <tr>\n",
       "      <td>11</td>\n",
       "      <td>Dragon Boat Festival Giveaway</td>\n",
       "      <td>APAC</td>\n",
       "      <td>2020-06-25</td>\n",
       "      <td>2020-07-01</td>\n",
       "    </tr>\n",
       "    <tr>\n",
       "      <td>9</td>\n",
       "      <td>Victory Day CIS (May 9th) Event</td>\n",
       "      <td>CIS</td>\n",
       "      <td>2020-05-09</td>\n",
       "      <td>2020-05-11</td>\n",
       "    </tr>\n",
       "    <tr>\n",
       "      <td>7</td>\n",
       "      <td>Labor day (May 1st) Ads Campaign</td>\n",
       "      <td>EU, CIS, APAC</td>\n",
       "      <td>2020-05-01</td>\n",
       "      <td>2020-05-03</td>\n",
       "    </tr>\n",
       "    <tr>\n",
       "      <td>3</td>\n",
       "      <td>Easter Promo</td>\n",
       "      <td>EU, CIS, APAC, N.America</td>\n",
       "      <td>2020-04-12</td>\n",
       "      <td>2020-04-19</td>\n",
       "    </tr>\n",
       "    <tr>\n",
       "      <td>2</td>\n",
       "      <td>St. Patric's Day Promo</td>\n",
       "      <td>EU, N.America</td>\n",
       "      <td>2020-03-17</td>\n",
       "      <td>2020-03-19</td>\n",
       "    </tr>\n",
       "    <tr>\n",
       "      <td>8</td>\n",
       "      <td>International Women's Day Promo</td>\n",
       "      <td>EU, CIS, APAC</td>\n",
       "      <td>2020-03-08</td>\n",
       "      <td>2020-03-10</td>\n",
       "    </tr>\n",
       "    <tr>\n",
       "      <td>1</td>\n",
       "      <td>St. Valentine's Day Giveaway</td>\n",
       "      <td>EU, CIS, APAC, N.America</td>\n",
       "      <td>2020-02-14</td>\n",
       "      <td>2020-02-16</td>\n",
       "    </tr>\n",
       "    <tr>\n",
       "      <td>6</td>\n",
       "      <td>Chinese New Year Promo</td>\n",
       "      <td>APAC</td>\n",
       "      <td>2020-01-25</td>\n",
       "      <td>2020-02-07</td>\n",
       "    </tr>\n",
       "  </tbody>\n",
       "</table>\n",
       "</div>"
      ],
      "text/plain": [
       "                                name                   regions    start_dt  \\\n",
       "10         CIS New Year Gift Lottery                       CIS  2020-12-30   \n",
       "0           Christmas&New Year Promo             EU, N.America  2020-12-25   \n",
       "5          Black Friday Ads Campaign  EU, CIS, APAC, N.America  2020-11-26   \n",
       "12           Single's Day Gift Promo                      APAC  2020-11-11   \n",
       "13             Chinese Moon Festival                      APAC  2020-10-01   \n",
       "4                  4th of July Promo                 N.America  2020-07-04   \n",
       "11     Dragon Boat Festival Giveaway                      APAC  2020-06-25   \n",
       "9    Victory Day CIS (May 9th) Event                       CIS  2020-05-09   \n",
       "7   Labor day (May 1st) Ads Campaign             EU, CIS, APAC  2020-05-01   \n",
       "3                       Easter Promo  EU, CIS, APAC, N.America  2020-04-12   \n",
       "2             St. Patric's Day Promo             EU, N.America  2020-03-17   \n",
       "8    International Women's Day Promo             EU, CIS, APAC  2020-03-08   \n",
       "1       St. Valentine's Day Giveaway  EU, CIS, APAC, N.America  2020-02-14   \n",
       "6             Chinese New Year Promo                      APAC  2020-01-25   \n",
       "\n",
       "     finish_dt  \n",
       "10  2021-01-07  \n",
       "0   2021-01-03  \n",
       "5   2020-12-01  \n",
       "12  2020-11-12  \n",
       "13  2020-10-07  \n",
       "4   2020-07-11  \n",
       "11  2020-07-01  \n",
       "9   2020-05-11  \n",
       "7   2020-05-03  \n",
       "3   2020-04-19  \n",
       "2   2020-03-19  \n",
       "8   2020-03-10  \n",
       "1   2020-02-16  \n",
       "6   2020-02-07  "
      ]
     },
     "execution_count": 2,
     "metadata": {},
     "output_type": "execute_result"
    }
   ],
   "source": [
    "# Загружаем датафрейм и смотрим его содержимое\n",
    "ab_project_marketing_events = pd.read_csv('/datasets/ab_project_marketing_events.csv')\n",
    "ab_project_marketing_events.sort_values(by='start_dt', ascending = False)"
   ]
  },
  {
   "cell_type": "markdown",
   "metadata": {},
   "source": [
    "Видим, что в период проведения анализируемого A/B-теста для аудитории теста (пользователей из Европы) проводилась промоакция, связанная с Рождеством и Новым годом. Сроки проведения акции - с 25 декабря 2020 года по 3 января 2021 года. \n",
    "\n",
    "Другие промоакции в период теста для аудитории теста не проводились. \n",
    "\n",
    "##### Датафрейм final_ab_new_users\n",
    "\n",
    "Изучим датафрейм `final_ab_new_users`. Предположительно в датасете находится инфомрация обо всех пользователях, зарегистрировавшихся в интернет-магазине в период с 7 по 21 декабря 2020 года, с указанием идентификатора пользователя; даты регистрации; региона пользователя; устройства, с которого происходила регистрация."
   ]
  },
  {
   "cell_type": "code",
   "execution_count": 3,
   "metadata": {},
   "outputs": [
    {
     "data": {
      "text/html": [
       "<div>\n",
       "<style scoped>\n",
       "    .dataframe tbody tr th:only-of-type {\n",
       "        vertical-align: middle;\n",
       "    }\n",
       "\n",
       "    .dataframe tbody tr th {\n",
       "        vertical-align: top;\n",
       "    }\n",
       "\n",
       "    .dataframe thead th {\n",
       "        text-align: right;\n",
       "    }\n",
       "</style>\n",
       "<table border=\"1\" class=\"dataframe\">\n",
       "  <thead>\n",
       "    <tr style=\"text-align: right;\">\n",
       "      <th></th>\n",
       "      <th>user_id</th>\n",
       "      <th>first_date</th>\n",
       "      <th>region</th>\n",
       "      <th>device</th>\n",
       "    </tr>\n",
       "  </thead>\n",
       "  <tbody>\n",
       "    <tr>\n",
       "      <td>0</td>\n",
       "      <td>D72A72121175D8BE</td>\n",
       "      <td>2020-12-07</td>\n",
       "      <td>EU</td>\n",
       "      <td>PC</td>\n",
       "    </tr>\n",
       "    <tr>\n",
       "      <td>1</td>\n",
       "      <td>F1C668619DFE6E65</td>\n",
       "      <td>2020-12-07</td>\n",
       "      <td>N.America</td>\n",
       "      <td>Android</td>\n",
       "    </tr>\n",
       "    <tr>\n",
       "      <td>2</td>\n",
       "      <td>2E1BF1D4C37EA01F</td>\n",
       "      <td>2020-12-07</td>\n",
       "      <td>EU</td>\n",
       "      <td>PC</td>\n",
       "    </tr>\n",
       "    <tr>\n",
       "      <td>3</td>\n",
       "      <td>50734A22C0C63768</td>\n",
       "      <td>2020-12-07</td>\n",
       "      <td>EU</td>\n",
       "      <td>iPhone</td>\n",
       "    </tr>\n",
       "    <tr>\n",
       "      <td>4</td>\n",
       "      <td>E1BDDCE0DAFA2679</td>\n",
       "      <td>2020-12-07</td>\n",
       "      <td>N.America</td>\n",
       "      <td>iPhone</td>\n",
       "    </tr>\n",
       "  </tbody>\n",
       "</table>\n",
       "</div>"
      ],
      "text/plain": [
       "            user_id  first_date     region   device\n",
       "0  D72A72121175D8BE  2020-12-07         EU       PC\n",
       "1  F1C668619DFE6E65  2020-12-07  N.America  Android\n",
       "2  2E1BF1D4C37EA01F  2020-12-07         EU       PC\n",
       "3  50734A22C0C63768  2020-12-07         EU   iPhone\n",
       "4  E1BDDCE0DAFA2679  2020-12-07  N.America   iPhone"
      ]
     },
     "execution_count": 3,
     "metadata": {},
     "output_type": "execute_result"
    }
   ],
   "source": [
    "# Загружаем датафрейм и смотрим первые строки\n",
    "final_ab_new_users = pd.read_csv('/datasets/final_ab_new_users.csv')\n",
    "final_ab_new_users.head(5)"
   ]
  },
  {
   "cell_type": "code",
   "execution_count": 4,
   "metadata": {},
   "outputs": [
    {
     "name": "stdout",
     "output_type": "stream",
     "text": [
      "<class 'pandas.core.frame.DataFrame'>\n",
      "RangeIndex: 61733 entries, 0 to 61732\n",
      "Data columns (total 4 columns):\n",
      "user_id       61733 non-null object\n",
      "first_date    61733 non-null object\n",
      "region        61733 non-null object\n",
      "device        61733 non-null object\n",
      "dtypes: object(4)\n",
      "memory usage: 1.9+ MB\n"
     ]
    }
   ],
   "source": [
    "# Изучаем информацию о данных методом info()\n",
    "final_ab_new_users.info()"
   ]
  },
  {
   "cell_type": "code",
   "execution_count": 5,
   "metadata": {},
   "outputs": [
    {
     "data": {
      "text/plain": [
       "0"
      ]
     },
     "execution_count": 5,
     "metadata": {},
     "output_type": "execute_result"
    }
   ],
   "source": [
    "# Проверяем данные на наличие дубликатов\n",
    "final_ab_new_users.duplicated().sum()"
   ]
  },
  {
   "cell_type": "code",
   "execution_count": 6,
   "metadata": {},
   "outputs": [
    {
     "name": "stdout",
     "output_type": "stream",
     "text": [
      "<class 'pandas.core.frame.DataFrame'>\n",
      "RangeIndex: 61733 entries, 0 to 61732\n",
      "Data columns (total 4 columns):\n",
      "user_id       61733 non-null object\n",
      "first_date    61733 non-null datetime64[ns]\n",
      "region        61733 non-null object\n",
      "device        61733 non-null object\n",
      "dtypes: datetime64[ns](1), object(3)\n",
      "memory usage: 1.9+ MB\n"
     ]
    }
   ],
   "source": [
    "# Меняем тип в столбце с датой\n",
    "final_ab_new_users['first_date'] = pd.to_datetime(final_ab_new_users['first_date'])\n",
    "final_ab_new_users.info()"
   ]
  },
  {
   "cell_type": "code",
   "execution_count": 7,
   "metadata": {},
   "outputs": [
    {
     "data": {
      "text/plain": [
       "count                   61733\n",
       "unique                     17\n",
       "top       2020-12-21 00:00:00\n",
       "freq                     6290\n",
       "first     2020-12-07 00:00:00\n",
       "last      2020-12-23 00:00:00\n",
       "Name: first_date, dtype: object"
      ]
     },
     "execution_count": 7,
     "metadata": {},
     "output_type": "execute_result"
    }
   ],
   "source": [
    "# Смотрим информацию о периоде, за который собраны данные\n",
    "final_ab_new_users['first_date'].describe()"
   ]
  },
  {
   "cell_type": "code",
   "execution_count": 8,
   "metadata": {},
   "outputs": [
    {
     "data": {
      "text/plain": [
       "array(['EU', 'N.America', 'APAC', 'CIS'], dtype=object)"
      ]
     },
     "execution_count": 8,
     "metadata": {},
     "output_type": "execute_result"
    }
   ],
   "source": [
    "# Смотрим, о пользователях из каких регионов, содержится инфомрация в датафрейме\n",
    "final_ab_new_users['region'].unique()"
   ]
  },
  {
   "cell_type": "code",
   "execution_count": 9,
   "metadata": {},
   "outputs": [
    {
     "data": {
      "text/plain": [
       "array(['PC', 'Android', 'iPhone', 'Mac'], dtype=object)"
      ]
     },
     "execution_count": 9,
     "metadata": {},
     "output_type": "execute_result"
    }
   ],
   "source": [
    "# Смотрим, с каких устройств регистрировались пользователи\n",
    "final_ab_new_users['device'].unique()"
   ]
  },
  {
   "cell_type": "markdown",
   "metadata": {},
   "source": [
    "По результатам изучения данных можем сделать следующие выводы:\n",
    "\n",
    "1. Датасет содержит данные о новых пользователях за период с 7 по 23 декабря. В тест должны попасть только новые пользователи, зарегистрировавшиеся с 7 по 21 декабря.\n",
    "2. Данные не содержат пропусков и дубликатов.\n",
    "3. В датасете содержатся данные о новых пользователях из регионов Северная Америка, Европа, СНГ, АТР, которые регистрировались с устройств типа PC, Mac, iPhone и Android. В тест должны попасть только новые пользователи из Европы.\n",
    "\n",
    "##### Датафрейм final_ab_participants\n",
    "\n",
    "Изучим датафрейм `final_ab_participants`. В нем содержится информация об участниках тестов, включая идентификатор пользователя, название теста и группу пользователя."
   ]
  },
  {
   "cell_type": "code",
   "execution_count": 10,
   "metadata": {},
   "outputs": [
    {
     "data": {
      "text/html": [
       "<div>\n",
       "<style scoped>\n",
       "    .dataframe tbody tr th:only-of-type {\n",
       "        vertical-align: middle;\n",
       "    }\n",
       "\n",
       "    .dataframe tbody tr th {\n",
       "        vertical-align: top;\n",
       "    }\n",
       "\n",
       "    .dataframe thead th {\n",
       "        text-align: right;\n",
       "    }\n",
       "</style>\n",
       "<table border=\"1\" class=\"dataframe\">\n",
       "  <thead>\n",
       "    <tr style=\"text-align: right;\">\n",
       "      <th></th>\n",
       "      <th>user_id</th>\n",
       "      <th>group</th>\n",
       "      <th>ab_test</th>\n",
       "    </tr>\n",
       "  </thead>\n",
       "  <tbody>\n",
       "    <tr>\n",
       "      <td>0</td>\n",
       "      <td>D1ABA3E2887B6A73</td>\n",
       "      <td>A</td>\n",
       "      <td>recommender_system_test</td>\n",
       "    </tr>\n",
       "    <tr>\n",
       "      <td>1</td>\n",
       "      <td>A7A3664BD6242119</td>\n",
       "      <td>A</td>\n",
       "      <td>recommender_system_test</td>\n",
       "    </tr>\n",
       "    <tr>\n",
       "      <td>2</td>\n",
       "      <td>DABC14FDDFADD29E</td>\n",
       "      <td>A</td>\n",
       "      <td>recommender_system_test</td>\n",
       "    </tr>\n",
       "    <tr>\n",
       "      <td>3</td>\n",
       "      <td>04988C5DF189632E</td>\n",
       "      <td>A</td>\n",
       "      <td>recommender_system_test</td>\n",
       "    </tr>\n",
       "    <tr>\n",
       "      <td>4</td>\n",
       "      <td>482F14783456D21B</td>\n",
       "      <td>B</td>\n",
       "      <td>recommender_system_test</td>\n",
       "    </tr>\n",
       "  </tbody>\n",
       "</table>\n",
       "</div>"
      ],
      "text/plain": [
       "            user_id group                  ab_test\n",
       "0  D1ABA3E2887B6A73     A  recommender_system_test\n",
       "1  A7A3664BD6242119     A  recommender_system_test\n",
       "2  DABC14FDDFADD29E     A  recommender_system_test\n",
       "3  04988C5DF189632E     A  recommender_system_test\n",
       "4  482F14783456D21B     B  recommender_system_test"
      ]
     },
     "execution_count": 10,
     "metadata": {},
     "output_type": "execute_result"
    }
   ],
   "source": [
    "# Загружаем датафрейм и смотрим первые строки\n",
    "final_ab_participants = pd.read_csv('/datasets/final_ab_participants.csv')\n",
    "final_ab_participants.head(5)"
   ]
  },
  {
   "cell_type": "code",
   "execution_count": 11,
   "metadata": {},
   "outputs": [
    {
     "name": "stdout",
     "output_type": "stream",
     "text": [
      "<class 'pandas.core.frame.DataFrame'>\n",
      "RangeIndex: 18268 entries, 0 to 18267\n",
      "Data columns (total 3 columns):\n",
      "user_id    18268 non-null object\n",
      "group      18268 non-null object\n",
      "ab_test    18268 non-null object\n",
      "dtypes: object(3)\n",
      "memory usage: 428.3+ KB\n"
     ]
    }
   ],
   "source": [
    "# Изучим полноту и типы данных методом info\n",
    "final_ab_participants.info()"
   ]
  },
  {
   "cell_type": "code",
   "execution_count": 12,
   "metadata": {},
   "outputs": [
    {
     "data": {
      "text/plain": [
       "array(['recommender_system_test', 'interface_eu_test'], dtype=object)"
      ]
     },
     "execution_count": 12,
     "metadata": {},
     "output_type": "execute_result"
    }
   ],
   "source": [
    "# Смотрим, информация о пользователях, участвовавших в каких тестах, содержится в датафрейме\n",
    "final_ab_participants['ab_test'].unique()"
   ]
  },
  {
   "cell_type": "code",
   "execution_count": 13,
   "metadata": {},
   "outputs": [
    {
     "data": {
      "text/plain": [
       "0"
      ]
     },
     "execution_count": 13,
     "metadata": {},
     "output_type": "execute_result"
    }
   ],
   "source": [
    "# Проверяем на наличие дубликатов\n",
    "final_ab_participants.duplicated().sum()"
   ]
  },
  {
   "cell_type": "code",
   "execution_count": 14,
   "metadata": {},
   "outputs": [
    {
     "data": {
      "text/plain": [
       "6701"
      ]
     },
     "execution_count": 14,
     "metadata": {},
     "output_type": "execute_result"
    }
   ],
   "source": [
    "# Смотрим, какое количество записей относится к анализируемому тесту \n",
    "len(final_ab_participants.query('ab_test == \"recommender_system_test\"'))"
   ]
  },
  {
   "cell_type": "markdown",
   "metadata": {},
   "source": [
    "Датафрейм содержит 18267 уникальных записей с id пользователей, из которых 6701 запись относятся к пользователям, участвовавшим в A/B-тесте, результаты которого мы анализируем. \n",
    "\n",
    "##### Датафрейм final_ab_events\n",
    "\n",
    "Изучим датафрейм `final_ab_events`. Предположительно, данный датасет содержит информацию обо всех событиях новых пользователей в период с 7 декабря 2020 года по 4 января 2021 года, включая идентификатор пользователя, дату и время события, тип события и данные о стоимости покупок."
   ]
  },
  {
   "cell_type": "code",
   "execution_count": 15,
   "metadata": {},
   "outputs": [
    {
     "data": {
      "text/html": [
       "<div>\n",
       "<style scoped>\n",
       "    .dataframe tbody tr th:only-of-type {\n",
       "        vertical-align: middle;\n",
       "    }\n",
       "\n",
       "    .dataframe tbody tr th {\n",
       "        vertical-align: top;\n",
       "    }\n",
       "\n",
       "    .dataframe thead th {\n",
       "        text-align: right;\n",
       "    }\n",
       "</style>\n",
       "<table border=\"1\" class=\"dataframe\">\n",
       "  <thead>\n",
       "    <tr style=\"text-align: right;\">\n",
       "      <th></th>\n",
       "      <th>user_id</th>\n",
       "      <th>event_dt</th>\n",
       "      <th>event_name</th>\n",
       "      <th>details</th>\n",
       "    </tr>\n",
       "  </thead>\n",
       "  <tbody>\n",
       "    <tr>\n",
       "      <td>0</td>\n",
       "      <td>E1BDDCE0DAFA2679</td>\n",
       "      <td>2020-12-07 20:22:03</td>\n",
       "      <td>purchase</td>\n",
       "      <td>99.99</td>\n",
       "    </tr>\n",
       "    <tr>\n",
       "      <td>1</td>\n",
       "      <td>7B6452F081F49504</td>\n",
       "      <td>2020-12-07 09:22:53</td>\n",
       "      <td>purchase</td>\n",
       "      <td>9.99</td>\n",
       "    </tr>\n",
       "    <tr>\n",
       "      <td>2</td>\n",
       "      <td>9CD9F34546DF254C</td>\n",
       "      <td>2020-12-07 12:59:29</td>\n",
       "      <td>purchase</td>\n",
       "      <td>4.99</td>\n",
       "    </tr>\n",
       "    <tr>\n",
       "      <td>3</td>\n",
       "      <td>96F27A054B191457</td>\n",
       "      <td>2020-12-07 04:02:40</td>\n",
       "      <td>purchase</td>\n",
       "      <td>4.99</td>\n",
       "    </tr>\n",
       "    <tr>\n",
       "      <td>4</td>\n",
       "      <td>1FD7660FDF94CA1F</td>\n",
       "      <td>2020-12-07 10:15:09</td>\n",
       "      <td>purchase</td>\n",
       "      <td>4.99</td>\n",
       "    </tr>\n",
       "  </tbody>\n",
       "</table>\n",
       "</div>"
      ],
      "text/plain": [
       "            user_id             event_dt event_name  details\n",
       "0  E1BDDCE0DAFA2679  2020-12-07 20:22:03   purchase    99.99\n",
       "1  7B6452F081F49504  2020-12-07 09:22:53   purchase     9.99\n",
       "2  9CD9F34546DF254C  2020-12-07 12:59:29   purchase     4.99\n",
       "3  96F27A054B191457  2020-12-07 04:02:40   purchase     4.99\n",
       "4  1FD7660FDF94CA1F  2020-12-07 10:15:09   purchase     4.99"
      ]
     },
     "execution_count": 15,
     "metadata": {},
     "output_type": "execute_result"
    }
   ],
   "source": [
    "# Загружаем датасет и смотрим первые строки\n",
    "final_ab_events = pd.read_csv('/datasets/final_ab_events.csv')\n",
    "final_ab_events.head(5)"
   ]
  },
  {
   "cell_type": "code",
   "execution_count": 16,
   "metadata": {},
   "outputs": [
    {
     "name": "stdout",
     "output_type": "stream",
     "text": [
      "<class 'pandas.core.frame.DataFrame'>\n",
      "RangeIndex: 440317 entries, 0 to 440316\n",
      "Data columns (total 4 columns):\n",
      "user_id       440317 non-null object\n",
      "event_dt      440317 non-null object\n",
      "event_name    440317 non-null object\n",
      "details       62740 non-null float64\n",
      "dtypes: float64(1), object(3)\n",
      "memory usage: 13.4+ MB\n"
     ]
    }
   ],
   "source": [
    "# Изучаем полноту и типы данных\n",
    "final_ab_events.info()"
   ]
  },
  {
   "cell_type": "code",
   "execution_count": 17,
   "metadata": {},
   "outputs": [
    {
     "data": {
      "text/plain": [
       "0"
      ]
     },
     "execution_count": 17,
     "metadata": {},
     "output_type": "execute_result"
    }
   ],
   "source": [
    "# Проверяем на наличие дубликатов \n",
    "final_ab_events.duplicated().sum()"
   ]
  },
  {
   "cell_type": "code",
   "execution_count": 18,
   "metadata": {},
   "outputs": [
    {
     "data": {
      "text/plain": [
       "array(['purchase', 'product_cart', 'product_page', 'login'], dtype=object)"
      ]
     },
     "execution_count": 18,
     "metadata": {},
     "output_type": "execute_result"
    }
   ],
   "source": [
    "# Смотрим, какие уникальные события соедржатся в столбце events\n",
    "final_ab_events['event_name'].unique()"
   ]
  },
  {
   "cell_type": "code",
   "execution_count": 19,
   "metadata": {},
   "outputs": [
    {
     "name": "stdout",
     "output_type": "stream",
     "text": [
      "<class 'pandas.core.frame.DataFrame'>\n",
      "RangeIndex: 440317 entries, 0 to 440316\n",
      "Data columns (total 4 columns):\n",
      "user_id       440317 non-null object\n",
      "event_dt      440317 non-null datetime64[ns]\n",
      "event_name    440317 non-null object\n",
      "details       62740 non-null float64\n",
      "dtypes: datetime64[ns](1), float64(1), object(2)\n",
      "memory usage: 13.4+ MB\n"
     ]
    }
   ],
   "source": [
    "# Меняем тип данных для столбца с датой и временем на корректный\n",
    "final_ab_events['event_dt'] = pd.to_datetime(final_ab_events['event_dt'])\n",
    "final_ab_events.info()"
   ]
  },
  {
   "cell_type": "code",
   "execution_count": 20,
   "metadata": {},
   "outputs": [
    {
     "data": {
      "text/plain": [
       "count                  440317\n",
       "unique                 267268\n",
       "top       2020-12-23 02:37:24\n",
       "freq                       10\n",
       "first     2020-12-07 00:00:33\n",
       "last      2020-12-30 23:36:33\n",
       "Name: event_dt, dtype: object"
      ]
     },
     "execution_count": 20,
     "metadata": {},
     "output_type": "execute_result"
    }
   ],
   "source": [
    "# Смотрим, за какой период собраны данные\n",
    "final_ab_events['event_dt'].describe()"
   ]
  },
  {
   "cell_type": "code",
   "execution_count": 21,
   "metadata": {},
   "outputs": [
    {
     "data": {
      "text/plain": [
       "array([ 99.99,   9.99,   4.99, 499.99,    nan])"
      ]
     },
     "execution_count": 21,
     "metadata": {},
     "output_type": "execute_result"
    }
   ],
   "source": [
    "# Смотрим уникальные значения в столбце details\n",
    "final_ab_events['details'].unique()"
   ]
  },
  {
   "cell_type": "code",
   "execution_count": 22,
   "metadata": {},
   "outputs": [
    {
     "data": {
      "text/html": [
       "<div>\n",
       "<style scoped>\n",
       "    .dataframe tbody tr th:only-of-type {\n",
       "        vertical-align: middle;\n",
       "    }\n",
       "\n",
       "    .dataframe tbody tr th {\n",
       "        vertical-align: top;\n",
       "    }\n",
       "\n",
       "    .dataframe thead th {\n",
       "        text-align: right;\n",
       "    }\n",
       "</style>\n",
       "<table border=\"1\" class=\"dataframe\">\n",
       "  <thead>\n",
       "    <tr style=\"text-align: right;\">\n",
       "      <th></th>\n",
       "      <th>user_id</th>\n",
       "      <th>event_dt</th>\n",
       "      <th>event_name</th>\n",
       "      <th>details</th>\n",
       "    </tr>\n",
       "  </thead>\n",
       "  <tbody>\n",
       "  </tbody>\n",
       "</table>\n",
       "</div>"
      ],
      "text/plain": [
       "Empty DataFrame\n",
       "Columns: [user_id, event_dt, event_name, details]\n",
       "Index: []"
      ]
     },
     "execution_count": 22,
     "metadata": {},
     "output_type": "execute_result"
    }
   ],
   "source": [
    "# Проверяем, для всех ли событий типа purchase в столбце details содержится цена\n",
    "final_ab_events.query('event_name == \"purchase\" & details.isna()')"
   ]
  },
  {
   "cell_type": "code",
   "execution_count": 23,
   "metadata": {},
   "outputs": [
    {
     "data": {
      "text/html": [
       "<div>\n",
       "<style scoped>\n",
       "    .dataframe tbody tr th:only-of-type {\n",
       "        vertical-align: middle;\n",
       "    }\n",
       "\n",
       "    .dataframe tbody tr th {\n",
       "        vertical-align: top;\n",
       "    }\n",
       "\n",
       "    .dataframe thead th {\n",
       "        text-align: right;\n",
       "    }\n",
       "</style>\n",
       "<table border=\"1\" class=\"dataframe\">\n",
       "  <thead>\n",
       "    <tr style=\"text-align: right;\">\n",
       "      <th></th>\n",
       "      <th>user_id</th>\n",
       "      <th>event_dt</th>\n",
       "      <th>event_name</th>\n",
       "      <th>details</th>\n",
       "    </tr>\n",
       "  </thead>\n",
       "  <tbody>\n",
       "  </tbody>\n",
       "</table>\n",
       "</div>"
      ],
      "text/plain": [
       "Empty DataFrame\n",
       "Columns: [user_id, event_dt, event_name, details]\n",
       "Index: []"
      ]
     },
     "execution_count": 23,
     "metadata": {},
     "output_type": "execute_result"
    }
   ],
   "source": [
    "# Проверяем, содержится ли цена в столбце details для каких-либо событий не типа purchase\n",
    "final_ab_events.query('event_name != \"purchase\" & details.notna()')"
   ]
  },
  {
   "cell_type": "code",
   "execution_count": 24,
   "metadata": {},
   "outputs": [],
   "source": [
    "# Создаем отдельный столбец с датой\n",
    "final_ab_events['event_date'] = final_ab_events['event_dt'].dt.date"
   ]
  },
  {
   "cell_type": "code",
   "execution_count": 25,
   "metadata": {},
   "outputs": [],
   "source": [
    "# Создаем датафрейм с количеством событий по датам\n",
    "events_by_date = final_ab_events.groupby('event_date').agg({'user_id': 'count'}).reset_index()"
   ]
  },
  {
   "cell_type": "code",
   "execution_count": 26,
   "metadata": {},
   "outputs": [
    {
     "data": {
      "image/png": "[encoded data removed]",
      "text/plain": [
       "<Figure size 864x432 with 1 Axes>"
      ]
     },
     "metadata": {
      "needs_background": "light"
     },
     "output_type": "display_data"
    }
   ],
   "source": [
    "# Визуализируем количество событий по датам\n",
    "plt.figure(figsize=(12, 6))\n",
    "plt.plot('event_date', 'user_id', data = events_by_date)\n",
    "plt.grid(b=True)\n",
    "plt.xticks(rotation=45)\n",
    "plt.title('Распределение событий по датам', fontsize=14, fontweight='bold')\n",
    "plt.show()"
   ]
  },
  {
   "cell_type": "code",
   "execution_count": 27,
   "metadata": {},
   "outputs": [
    {
     "data": {
      "text/html": [
       "<div>\n",
       "<style scoped>\n",
       "    .dataframe tbody tr th:only-of-type {\n",
       "        vertical-align: middle;\n",
       "    }\n",
       "\n",
       "    .dataframe tbody tr th {\n",
       "        vertical-align: top;\n",
       "    }\n",
       "\n",
       "    .dataframe thead th {\n",
       "        text-align: right;\n",
       "    }\n",
       "</style>\n",
       "<table border=\"1\" class=\"dataframe\">\n",
       "  <thead>\n",
       "    <tr style=\"text-align: right;\">\n",
       "      <th></th>\n",
       "      <th>event_date</th>\n",
       "      <th>user_id</th>\n",
       "    </tr>\n",
       "  </thead>\n",
       "  <tbody>\n",
       "    <tr>\n",
       "      <td>19</td>\n",
       "      <td>2020-12-26</td>\n",
       "      <td>14058</td>\n",
       "    </tr>\n",
       "    <tr>\n",
       "      <td>20</td>\n",
       "      <td>2020-12-27</td>\n",
       "      <td>12420</td>\n",
       "    </tr>\n",
       "    <tr>\n",
       "      <td>21</td>\n",
       "      <td>2020-12-28</td>\n",
       "      <td>11014</td>\n",
       "    </tr>\n",
       "    <tr>\n",
       "      <td>22</td>\n",
       "      <td>2020-12-29</td>\n",
       "      <td>10146</td>\n",
       "    </tr>\n",
       "    <tr>\n",
       "      <td>23</td>\n",
       "      <td>2020-12-30</td>\n",
       "      <td>89</td>\n",
       "    </tr>\n",
       "  </tbody>\n",
       "</table>\n",
       "</div>"
      ],
      "text/plain": [
       "    event_date  user_id\n",
       "19  2020-12-26    14058\n",
       "20  2020-12-27    12420\n",
       "21  2020-12-28    11014\n",
       "22  2020-12-29    10146\n",
       "23  2020-12-30       89"
      ]
     },
     "execution_count": 27,
     "metadata": {},
     "output_type": "execute_result"
    }
   ],
   "source": [
    "# Смотрим количество событий по датам в конце периода\n",
    "events_by_date.tail(5)"
   ]
  },
  {
   "cell_type": "markdown",
   "metadata": {},
   "source": [
    "В ходе изучения датафрейма мы сделали следующие наблюдения:\n",
    "\n",
    "1. Датафрейм содержит 440317 записей о событиях в период с 7 по 30 декабря 2020 года. Тест должен был закончиться 4 января 2021 года, но данные за период с 31 декабря по 4 января отсутствуют. Кроме того, количество записей за 29 декабря значительно ниже количества записей в другие дни периода.\n",
    "2. Данные не содержат дубликатов, но содержат пропуски в столбце details - столбец заполнен только для событий purchase, в таком случае в нем указана стоимость покупки."
   ]
  },
  {
   "cell_type": "markdown",
   "metadata": {},
   "source": [
    "<a id = 'section_2.2'></a>\n",
    "## 2.2 Проверка данных для анализа и приведение их в соответствие с техзаданием"
   ]
  },
  {
   "cell_type": "markdown",
   "metadata": {},
   "source": [
    "Согласно техзаданию в тест должны были попасть пользователи со следующими характеристиками:\n",
    "\n",
    "- регион пользователя - Европа,\n",
    "- дата регистрации с 7 по 21 декабря.\n",
    "\n",
    "При этом в тест должны были попасть 15% новых пользователей из региона Европа, зарегистрировавшихся за указанный период. Общее количество участников теста должно было составить 6000 человек. В тест должны были попасть логи пользователя за 2 недели.\n",
    "\n",
    "Проверим, насколько полученные данные соответствуют техзаданию."
   ]
  },
  {
   "cell_type": "code",
   "execution_count": 28,
   "metadata": {},
   "outputs": [
    {
     "name": "stdout",
     "output_type": "stream",
     "text": [
      "Общее количество участников теста: 6351\n",
      "Доля участников теста от общего количества новых пользователей из региона Европа: 15%\n"
     ]
    }
   ],
   "source": [
    "# Выделим в отдельный датасет пользователей из региона Европа, зарегистрировавшихся с 7 по 21 декабря\n",
    "new_users_clean = final_ab_new_users.query('region == \"EU\" & (\"2020-12-07\" <= first_date <= \"2020-12-21\")')\n",
    "\n",
    "# Выделим из датасета с участниками теста, только пользователей из Европы, зарегистрировавшихся в нужный период\n",
    "participants_clean = (final_ab_participants\n",
    "                      .query('ab_test == \"recommender_system_test\" & user_id.isin(@new_users_clean.user_id)'))\n",
    "\n",
    "# Выведем количество таких пользователей\n",
    "print('Общее количество участников теста:', len(participants_clean))\n",
    "print(\"Доля участников теста от общего количества новых пользователей из региона Европа: {:.0%}\"\n",
    "       .format(len(participants_clean) / len(new_users_clean)))"
   ]
  },
  {
   "cell_type": "markdown",
   "metadata": {},
   "source": [
    "Видим, что в тест попал 6351 пользователь из региона Европа, что составило 15% от общего числа пользователей, зарегистрировавшихся в период с 7 по 21 декабря. Это соответствует техзаданию.\n",
    "\n",
    "Однако, нам необходимо проанализировать логи каждого пользователя за 2 недели. Но мы знаем, что в датасете с записями событий, содержатся только события пользователей за период с 7 по 30 декабря, при этом данные за 30 декабря (судя по количеству записей за день) неполные. То есть имеются полные данные только за период с 7 по 29 декабря. Соответственно, в тест должны быть включены пользователи, которые были зарегистрированы только в период до 15 декабря включительно.\n",
    "\n",
    "Выделим таких пользователей."
   ]
  },
  {
   "cell_type": "code",
   "execution_count": 29,
   "metadata": {},
   "outputs": [
    {
     "name": "stdout",
     "output_type": "stream",
     "text": [
      "Общее количество участников теста: 3812\n",
      "Доля участников теста от общего количества новых пользователей из региона Европа: 15%\n"
     ]
    }
   ],
   "source": [
    "# Выделим в отдельный датасет пользователей из региона Европа, зарегистрировавшихся с 7 по 15 декабря\n",
    "new_users_clean = final_ab_new_users.query('region == \"EU\" & (\"2020-12-07\" <= first_date <= \"2020-12-15\")')\n",
    "\n",
    "# Выделим из датасета с участниками теста, только пользователей из Европы, зарегистрировавшихся в нужный период\n",
    "participants_clean = (final_ab_participants\n",
    "                      .query('ab_test == \"recommender_system_test\" & user_id.isin(@new_users_clean.user_id)'))\n",
    "\n",
    "# Выведем количество таких пользователей\n",
    "print('Общее количество участников теста:', len(participants_clean))\n",
    "print(\"Доля участников теста от общего количества новых пользователей из региона Европа: {:.0%}\"\n",
    "       .format(len(participants_clean) / len(new_users_clean)))"
   ]
  },
  {
   "cell_type": "markdown",
   "metadata": {},
   "source": [
    "После удаления пользователей, не соответствующих части техзадания, общее количество участников теста составило 3812 пользователей, что существенно меньше, чем запланированное количество участников теста.\n",
    "\n",
    "Далее проведем проверку на наличие пересечений пользователей нашего теста с пользователями, попавшими в другой тест, данные о котором содержатся в нашем датасете. Проверим, есть ли в датасете пользователи, участвовавшие в обоих тестах."
   ]
  },
  {
   "cell_type": "code",
   "execution_count": 30,
   "metadata": {},
   "outputs": [
    {
     "name": "stdout",
     "output_type": "stream",
     "text": [
      "Количество пользователей, которые участвовали в обоих тестах: 1602\n"
     ]
    }
   ],
   "source": [
    "# Выделяем id пользователей, участвовавших в первом тесте \n",
    "final_test1_participants = final_ab_participants.query('ab_test == \"recommender_system_test\"')['user_id']\n",
    "\n",
    "# Выделяем id пользователей, участвовавших во втором тесте \n",
    "final_test2_participants = final_ab_participants.query('ab_test == \"interface_eu_test\"')['user_id']\n",
    "\n",
    "# Объединяем series и смотрим количество дубликатов\n",
    "all_tests_participants = pd.concat([final_test1_participants, final_test2_participants])\n",
    "print('Количество пользователей, которые участвовали в обоих тестах:', all_tests_participants.duplicated().sum())"
   ]
  },
  {
   "cell_type": "markdown",
   "metadata": {},
   "source": [
    "Не будем удалять таких пользователей из набора данных, так как у нас нет информации о том, пересекались ли тесты по времени проведения. Однако, если было пересечение тестов по времени, то для таких пользователей невозможно оценить, какое из нововведений повлияло на изменение их поведения."
   ]
  },
  {
   "cell_type": "code",
   "execution_count": 31,
   "metadata": {},
   "outputs": [
    {
     "data": {
      "text/plain": [
       "1660"
      ]
     },
     "execution_count": 31,
     "metadata": {},
     "output_type": "execute_result"
    }
   ],
   "source": [
    "# Выберем записи о событиях, относящиеся только к участникам теста\n",
    "test_events_clean = final_ab_events.query('user_id.isin(@participants_clean.user_id)')\n",
    "\n",
    "# Посмотрим количество таких пользователей\n",
    "test_events_clean['user_id'].nunique()"
   ]
  },
  {
   "cell_type": "markdown",
   "metadata": {},
   "source": [
    "Из 3812 участников теста только 1660 совершили какие-то действия за период теста."
   ]
  },
  {
   "cell_type": "markdown",
   "metadata": {},
   "source": [
    "<a id = 'section_2.3'></a>\n",
    "## 2.3 Выводы и рекомендации\n",
    "\n",
    "После изучения наборов данных можно сделать следующие выводы:\n",
    "\n",
    "1. Собранные данные не в полной мере соответствовали техзаданию: набор данных о событиях не для всех пользователей содержал данные за 2 недели. После очистки данных от тех записей, которые не соответствовали техзаданию, в тестовой группе оказалось 3812 пользователей вместо запланированных 6000.\n",
    "2. Аудитория теста на 42% пересекалась с аудиторией другого теста - таким образом, если тесты пересекались по времени, трудно определить за счет какого нововведения произошло изменение поведения пользователей.\n",
    "3. Во время проведения теста проводилась маркетинговая акция, что также могло оказать влияние на поведение пользователей.\n",
    "\n",
    "Рекомендации для проведения тестов в будущем:\n",
    "\n",
    "1. Не проводить одновременно несколько тестов.\n",
    "2. В период проведения тестов не проводить для аудитории теста специальных маркетинговых акций.\n",
    "3. Контролировать, чтобы собираемые данные соответствовали техзаданию."
   ]
  },
  {
   "cell_type": "markdown",
   "metadata": {},
   "source": [
    "# Часть 3. Анализ результатов А/В-теста"
   ]
  },
  {
   "cell_type": "markdown",
   "metadata": {},
   "source": [
    "<a id = 'section_3.1'></a>\n",
    "## 3.1 Исследовательский анализ данных"
   ]
  },
  {
   "cell_type": "markdown",
   "metadata": {},
   "source": [
    "Исследуем набор данных с событиями пользователей, участвовавших в А/В-тесте. Для начала объединим нужные данные в один датасет."
   ]
  },
  {
   "cell_type": "code",
   "execution_count": 32,
   "metadata": {},
   "outputs": [
    {
     "name": "stdout",
     "output_type": "stream",
     "text": [
      "11261\n"
     ]
    },
    {
     "data": {
      "text/html": [
       "<div>\n",
       "<style scoped>\n",
       "    .dataframe tbody tr th:only-of-type {\n",
       "        vertical-align: middle;\n",
       "    }\n",
       "\n",
       "    .dataframe tbody tr th {\n",
       "        vertical-align: top;\n",
       "    }\n",
       "\n",
       "    .dataframe thead th {\n",
       "        text-align: right;\n",
       "    }\n",
       "</style>\n",
       "<table border=\"1\" class=\"dataframe\">\n",
       "  <thead>\n",
       "    <tr style=\"text-align: right;\">\n",
       "      <th></th>\n",
       "      <th>user_id</th>\n",
       "      <th>event_dt</th>\n",
       "      <th>event_name</th>\n",
       "      <th>details</th>\n",
       "      <th>event_date</th>\n",
       "      <th>group</th>\n",
       "      <th>first_date</th>\n",
       "      <th>device</th>\n",
       "    </tr>\n",
       "  </thead>\n",
       "  <tbody>\n",
       "    <tr>\n",
       "      <td>0</td>\n",
       "      <td>831887FE7F2D6CBA</td>\n",
       "      <td>2020-12-07 06:50:29</td>\n",
       "      <td>purchase</td>\n",
       "      <td>4.99</td>\n",
       "      <td>2020-12-07</td>\n",
       "      <td>A</td>\n",
       "      <td>2020-12-07</td>\n",
       "      <td>Android</td>\n",
       "    </tr>\n",
       "    <tr>\n",
       "      <td>1</td>\n",
       "      <td>3C5DD0288AC4FE23</td>\n",
       "      <td>2020-12-07 19:42:40</td>\n",
       "      <td>purchase</td>\n",
       "      <td>4.99</td>\n",
       "      <td>2020-12-07</td>\n",
       "      <td>A</td>\n",
       "      <td>2020-12-07</td>\n",
       "      <td>PC</td>\n",
       "    </tr>\n",
       "    <tr>\n",
       "      <td>2</td>\n",
       "      <td>49EA242586C87836</td>\n",
       "      <td>2020-12-07 06:31:24</td>\n",
       "      <td>purchase</td>\n",
       "      <td>99.99</td>\n",
       "      <td>2020-12-07</td>\n",
       "      <td>B</td>\n",
       "      <td>2020-12-07</td>\n",
       "      <td>iPhone</td>\n",
       "    </tr>\n",
       "  </tbody>\n",
       "</table>\n",
       "</div>"
      ],
      "text/plain": [
       "            user_id            event_dt event_name  details  event_date group  \\\n",
       "0  831887FE7F2D6CBA 2020-12-07 06:50:29   purchase     4.99  2020-12-07     A   \n",
       "1  3C5DD0288AC4FE23 2020-12-07 19:42:40   purchase     4.99  2020-12-07     A   \n",
       "2  49EA242586C87836 2020-12-07 06:31:24   purchase    99.99  2020-12-07     B   \n",
       "\n",
       "  first_date   device  \n",
       "0 2020-12-07  Android  \n",
       "1 2020-12-07       PC  \n",
       "2 2020-12-07   iPhone  "
      ]
     },
     "execution_count": 32,
     "metadata": {},
     "output_type": "execute_result"
    }
   ],
   "source": [
    "# Объединяем данные в один датафрейм\n",
    "test_data = test_events_clean.merge(participants_clean, on = 'user_id', how = 'left')\n",
    "test_data = test_data.merge(final_ab_new_users, on = 'user_id', how = 'left').drop(columns = ['ab_test', 'region'])\n",
    "\n",
    "# Проверим количество записей\n",
    "print(len(test_data))\n",
    "\n",
    "# Посмотрим первые строки полученного датафрейма\n",
    "test_data.head(3)"
   ]
  },
  {
   "cell_type": "code",
   "execution_count": 33,
   "metadata": {},
   "outputs": [
    {
     "data": {
      "text/plain": [
       "count                   11261\n",
       "unique                     24\n",
       "top       2020-12-14 00:00:00\n",
       "freq                     1263\n",
       "first     2020-12-07 00:00:00\n",
       "last      2020-12-30 00:00:00\n",
       "Name: event_date, dtype: object"
      ]
     },
     "execution_count": 33,
     "metadata": {},
     "output_type": "execute_result"
    }
   ],
   "source": [
    "# Меняем тип данных в столбце event_date\n",
    "test_data['event_date'] = pd.to_datetime(test_data['event_date'])\n",
    "\n",
    "# Проверяем, не осталось ли лишних данных\n",
    "test_data['event_date'].describe()"
   ]
  },
  {
   "cell_type": "markdown",
   "metadata": {},
   "source": [
    "Данные за 30 декабря удалим из датафрейма, так как они неполные."
   ]
  },
  {
   "cell_type": "code",
   "execution_count": 34,
   "metadata": {},
   "outputs": [],
   "source": [
    "# Удаляем данные за 30 декабря\n",
    "test_data = test_data.loc[test_data['event_date'] != '2020-12-30']"
   ]
  },
  {
   "cell_type": "markdown",
   "metadata": {},
   "source": [
    "##### Проверка количества пользователей в группах\n",
    "\n",
    "Проверим количество пользователей в контрольной и тестовой группе, а также изучим, есть ли пользователи, которые попали в обе группы. При наличии таких пользователей удалим их."
   ]
  },
  {
   "cell_type": "code",
   "execution_count": 35,
   "metadata": {},
   "outputs": [
    {
     "name": "stdout",
     "output_type": "stream",
     "text": [
      "Количество пользователей в контрольной группе составляет: 1153\n",
      "Количество пользователей в тестовой группе составляет: 507\n",
      "Количество пользователей, попавших в обе группы: 0\n"
     ]
    }
   ],
   "source": [
    "# Выделяем пользователей группы А и считаем их количество\n",
    "group_a = test_data.query('group == \"A\"')\n",
    "group_a_unique = pd.Series(group_a['user_id'].unique())\n",
    "print('Количество пользователей в контрольной группе составляет:', len(group_a_unique))\n",
    "\n",
    "# Выделяем пользователей группы В и считаем их количество\n",
    "group_b = test_data.query('group == \"B\"')\n",
    "group_b_unique = pd.Series(group_b['user_id'].unique())\n",
    "print('Количество пользователей в тестовой группе составляет:', len(group_b_unique))\n",
    "\n",
    "# Считаем количество пересечений пользователей из двух групп\n",
    "group_ab = pd.concat([group_a_unique, group_b_unique])\n",
    "print('Количество пользователей, попавших в обе группы:', group_ab.duplicated().sum())"
   ]
  },
  {
   "cell_type": "markdown",
   "metadata": {},
   "source": [
    "Количество пользователей в контрольной группе более, чем в 2 раза, превышает количество пользователей в тестовой группе. При этом в группах нет пользователей, которые попали в обе группы одновременно.\n",
    "\n",
    "Для дальнейшего анализа выделим данные по двум группам - контрольной и тестовой - в отдельные датафреймы."
   ]
  },
  {
   "cell_type": "code",
   "execution_count": 36,
   "metadata": {},
   "outputs": [],
   "source": [
    "# Выделяем данные по каждой группе в отдельный датафрейм\n",
    "group_a_daily_events = group_a.groupby('event_date').agg({'user_id': 'count'}).reset_index()\n",
    "group_b_daily_events = group_b.groupby('event_date').agg({'user_id': 'count'}).reset_index()"
   ]
  },
  {
   "cell_type": "markdown",
   "metadata": {},
   "source": [
    "##### Анализ распределения событий в группах по датам\n",
    "\n",
    "Для начала проанализируем, как события в группах распределены по датам."
   ]
  },
  {
   "cell_type": "code",
   "execution_count": 37,
   "metadata": {},
   "outputs": [
    {
     "data": {
      "image/png": "[encoded data removed]",
      "text/plain": [
       "<Figure size 864x432 with 1 Axes>"
      ]
     },
     "metadata": {
      "needs_background": "light"
     },
     "output_type": "display_data"
    }
   ],
   "source": [
    "# Визуализируем количество событий по датам\n",
    "plt.figure(figsize=(12, 6))\n",
    "plt.plot('event_date', 'user_id', data = group_a_daily_events)\n",
    "plt.plot('event_date', 'user_id', data = group_b_daily_events)\n",
    "plt.grid(b=True)\n",
    "plt.xticks(rotation=45)\n",
    "plt.title('Распределение событий по датам', fontsize=14, fontweight='bold')\n",
    "plt.legend(('Контрольная группа', 'Тестовая группа'))\n",
    "plt.show()"
   ]
  },
  {
   "cell_type": "markdown",
   "metadata": {},
   "source": [
    "Видим, что в основном события по датам распределены равномерно и тренды схожи для обоих групп - количество событий снижается с течением эксперимента.\n",
    "\n",
    "Однако, количество событий 14 - 17 декабря дла контрольной группы сильно выбивается из общей картины - в эти даты число событий резко возросло более чем в 2 раза. В тестовой группе такого резкого скачка нет - похоже, все пользователи с возросшей активностью (причины которой необходимо изучать дополнительно) в основном попали в контрольную группу. Необходимо учитывать, что это может исказить результаты теста. \n",
    "\n",
    "##### Распределение количества событий на одного пользователя\n",
    "\n",
    "Далее изучим, как в группах распределено количество сессий на пользователя."
   ]
  },
  {
   "cell_type": "code",
   "execution_count": 38,
   "metadata": {},
   "outputs": [],
   "source": [
    "# Формируем датафреймы с количество событий на одного пользователя для каждой группы\n",
    "group_a_events_per_user = group_a.groupby('user_id').agg({'event_date': 'count'}).reset_index()\n",
    "group_b_events_per_user = group_b.groupby('user_id').agg({'event_date': 'count'}).reset_index()"
   ]
  },
  {
   "cell_type": "code",
   "execution_count": 39,
   "metadata": {},
   "outputs": [
    {
     "data": {
      "image/png": "[encoded data removed]",
      "text/plain": [
       "<Figure size 864x432 with 1 Axes>"
      ]
     },
     "metadata": {
      "needs_background": "light"
     },
     "output_type": "display_data"
    }
   ],
   "source": [
    "# Визуализируем данные\n",
    "plt.figure(figsize=(12, 6))\n",
    "group_a_events_per_user['event_date'].hist(bins = 25)\n",
    "group_b_events_per_user['event_date'].hist(bins = 25, alpha = .7)\n",
    "plt.grid(b=True)\n",
    "plt.title('Распределение количества событий на пользователя', fontsize=14, fontweight='bold')\n",
    "plt.legend(('Контрольная группа', 'Тестовая группа'))\n",
    "plt.show()"
   ]
  },
  {
   "cell_type": "markdown",
   "metadata": {},
   "source": [
    "Здесь мы видим очень схожие картины мультимодальных распределений с совпадающими модами.\n",
    "\n",
    "##### Воронки событий\n",
    "\n",
    "Теперь сравним воронки событий для разных групп. Чтобы оптимизировать процесс, напишем функцию для формирования таблицы с воронкой."
   ]
  },
  {
   "cell_type": "code",
   "execution_count": 40,
   "metadata": {},
   "outputs": [],
   "source": [
    "def funnel(df):\n",
    "    funnel = (df\n",
    "              .groupby('event_name')\n",
    "              .agg({'user_id': 'nunique'})\n",
    "              .reset_index())\n",
    "    # Задаем порядок шагов в воронке\n",
    "    funnel['event_name'] = pd.Categorical(funnel['event_name'], [\"login\", \"product_page\", \"product_cart\", \"purchase\"])\n",
    "    funnel = funnel.sort_values(by='event_name')\n",
    "    funnel.columns = ['event', 'users_count']\n",
    "    # Считаем процент пользователей от общего количества уникальных пользователей, переходящих на следующий этап \n",
    "    funnel['event_users_to_all_users'] = (funnel['users_count'] / df['user_id'].nunique()).round(2)\n",
    "    # Дополним таблицу столбцом с количеством ползователей на предыдущем шаге \n",
    "    funnel['prev_step_users'] = (funnel['users_count'].shift(periods=1)).astype(pd.Int32Dtype())\n",
    "    funnel['prev_step_users'] = funnel['prev_step_users'].fillna(df['user_id'].nunique())\n",
    "    # Считаем соотношение пользователей на текущем шаге к количеству пользователей на предыдущем шаге \n",
    "    funnel['event_users_to_prev_step_users'] = (funnel['users_count'] / funnel['prev_step_users']).round(2)\n",
    "    return funnel"
   ]
  },
  {
   "cell_type": "code",
   "execution_count": 41,
   "metadata": {},
   "outputs": [
    {
     "data": {
      "text/html": [
       "<div>\n",
       "<style scoped>\n",
       "    .dataframe tbody tr th:only-of-type {\n",
       "        vertical-align: middle;\n",
       "    }\n",
       "\n",
       "    .dataframe tbody tr th {\n",
       "        vertical-align: top;\n",
       "    }\n",
       "\n",
       "    .dataframe thead th {\n",
       "        text-align: right;\n",
       "    }\n",
       "</style>\n",
       "<table border=\"1\" class=\"dataframe\">\n",
       "  <thead>\n",
       "    <tr style=\"text-align: right;\">\n",
       "      <th></th>\n",
       "      <th>event</th>\n",
       "      <th>users_count</th>\n",
       "      <th>event_users_to_all_users</th>\n",
       "      <th>prev_step_users</th>\n",
       "      <th>event_users_to_prev_step_users</th>\n",
       "    </tr>\n",
       "  </thead>\n",
       "  <tbody>\n",
       "    <tr>\n",
       "      <td>0</td>\n",
       "      <td>login</td>\n",
       "      <td>1660</td>\n",
       "      <td>1.00</td>\n",
       "      <td>1660</td>\n",
       "      <td>1.00</td>\n",
       "    </tr>\n",
       "    <tr>\n",
       "      <td>2</td>\n",
       "      <td>product_page</td>\n",
       "      <td>1000</td>\n",
       "      <td>0.60</td>\n",
       "      <td>1660</td>\n",
       "      <td>0.60</td>\n",
       "    </tr>\n",
       "    <tr>\n",
       "      <td>1</td>\n",
       "      <td>product_cart</td>\n",
       "      <td>471</td>\n",
       "      <td>0.28</td>\n",
       "      <td>1000</td>\n",
       "      <td>0.47</td>\n",
       "    </tr>\n",
       "    <tr>\n",
       "      <td>3</td>\n",
       "      <td>purchase</td>\n",
       "      <td>469</td>\n",
       "      <td>0.28</td>\n",
       "      <td>471</td>\n",
       "      <td>1.00</td>\n",
       "    </tr>\n",
       "  </tbody>\n",
       "</table>\n",
       "</div>"
      ],
      "text/plain": [
       "          event  users_count  event_users_to_all_users  prev_step_users  \\\n",
       "0         login         1660                      1.00             1660   \n",
       "2  product_page         1000                      0.60             1660   \n",
       "1  product_cart          471                      0.28             1000   \n",
       "3      purchase          469                      0.28              471   \n",
       "\n",
       "   event_users_to_prev_step_users  \n",
       "0                            1.00  \n",
       "2                            0.60  \n",
       "1                            0.47  \n",
       "3                            1.00  "
      ]
     },
     "execution_count": 41,
     "metadata": {},
     "output_type": "execute_result"
    }
   ],
   "source": [
    "# Посмотрим на воронку для всех участников теста\n",
    "funnel(test_data)"
   ]
  },
  {
   "cell_type": "code",
   "execution_count": 42,
   "metadata": {},
   "outputs": [
    {
     "data": {
      "text/html": [
       "<div>\n",
       "<style scoped>\n",
       "    .dataframe tbody tr th:only-of-type {\n",
       "        vertical-align: middle;\n",
       "    }\n",
       "\n",
       "    .dataframe tbody tr th {\n",
       "        vertical-align: top;\n",
       "    }\n",
       "\n",
       "    .dataframe thead th {\n",
       "        text-align: right;\n",
       "    }\n",
       "</style>\n",
       "<table border=\"1\" class=\"dataframe\">\n",
       "  <thead>\n",
       "    <tr style=\"text-align: right;\">\n",
       "      <th></th>\n",
       "      <th>event</th>\n",
       "      <th>users_count</th>\n",
       "      <th>event_users_to_all_users</th>\n",
       "      <th>prev_step_users</th>\n",
       "      <th>event_users_to_prev_step_users</th>\n",
       "    </tr>\n",
       "  </thead>\n",
       "  <tbody>\n",
       "    <tr>\n",
       "      <td>0</td>\n",
       "      <td>login</td>\n",
       "      <td>1153</td>\n",
       "      <td>1.00</td>\n",
       "      <td>1153</td>\n",
       "      <td>1.00</td>\n",
       "    </tr>\n",
       "    <tr>\n",
       "      <td>2</td>\n",
       "      <td>product_page</td>\n",
       "      <td>719</td>\n",
       "      <td>0.62</td>\n",
       "      <td>1153</td>\n",
       "      <td>0.62</td>\n",
       "    </tr>\n",
       "    <tr>\n",
       "      <td>1</td>\n",
       "      <td>product_cart</td>\n",
       "      <td>344</td>\n",
       "      <td>0.30</td>\n",
       "      <td>719</td>\n",
       "      <td>0.48</td>\n",
       "    </tr>\n",
       "    <tr>\n",
       "      <td>3</td>\n",
       "      <td>purchase</td>\n",
       "      <td>328</td>\n",
       "      <td>0.28</td>\n",
       "      <td>344</td>\n",
       "      <td>0.95</td>\n",
       "    </tr>\n",
       "  </tbody>\n",
       "</table>\n",
       "</div>"
      ],
      "text/plain": [
       "          event  users_count  event_users_to_all_users  prev_step_users  \\\n",
       "0         login         1153                      1.00             1153   \n",
       "2  product_page          719                      0.62             1153   \n",
       "1  product_cart          344                      0.30              719   \n",
       "3      purchase          328                      0.28              344   \n",
       "\n",
       "   event_users_to_prev_step_users  \n",
       "0                            1.00  \n",
       "2                            0.62  \n",
       "1                            0.48  \n",
       "3                            0.95  "
      ]
     },
     "execution_count": 42,
     "metadata": {},
     "output_type": "execute_result"
    }
   ],
   "source": [
    "# Построим воронку для группы А\n",
    "funnel(group_a)"
   ]
  },
  {
   "cell_type": "code",
   "execution_count": 43,
   "metadata": {},
   "outputs": [
    {
     "data": {
      "text/html": [
       "<div>\n",
       "<style scoped>\n",
       "    .dataframe tbody tr th:only-of-type {\n",
       "        vertical-align: middle;\n",
       "    }\n",
       "\n",
       "    .dataframe tbody tr th {\n",
       "        vertical-align: top;\n",
       "    }\n",
       "\n",
       "    .dataframe thead th {\n",
       "        text-align: right;\n",
       "    }\n",
       "</style>\n",
       "<table border=\"1\" class=\"dataframe\">\n",
       "  <thead>\n",
       "    <tr style=\"text-align: right;\">\n",
       "      <th></th>\n",
       "      <th>event</th>\n",
       "      <th>users_count</th>\n",
       "      <th>event_users_to_all_users</th>\n",
       "      <th>prev_step_users</th>\n",
       "      <th>event_users_to_prev_step_users</th>\n",
       "    </tr>\n",
       "  </thead>\n",
       "  <tbody>\n",
       "    <tr>\n",
       "      <td>0</td>\n",
       "      <td>login</td>\n",
       "      <td>507</td>\n",
       "      <td>1.00</td>\n",
       "      <td>507</td>\n",
       "      <td>1.00</td>\n",
       "    </tr>\n",
       "    <tr>\n",
       "      <td>2</td>\n",
       "      <td>product_page</td>\n",
       "      <td>281</td>\n",
       "      <td>0.55</td>\n",
       "      <td>507</td>\n",
       "      <td>0.55</td>\n",
       "    </tr>\n",
       "    <tr>\n",
       "      <td>1</td>\n",
       "      <td>product_cart</td>\n",
       "      <td>127</td>\n",
       "      <td>0.25</td>\n",
       "      <td>281</td>\n",
       "      <td>0.45</td>\n",
       "    </tr>\n",
       "    <tr>\n",
       "      <td>3</td>\n",
       "      <td>purchase</td>\n",
       "      <td>141</td>\n",
       "      <td>0.28</td>\n",
       "      <td>127</td>\n",
       "      <td>1.11</td>\n",
       "    </tr>\n",
       "  </tbody>\n",
       "</table>\n",
       "</div>"
      ],
      "text/plain": [
       "          event  users_count  event_users_to_all_users  prev_step_users  \\\n",
       "0         login          507                      1.00              507   \n",
       "2  product_page          281                      0.55              507   \n",
       "1  product_cart          127                      0.25              281   \n",
       "3      purchase          141                      0.28              127   \n",
       "\n",
       "   event_users_to_prev_step_users  \n",
       "0                            1.00  \n",
       "2                            0.55  \n",
       "1                            0.45  \n",
       "3                            1.11  "
      ]
     },
     "execution_count": 43,
     "metadata": {},
     "output_type": "execute_result"
    }
   ],
   "source": [
    "# Построим воронку для группы В\n",
    "funnel(group_b)"
   ]
  },
  {
   "cell_type": "markdown",
   "metadata": {},
   "source": [
    "Сравнивая воронки групп А и В, можно отметить, что наибольшее отличие в конверсии наблюдается на этапе просмотра страницы с продуктом (различие на 7% от общего числа пользователей) - конверсия контрольной группы выше, чем конверсия тестовой группы. Затем следует различие в конверсии на этапе просмотра корзины (конверсия отличается на 5% от общего числа пользователей) - так же конверсия контрольной группы выше. Конверсия в покупку одинакова для обеих групп.\n",
    "\n",
    "\n",
    "Для того, чтобы проверить наличие статистически значимых различий в конверсии между контрольной и тестовой группой проведем проверку  с использованием z-теста. Так как мы будем проводить целый ряд попарных сравнений, напишем функцию, чтобы оптимизировать данный процесс."
   ]
  },
  {
   "cell_type": "code",
   "execution_count": 44,
   "metadata": {},
   "outputs": [],
   "source": [
    "# Напишем функцию для проверки наличия стат. значимых отличий\n",
    "def stat_difference_check(alpha, df1, df2, event_name):\n",
    "\n",
    "    # Формулируем нулевую гипотезу\n",
    "    print('Гипотеза:')\n",
    "    print('H0: Конверсия в событие {} для групп A и B одинакова.'.format(event_name))\n",
    "    print('H1: Конверсия в событие {} для групп A и B имеет статистически значимое различие.'\n",
    "          .format(event_name))\n",
    "    print()\n",
    "    \n",
    "    # Установливаем критический уровень статистической значимости\n",
    "    alpha = alpha \n",
    "\n",
    "    # Выделяем количество уникальных пользователей в группе А, у которых наступило событие\n",
    "    event_users_g1 = df1.query('event_name == @event_name')['user_id'].nunique()\n",
    "    # Выделяем общее количество уникальных пользователей в группе А\n",
    "    total_users_g1 = df1['user_id'].nunique()\n",
    "\n",
    "    # Выделяе количество уникальных пользователей в группе В, у которых наступило событие\n",
    "    event_users_g2 = df2.query('event_name == @event_name')['user_id'].nunique()\n",
    "    # Выделяем общее количество уникальных пользователей в группе В\n",
    "    total_users_g2 = df2['user_id'].nunique()\n",
    "\n",
    "    # Посчитаем пропорцию успехов в группе А и группе В и выведем на экран \n",
    "    p1 = event_users_g1 / total_users_g1\n",
    "    p2 = event_users_g2 / total_users_g2\n",
    "    print('Результат сравнения:')\n",
    "    print('Соотношение пользователей, у которых произошло событие {}, к общему числу пользователей:'.format(event_name))\n",
    "    print('группа A - {:.2%};'.format(p1))\n",
    "    print('группа B - {:.2%}.'.format(p2))\n",
    "   \n",
    "    # Посчитаем общую пропорцию успехов\n",
    "    p_combined = (event_users_g1 + event_users_g2) / (total_users_g1 + total_users_g2)\n",
    "\n",
    "    # Считаем разницу пропорций в датасетах\n",
    "    difference = p1 - p2 \n",
    "\n",
    "    # Считаем статистику в ст.отклонениях стандартного нормального распределения\n",
    "    z_value = difference / mth.sqrt(p_combined * (1 - p_combined) * (1/total_users_g1 + 1/total_users_g2))\n",
    "\n",
    "    # Задаем стандартное нормальное распределение (среднее 0, ст.отклонение 1)\n",
    "    distr = st.norm(0, 1)\n",
    "\n",
    "    # Считаем p-значение\n",
    "    p_value = (1 - distr.cdf(abs(z_value))) * 2\n",
    "    \n",
    "    # Выводим полученное р-значение и вывод о результате проведенного сравнения\n",
    "    print('P-значение:', p_value)\n",
    "    print()\n",
    "    \n",
    "    if (p_value < alpha):\n",
    "        print('Вывод:')\n",
    "        print('Отвергаем нулевую гипотезу - между долями есть значимая разница.')\n",
    "    else:\n",
    "        print('Вывод:')\n",
    "        print('Не получилось отвергнуть нулевую гипотезу, нет оснований считать доли разными.') "
   ]
  },
  {
   "cell_type": "markdown",
   "metadata": {},
   "source": [
    "Сравним конверсию в двух группах на каждом этапе воронки событий с помощью функции."
   ]
  },
  {
   "cell_type": "code",
   "execution_count": 45,
   "metadata": {},
   "outputs": [
    {
     "name": "stdout",
     "output_type": "stream",
     "text": [
      "Гипотеза:\n",
      "H0: Конверсия в событие product_page для групп A и B одинакова.\n",
      "H1: Конверсия в событие product_page для групп A и B имеет статистически значимое различие.\n",
      "\n",
      "Результат сравнения:\n",
      "Соотношение пользователей, у которых произошло событие product_page, к общему числу пользователей:\n",
      "группа A - 62.36%;\n",
      "группа B - 55.42%.\n",
      "P-значение: 0.007833188211841868\n",
      "\n",
      "Вывод:\n",
      "Отвергаем нулевую гипотезу - между долями есть значимая разница.\n"
     ]
    }
   ],
   "source": [
    "stat_difference_check(.05, group_a, group_b, \"product_page\")"
   ]
  },
  {
   "cell_type": "code",
   "execution_count": 46,
   "metadata": {},
   "outputs": [
    {
     "name": "stdout",
     "output_type": "stream",
     "text": [
      "Гипотеза:\n",
      "H0: Конверсия в событие product_cart для групп A и B одинакова.\n",
      "H1: Конверсия в событие product_cart для групп A и B имеет статистически значимое различие.\n",
      "\n",
      "Результат сравнения:\n",
      "Соотношение пользователей, у которых произошло событие product_cart, к общему числу пользователей:\n",
      "группа A - 29.84%;\n",
      "группа B - 25.05%.\n",
      "P-значение: 0.04634799284661306\n",
      "\n",
      "Вывод:\n",
      "Отвергаем нулевую гипотезу - между долями есть значимая разница.\n"
     ]
    }
   ],
   "source": [
    "stat_difference_check(.05, group_a, group_b, \"product_cart\")"
   ]
  },
  {
   "cell_type": "code",
   "execution_count": 47,
   "metadata": {},
   "outputs": [
    {
     "name": "stdout",
     "output_type": "stream",
     "text": [
      "Гипотеза:\n",
      "H0: Конверсия в событие purchase для групп A и B одинакова.\n",
      "H1: Конверсия в событие purchase для групп A и B имеет статистически значимое различие.\n",
      "\n",
      "Результат сравнения:\n",
      "Соотношение пользователей, у которых произошло событие purchase, к общему числу пользователей:\n",
      "группа A - 28.45%;\n",
      "группа B - 27.81%.\n",
      "P-значение: 0.7906612148912173\n",
      "\n",
      "Вывод:\n",
      "Не получилось отвергнуть нулевую гипотезу, нет оснований считать доли разными.\n"
     ]
    }
   ],
   "source": [
    "stat_difference_check(.05, group_a, group_b, \"purchase\")"
   ]
  },
  {
   "cell_type": "markdown",
   "metadata": {},
   "source": [
    "Z-тест показал, что на этапах просмотра страницы с продуктом и на этапе просмотра корзины разница в конверсии в ~7% и ~5% является статистически значимой. На этапе покупки z-тест не выявил статистический значимой разницы между конверсией групп. "
   ]
  },
  {
   "cell_type": "markdown",
   "metadata": {},
   "source": [
    "<a id = 'section_3.2'></a>\n",
    "## 3.2 Выводы\n",
    "\n",
    "На основании проведенного анализа мы можем сделать следующие выводы об А/В-тесте:\n",
    "\n",
    "##### Проверка корректности проведения теста (соответствие техзаданию)\n",
    "\n",
    "Выявлены многочисленные отклонения от техзадания в процессе сбора данных. Итоговые данные, вошедшие в анализ, не соответствуют техзаданию и требованиям к проведению тестов по следующим критериям:\n",
    "\n",
    "- количество пользователей\n",
    "- период проведения теста\n",
    "- пересечение с маркетинговыми акциями и конкурирующими тестами\n",
    "\n",
    "##### Оценка результатов теста\n",
    "\n",
    "Анализ имеющихся результатов теста показал, что улучшенная рекомендательная система не привела к ожидаемым изменениям: вместо увеличения конверсии на каждом этапе на 10% произошло снижение конверсии на 2 из 3 этапов.\n",
    "\n",
    "Однако, с учетом выявленных отклонений в ходе проведения теста, не рекомендуется рассматривать результаты данного теста для принятия окончательного решения о внедрении / остановке внедрения новой рекомендательной системы. Рекомендуется повторное проведение теста с соблюдением требований техзадания."
   ]
  }
 ],
 "metadata": {
  "kernelspec": {
   "display_name": "Python 3",
   "language": "python",
   "name": "python3"
  },
  "language_info": {
   "codemirror_mode": {
    "name": "ipython",
    "version": 3
   },
   "file_extension": ".py",
   "mimetype": "text/x-python",
   "name": "python",
   "nbconvert_exporter": "python",
   "pygments_lexer": "ipython3",
   "version": "3.8.5"
  },
  "toc": {
   "base_numbering": 1,
   "nav_menu": {},
   "number_sections": true,
   "sideBar": true,
   "skip_h1_title": true,
   "title_cell": "Table of Contents",
   "title_sidebar": "Contents",
   "toc_cell": false,
   "toc_position": {},
   "toc_section_display": true,
   "toc_window_display": false
  }
 },
 "nbformat": 4,
 "nbformat_minor": 2
}
