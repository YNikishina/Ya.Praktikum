{
 "cells": [
  {
   "cell_type": "markdown",
   "metadata": {},
   "source": [
    "# Проект \"Аналитика поведения пользователей мобильного приложения и анализ результатов А/А/В-теста\""
   ]
  },
  {
   "cell_type": "markdown",
   "metadata": {},
   "source": [
    "## Содержание\n",
    "\n",
    "##### Часть 1. Введение\n",
    "* [1.1 Цель проекта](#section_1.1)\n",
    "* [1.2 Набор данных для анализа](#section_1.2)\n",
    "\n",
    "##### Часть 2. Ознакомление с данными и предобработка\n",
    "* [2.1 Загрузка библиотек и ознакомление с данными](#section_2.1)\n",
    "* [2.2 Предобработка данных](#section_2.2)\n",
    "* [2.3 Проверка и очистка данных](#section_2.3)\n",
    "* [2.4 Вывод](#section_2.4)\n",
    "\n",
    "##### Часть 3. Анализ поведения пользователей\n",
    "* [3.1 Воронка событий](#section_3.1)\n",
    "* [3.2 Вывод](#section_3.2)\n",
    "\n",
    "##### Часть 4. Анализ результатов А/А/В-теста\n",
    "* [4.1 Функция для сравнения](#section_4.1)\n",
    "* [4.2 Сравнение контрольных групп](#section_4.2)\n",
    "* [4.3 Сравнение экспериментальной группы с контрольными](#section_4.3)\n",
    "* [4.4 Применение поправки Холма-Бонферрони для множественных сравнений](#section_4.4)\n",
    "* [4.5 Вывод](#section_4.5)"
   ]
  },
  {
   "cell_type": "markdown",
   "metadata": {},
   "source": [
    "## Часть 1. Введение"
   ]
  },
  {
   "cell_type": "markdown",
   "metadata": {},
   "source": [
    "<a id='section_1.1'></a>\n",
    "### 1.1 Цель проекта"
   ]
  },
  {
   "cell_type": "markdown",
   "metadata": {},
   "source": [
    "В рамках данного проекта мы изучим данные о поведении пользователей мобильного приложения стартапа, который продаёт продукты питания.\n",
    "\n",
    "Сначала мы планируем построить воронку продаж и посмотреть, какая часть пользователей переходит на каждый последующий этап.\n",
    "\n",
    "Далее мы планируем проанализировать результаты A/A/B-эксперимента. В ходе эксперимента две контрольные группы видели наше приложение в текущем виде, а экспериментальная группа - с измененными шрифтами. По результатам анализа мы сделаем рекомендации о желательности / нежелательности замены шрифтов, которую предложили наши дизайнеры"
   ]
  },
  {
   "cell_type": "markdown",
   "metadata": {},
   "source": [
    "<a id='section_1.2'></a>\n",
    "### 1.2 Набор данных"
   ]
  },
  {
   "cell_type": "markdown",
   "metadata": {},
   "source": [
    "У нас имеется набор данных, в котором содержится следующая информация:\n",
    " - название события;\n",
    " - уникальный идентификатор пользователя;\n",
    " - время события;\n",
    " - номер эксперимента, в котором выделены две контрольные группы (246 и 247) и одна экспериментальная (248)."
   ]
  },
  {
   "cell_type": "markdown",
   "metadata": {},
   "source": [
    "## Часть 2. Озакомление с данными и предобработка"
   ]
  },
  {
   "cell_type": "markdown",
   "metadata": {},
   "source": [
    "<a id='section_2.1'></a>\n",
    "### 2.1 Загрузка библиотек и ознакомление с данными"
   ]
  },
  {
   "cell_type": "markdown",
   "metadata": {},
   "source": [
    "Загрузим необходимые библиотеки и изучим имеющиеся данные."
   ]
  },
  {
   "cell_type": "code",
   "execution_count": 56,
   "metadata": {},
   "outputs": [],
   "source": [
    "# Загружаем необходимые библиотеки\n",
    "import pandas as pd\n",
    "import numpy as np\n",
    "from scipy import stats as st\n",
    "import math as mth\n",
    "\n",
    "from matplotlib import pyplot as plt\n",
    "from plotly import graph_objects as go\n",
    "\n",
    "import warnings\n",
    "warnings.filterwarnings('ignore')"
   ]
  },
  {
   "cell_type": "code",
   "execution_count": 57,
   "metadata": {},
   "outputs": [
    {
     "data": {
      "text/html": [
       "<div>\n",
       "<style scoped>\n",
       "    .dataframe tbody tr th:only-of-type {\n",
       "        vertical-align: middle;\n",
       "    }\n",
       "\n",
       "    .dataframe tbody tr th {\n",
       "        vertical-align: top;\n",
       "    }\n",
       "\n",
       "    .dataframe thead th {\n",
       "        text-align: right;\n",
       "    }\n",
       "</style>\n",
       "<table border=\"1\" class=\"dataframe\">\n",
       "  <thead>\n",
       "    <tr style=\"text-align: right;\">\n",
       "      <th></th>\n",
       "      <th>EventName</th>\n",
       "      <th>DeviceIDHash</th>\n",
       "      <th>EventTimestamp</th>\n",
       "      <th>ExpId</th>\n",
       "    </tr>\n",
       "  </thead>\n",
       "  <tbody>\n",
       "    <tr>\n",
       "      <td>0</td>\n",
       "      <td>MainScreenAppear</td>\n",
       "      <td>4575588528974610257</td>\n",
       "      <td>1564029816</td>\n",
       "      <td>246</td>\n",
       "    </tr>\n",
       "    <tr>\n",
       "      <td>1</td>\n",
       "      <td>MainScreenAppear</td>\n",
       "      <td>7416695313311560658</td>\n",
       "      <td>1564053102</td>\n",
       "      <td>246</td>\n",
       "    </tr>\n",
       "    <tr>\n",
       "      <td>2</td>\n",
       "      <td>PaymentScreenSuccessful</td>\n",
       "      <td>3518123091307005509</td>\n",
       "      <td>1564054127</td>\n",
       "      <td>248</td>\n",
       "    </tr>\n",
       "    <tr>\n",
       "      <td>3</td>\n",
       "      <td>CartScreenAppear</td>\n",
       "      <td>3518123091307005509</td>\n",
       "      <td>1564054127</td>\n",
       "      <td>248</td>\n",
       "    </tr>\n",
       "    <tr>\n",
       "      <td>4</td>\n",
       "      <td>PaymentScreenSuccessful</td>\n",
       "      <td>6217807653094995999</td>\n",
       "      <td>1564055322</td>\n",
       "      <td>248</td>\n",
       "    </tr>\n",
       "    <tr>\n",
       "      <td>5</td>\n",
       "      <td>CartScreenAppear</td>\n",
       "      <td>6217807653094995999</td>\n",
       "      <td>1564055323</td>\n",
       "      <td>248</td>\n",
       "    </tr>\n",
       "    <tr>\n",
       "      <td>6</td>\n",
       "      <td>OffersScreenAppear</td>\n",
       "      <td>8351860793733343758</td>\n",
       "      <td>1564066242</td>\n",
       "      <td>246</td>\n",
       "    </tr>\n",
       "    <tr>\n",
       "      <td>7</td>\n",
       "      <td>MainScreenAppear</td>\n",
       "      <td>5682100281902512875</td>\n",
       "      <td>1564085677</td>\n",
       "      <td>246</td>\n",
       "    </tr>\n",
       "    <tr>\n",
       "      <td>8</td>\n",
       "      <td>MainScreenAppear</td>\n",
       "      <td>1850981295691852772</td>\n",
       "      <td>1564086702</td>\n",
       "      <td>247</td>\n",
       "    </tr>\n",
       "    <tr>\n",
       "      <td>9</td>\n",
       "      <td>MainScreenAppear</td>\n",
       "      <td>5407636962369102641</td>\n",
       "      <td>1564112112</td>\n",
       "      <td>246</td>\n",
       "    </tr>\n",
       "  </tbody>\n",
       "</table>\n",
       "</div>"
      ],
      "text/plain": [
       "                 EventName         DeviceIDHash  EventTimestamp  ExpId\n",
       "0         MainScreenAppear  4575588528974610257      1564029816    246\n",
       "1         MainScreenAppear  7416695313311560658      1564053102    246\n",
       "2  PaymentScreenSuccessful  3518123091307005509      1564054127    248\n",
       "3         CartScreenAppear  3518123091307005509      1564054127    248\n",
       "4  PaymentScreenSuccessful  6217807653094995999      1564055322    248\n",
       "5         CartScreenAppear  6217807653094995999      1564055323    248\n",
       "6       OffersScreenAppear  8351860793733343758      1564066242    246\n",
       "7         MainScreenAppear  5682100281902512875      1564085677    246\n",
       "8         MainScreenAppear  1850981295691852772      1564086702    247\n",
       "9         MainScreenAppear  5407636962369102641      1564112112    246"
      ]
     },
     "execution_count": 57,
     "metadata": {},
     "output_type": "execute_result"
    }
   ],
   "source": [
    "# Загружаем данные и смотрим первые 10 строк\n",
    "raw_data = pd.read_csv('/datasets/logs_exp.csv', sep='\\t')\n",
    "raw_data.head(10)"
   ]
  },
  {
   "cell_type": "code",
   "execution_count": 58,
   "metadata": {},
   "outputs": [
    {
     "name": "stdout",
     "output_type": "stream",
     "text": [
      "<class 'pandas.core.frame.DataFrame'>\n",
      "RangeIndex: 244126 entries, 0 to 244125\n",
      "Data columns (total 4 columns):\n",
      "EventName         244126 non-null object\n",
      "DeviceIDHash      244126 non-null int64\n",
      "EventTimestamp    244126 non-null int64\n",
      "ExpId             244126 non-null int64\n",
      "dtypes: int64(3), object(1)\n",
      "memory usage: 7.5+ MB\n"
     ]
    }
   ],
   "source": [
    "# Смотрим полноту данных и типы данных\n",
    "raw_data.info()"
   ]
  },
  {
   "cell_type": "markdown",
   "metadata": {},
   "source": [
    "После первого изучения данных мы видим, что в столбце с временем события данные имеют неподходящий тип - исправим в дальнейшем. "
   ]
  },
  {
   "cell_type": "markdown",
   "metadata": {},
   "source": [
    "<a id='section_2.2'></a>\n",
    "### 2.2 Предобработка данных"
   ]
  },
  {
   "cell_type": "markdown",
   "metadata": {},
   "source": [
    "Подготовим данные для дальнейшей работы."
   ]
  },
  {
   "cell_type": "code",
   "execution_count": 59,
   "metadata": {},
   "outputs": [],
   "source": [
    "# Заменяем названия столбцов\n",
    "raw_data.columns = ['event', 'user_id', 'timestamp', 'exp_id']"
   ]
  },
  {
   "cell_type": "code",
   "execution_count": 60,
   "metadata": {},
   "outputs": [
    {
     "data": {
      "text/plain": [
       "413"
      ]
     },
     "execution_count": 60,
     "metadata": {},
     "output_type": "execute_result"
    }
   ],
   "source": [
    "# Выполняем проверку на наличие дубликатов\n",
    "raw_data.duplicated().sum()"
   ]
  },
  {
   "cell_type": "code",
   "execution_count": 61,
   "metadata": {},
   "outputs": [
    {
     "data": {
      "text/plain": [
       "0.0016917493425526163"
      ]
     },
     "execution_count": 61,
     "metadata": {},
     "output_type": "execute_result"
    }
   ],
   "source": [
    "raw_data.duplicated().sum() / len(raw_data)"
   ]
  },
  {
   "cell_type": "code",
   "execution_count": 62,
   "metadata": {},
   "outputs": [],
   "source": [
    "# Удаляем дубликаты\n",
    "raw_data.drop_duplicates(inplace=True)"
   ]
  },
  {
   "cell_type": "code",
   "execution_count": 63,
   "metadata": {},
   "outputs": [
    {
     "data": {
      "text/html": [
       "<div>\n",
       "<style scoped>\n",
       "    .dataframe tbody tr th:only-of-type {\n",
       "        vertical-align: middle;\n",
       "    }\n",
       "\n",
       "    .dataframe tbody tr th {\n",
       "        vertical-align: top;\n",
       "    }\n",
       "\n",
       "    .dataframe thead th {\n",
       "        text-align: right;\n",
       "    }\n",
       "</style>\n",
       "<table border=\"1\" class=\"dataframe\">\n",
       "  <thead>\n",
       "    <tr style=\"text-align: right;\">\n",
       "      <th></th>\n",
       "      <th>event</th>\n",
       "      <th>user_id</th>\n",
       "      <th>timestamp</th>\n",
       "      <th>exp_id</th>\n",
       "      <th>datetime</th>\n",
       "      <th>date</th>\n",
       "    </tr>\n",
       "  </thead>\n",
       "  <tbody>\n",
       "    <tr>\n",
       "      <td>0</td>\n",
       "      <td>MainScreenAppear</td>\n",
       "      <td>4575588528974610257</td>\n",
       "      <td>1564029816</td>\n",
       "      <td>246</td>\n",
       "      <td>2019-07-25 04:43:36</td>\n",
       "      <td>2019-07-25</td>\n",
       "    </tr>\n",
       "    <tr>\n",
       "      <td>1</td>\n",
       "      <td>MainScreenAppear</td>\n",
       "      <td>7416695313311560658</td>\n",
       "      <td>1564053102</td>\n",
       "      <td>246</td>\n",
       "      <td>2019-07-25 11:11:42</td>\n",
       "      <td>2019-07-25</td>\n",
       "    </tr>\n",
       "    <tr>\n",
       "      <td>2</td>\n",
       "      <td>PaymentScreenSuccessful</td>\n",
       "      <td>3518123091307005509</td>\n",
       "      <td>1564054127</td>\n",
       "      <td>248</td>\n",
       "      <td>2019-07-25 11:28:47</td>\n",
       "      <td>2019-07-25</td>\n",
       "    </tr>\n",
       "    <tr>\n",
       "      <td>3</td>\n",
       "      <td>CartScreenAppear</td>\n",
       "      <td>3518123091307005509</td>\n",
       "      <td>1564054127</td>\n",
       "      <td>248</td>\n",
       "      <td>2019-07-25 11:28:47</td>\n",
       "      <td>2019-07-25</td>\n",
       "    </tr>\n",
       "    <tr>\n",
       "      <td>4</td>\n",
       "      <td>PaymentScreenSuccessful</td>\n",
       "      <td>6217807653094995999</td>\n",
       "      <td>1564055322</td>\n",
       "      <td>248</td>\n",
       "      <td>2019-07-25 11:48:42</td>\n",
       "      <td>2019-07-25</td>\n",
       "    </tr>\n",
       "  </tbody>\n",
       "</table>\n",
       "</div>"
      ],
      "text/plain": [
       "                     event              user_id   timestamp  exp_id  \\\n",
       "0         MainScreenAppear  4575588528974610257  1564029816     246   \n",
       "1         MainScreenAppear  7416695313311560658  1564053102     246   \n",
       "2  PaymentScreenSuccessful  3518123091307005509  1564054127     248   \n",
       "3         CartScreenAppear  3518123091307005509  1564054127     248   \n",
       "4  PaymentScreenSuccessful  6217807653094995999  1564055322     248   \n",
       "\n",
       "             datetime       date  \n",
       "0 2019-07-25 04:43:36 2019-07-25  \n",
       "1 2019-07-25 11:11:42 2019-07-25  \n",
       "2 2019-07-25 11:28:47 2019-07-25  \n",
       "3 2019-07-25 11:28:47 2019-07-25  \n",
       "4 2019-07-25 11:48:42 2019-07-25  "
      ]
     },
     "execution_count": 63,
     "metadata": {},
     "output_type": "execute_result"
    }
   ],
   "source": [
    "# Добавляем столбец с датой и временем\n",
    "raw_data['datetime'] = pd.to_datetime(raw_data['timestamp'], unit='s')\n",
    "\n",
    "# Добавляем отдельный столбец с датой и задаем ему нужный тип \n",
    "raw_data['date'] = raw_data['datetime'].dt.date\n",
    "raw_data['date'] = pd.to_datetime(raw_data['date'])\n",
    "raw_data.head(5)"
   ]
  },
  {
   "cell_type": "code",
   "execution_count": 64,
   "metadata": {},
   "outputs": [
    {
     "name": "stdout",
     "output_type": "stream",
     "text": [
      "<class 'pandas.core.frame.DataFrame'>\n",
      "Int64Index: 243713 entries, 0 to 244125\n",
      "Data columns (total 6 columns):\n",
      "event        243713 non-null object\n",
      "user_id      243713 non-null int64\n",
      "timestamp    243713 non-null int64\n",
      "exp_id       243713 non-null int64\n",
      "datetime     243713 non-null datetime64[ns]\n",
      "date         243713 non-null datetime64[ns]\n",
      "dtypes: datetime64[ns](2), int64(3), object(1)\n",
      "memory usage: 13.0+ MB\n"
     ]
    }
   ],
   "source": [
    "# Проверяем, все ли ок\n",
    "raw_data.info()"
   ]
  },
  {
   "cell_type": "markdown",
   "metadata": {},
   "source": [
    "<a id='section_2.3'></a>\n",
    "### 2.3 Проверка и очистка данных"
   ]
  },
  {
   "cell_type": "markdown",
   "metadata": {},
   "source": [
    "Изучим более детально имеющиеся данные, чтобы удостовериться в их корректности. При необходимости очистим датасет от лишних данных."
   ]
  },
  {
   "cell_type": "code",
   "execution_count": 65,
   "metadata": {},
   "outputs": [
    {
     "data": {
      "text/plain": [
       "array(['MainScreenAppear', 'PaymentScreenSuccessful', 'CartScreenAppear',\n",
       "       'OffersScreenAppear', 'Tutorial'], dtype=object)"
      ]
     },
     "execution_count": 65,
     "metadata": {},
     "output_type": "execute_result"
    }
   ],
   "source": [
    "# Смотрим, какие уникальные события содержатся в логе\n",
    "raw_data['event'].unique()"
   ]
  },
  {
   "cell_type": "code",
   "execution_count": 66,
   "metadata": {},
   "outputs": [
    {
     "data": {
      "text/plain": [
       "7551"
      ]
     },
     "execution_count": 66,
     "metadata": {},
     "output_type": "execute_result"
    }
   ],
   "source": [
    "# Сколько уникальных пользователей\n",
    "raw_data['user_id'].nunique()"
   ]
  },
  {
   "cell_type": "code",
   "execution_count": 67,
   "metadata": {},
   "outputs": [
    {
     "data": {
      "text/plain": [
       "32.27559263673685"
      ]
     },
     "execution_count": 67,
     "metadata": {},
     "output_type": "execute_result"
    }
   ],
   "source": [
    "# Сколько примерно событий приходится на одного пользователя\n",
    "len(raw_data) / raw_data['user_id'].nunique()"
   ]
  },
  {
   "cell_type": "code",
   "execution_count": 68,
   "metadata": {},
   "outputs": [
    {
     "data": {
      "text/plain": [
       "count                  243713\n",
       "unique                 176654\n",
       "top       2019-08-01 14:40:35\n",
       "freq                        9\n",
       "first     2019-07-25 04:43:36\n",
       "last      2019-08-07 21:15:17\n",
       "Name: datetime, dtype: object"
      ]
     },
     "execution_count": 68,
     "metadata": {},
     "output_type": "execute_result"
    }
   ],
   "source": [
    "# Смотрим информацию, о периоде данных в логе\n",
    "raw_data['datetime'].describe()"
   ]
  },
  {
   "cell_type": "code",
   "execution_count": 69,
   "metadata": {},
   "outputs": [
    {
     "data": {
      "image/png": "[encoded data removed]",
      "text/plain": [
       "<Figure size 576x432 with 1 Axes>"
      ]
     },
     "metadata": {
      "needs_background": "light"
     },
     "output_type": "display_data"
    }
   ],
   "source": [
    "# Посмотрим на распределение записей по датам\n",
    "plt.figure(figsize=(8, 6))\n",
    "raw_data['datetime'].hist(bins=14, grid=False)\n",
    "plt.xticks(rotation=45)\n",
    "plt.ylabel('количество записей')\n",
    "plt.title('Распределение данных в логе по датам', fontsize=14, fontweight='bold')\n",
    "plt.show()"
   ]
  },
  {
   "cell_type": "markdown",
   "metadata": {},
   "source": [
    "Видим, что количество записей о событиях до 1 августа существенно меньше, чем количество записей о событиях в период с 1 по 7 августа. Поэтому удалим записи о событиях до 1 августа."
   ]
  },
  {
   "cell_type": "code",
   "execution_count": 70,
   "metadata": {},
   "outputs": [
    {
     "data": {
      "text/plain": [
       "count                  240887\n",
       "unique                      7\n",
       "top       2019-08-01 00:00:00\n",
       "freq                    36141\n",
       "first     2019-08-01 00:00:00\n",
       "last      2019-08-07 00:00:00\n",
       "Name: date, dtype: object"
      ]
     },
     "execution_count": 70,
     "metadata": {},
     "output_type": "execute_result"
    }
   ],
   "source": [
    "# Выбираем записи, начиная с 1 августа, и проверяем\n",
    "data = raw_data[raw_data['date'] > '2019-07-31']\n",
    "data['date'].describe()"
   ]
  },
  {
   "cell_type": "code",
   "execution_count": 71,
   "metadata": {},
   "outputs": [
    {
     "name": "stdout",
     "output_type": "stream",
     "text": [
      "Количество событий уменьшилось на 2826 событий, что составляет 1.2% от первоначального числа.\n",
      "Количество уникальных пользователей уменьшилось на 17, что составляет 0.2% от первоначального числа.\n"
     ]
    }
   ],
   "source": [
    "# Смотрим, какое количество данных мы потеряли\n",
    "print(\"Количество событий уменьшилось на {} событий, что составляет {:.1%} от первоначального числа.\"\n",
    "      .format(len(raw_data) - len(data), (len(raw_data) - len(data)) / len(raw_data))) \n",
    "print(\"Количество уникальных пользователей уменьшилось на {}, что составляет {:.1%} от первоначального числа.\"\n",
    "      .format(raw_data['user_id'].nunique() - data['user_id'].nunique(), \n",
    "              (raw_data['user_id'].nunique() - data['user_id'].nunique()) / raw_data['user_id'].nunique())) "
   ]
  },
  {
   "cell_type": "markdown",
   "metadata": {},
   "source": [
    "Проверим, что в наборе данных содержатся записи по всем трём экспериментальным группам."
   ]
  },
  {
   "cell_type": "code",
   "execution_count": 72,
   "metadata": {},
   "outputs": [
    {
     "name": "stdout",
     "output_type": "stream",
     "text": [
      "Количество пользователей из контрольной группы 246: 2484.\n",
      "Количество пользователей из контрольной группы 247: 2513.\n",
      "Количество пользователей из экспериментальной группы 248: 2537.\n"
     ]
    }
   ],
   "source": [
    "print(f\"Количество пользователей из контрольной группы 246: {data.query('exp_id == 246')['user_id'].nunique()}.\")\n",
    "print(f\"Количество пользователей из контрольной группы 247: {data.query('exp_id == 247')['user_id'].nunique()}.\")\n",
    "print(f\"Количество пользователей из экспериментальной группы 248: {data.query('exp_id == 248')['user_id'].nunique()}.\")"
   ]
  },
  {
   "cell_type": "code",
   "execution_count": 73,
   "metadata": {},
   "outputs": [],
   "source": [
    "# Выделяем уникальных пользователей каждой группы\n",
    "users_246 = pd.Series(data.query('exp_id == 246')['user_id'].unique())\n",
    "users_247 = pd.Series(data.query('exp_id == 247')['user_id'].unique())\n",
    "users_248 = pd.Series(data.query('exp_id == 248')['user_id'].unique())\n",
    "# Объединяем в единый series\n",
    "all_users = pd.concat([users_246, users_247, users_248])"
   ]
  },
  {
   "cell_type": "code",
   "execution_count": 74,
   "metadata": {},
   "outputs": [
    {
     "data": {
      "text/plain": [
       "0"
      ]
     },
     "execution_count": 74,
     "metadata": {},
     "output_type": "execute_result"
    }
   ],
   "source": [
    "# Проверяем на наличие дубликатов\n",
    "all_users.duplicated().sum()"
   ]
  },
  {
   "cell_type": "markdown",
   "metadata": {},
   "source": [
    "<a id='section_2.4'></a>\n",
    "### 2.4 Вывод"
   ]
  },
  {
   "cell_type": "markdown",
   "metadata": {},
   "source": [
    "1. В первоначальном наборе содержались записи о 244126 событиях в период с 25 июля по 7 августа 2019 года. В данных не было пропусков, но они содержали 0,17% дубликатов, которые мы удалили.\n",
    "2. Данные были неравномерно распределены по датам - количество событий за июль было незначительным по сравнению с августом. Мы удалили эти записи, оставив только данные за те дни, где они могли считаться полными. При этом мы потеряли еще примерно 1,2% от общего числа записей и 0,2% от количества уникальных пользователей. \n",
    "3. В очищенном датасете пользователи равномерно распределены по трем группам. При этом записи о каждом уникальном пользователе относятся лишь к одной группе."
   ]
  },
  {
   "cell_type": "markdown",
   "metadata": {},
   "source": [
    "## Часть 3. Анализ поведения пользователей"
   ]
  },
  {
   "cell_type": "markdown",
   "metadata": {},
   "source": [
    "<a id='section_3.1'></a>\n",
    "### 3.1 Воронка событий"
   ]
  },
  {
   "cell_type": "markdown",
   "metadata": {},
   "source": [
    "Построим воронку событий и изучим, какое количество пользователей переходит на каждый последующий этап, на каких этапах мы теряем больше всего пользователей."
   ]
  },
  {
   "cell_type": "code",
   "execution_count": 75,
   "metadata": {},
   "outputs": [
    {
     "data": {
      "text/html": [
       "<div>\n",
       "<style scoped>\n",
       "    .dataframe tbody tr th:only-of-type {\n",
       "        vertical-align: middle;\n",
       "    }\n",
       "\n",
       "    .dataframe tbody tr th {\n",
       "        vertical-align: top;\n",
       "    }\n",
       "\n",
       "    .dataframe thead th {\n",
       "        text-align: right;\n",
       "    }\n",
       "</style>\n",
       "<table border=\"1\" class=\"dataframe\">\n",
       "  <thead>\n",
       "    <tr style=\"text-align: right;\">\n",
       "      <th></th>\n",
       "      <th>event</th>\n",
       "      <th>events_count</th>\n",
       "    </tr>\n",
       "  </thead>\n",
       "  <tbody>\n",
       "    <tr>\n",
       "      <td>0</td>\n",
       "      <td>MainScreenAppear</td>\n",
       "      <td>117328</td>\n",
       "    </tr>\n",
       "    <tr>\n",
       "      <td>1</td>\n",
       "      <td>OffersScreenAppear</td>\n",
       "      <td>46333</td>\n",
       "    </tr>\n",
       "    <tr>\n",
       "      <td>2</td>\n",
       "      <td>CartScreenAppear</td>\n",
       "      <td>42303</td>\n",
       "    </tr>\n",
       "    <tr>\n",
       "      <td>3</td>\n",
       "      <td>PaymentScreenSuccessful</td>\n",
       "      <td>33918</td>\n",
       "    </tr>\n",
       "    <tr>\n",
       "      <td>4</td>\n",
       "      <td>Tutorial</td>\n",
       "      <td>1005</td>\n",
       "    </tr>\n",
       "  </tbody>\n",
       "</table>\n",
       "</div>"
      ],
      "text/plain": [
       "                     event  events_count\n",
       "0         MainScreenAppear        117328\n",
       "1       OffersScreenAppear         46333\n",
       "2         CartScreenAppear         42303\n",
       "3  PaymentScreenSuccessful         33918\n",
       "4                 Tutorial          1005"
      ]
     },
     "execution_count": 75,
     "metadata": {},
     "output_type": "execute_result"
    }
   ],
   "source": [
    "# Группируем данные по названию события и считаем количество событий\n",
    "events_funnel = data.groupby('event').agg({'user_id': 'count'}).sort_values(by='user_id', ascending=False).reset_index()\n",
    "events_funnel.columns = ['event', 'events_count']\n",
    "events_funnel"
   ]
  },
  {
   "cell_type": "markdown",
   "metadata": {},
   "source": [
    "Мы видим, что чаще всего у нас фиксируется событие \"Показ главной страницы\". Затем следует \"Показ страницы с товаром\", \"Показ корзины с покупками\", \"Страница завершения оплаты\" и \"Знакомство с приложением\". Первые четыре события выстроены в правильной последовательности, последнее же событие не является частью воронки (не все пользователи проходят данный этап; пользователи могут обратиться к данному этапу в любой момент), поэтому удалим данные о таких событиях из набора данных и посмотрим распределение событий по количеству уникальных пользователей."
   ]
  },
  {
   "cell_type": "code",
   "execution_count": 76,
   "metadata": {},
   "outputs": [],
   "source": [
    "# Удаляем записи с событием Tutorial\n",
    "data_clean = data.query('event != \"Tutorial\"')"
   ]
  },
  {
   "cell_type": "code",
   "execution_count": 77,
   "metadata": {},
   "outputs": [
    {
     "data": {
      "text/html": [
       "<div>\n",
       "<style scoped>\n",
       "    .dataframe tbody tr th:only-of-type {\n",
       "        vertical-align: middle;\n",
       "    }\n",
       "\n",
       "    .dataframe tbody tr th {\n",
       "        vertical-align: top;\n",
       "    }\n",
       "\n",
       "    .dataframe thead th {\n",
       "        text-align: right;\n",
       "    }\n",
       "</style>\n",
       "<table border=\"1\" class=\"dataframe\">\n",
       "  <thead>\n",
       "    <tr style=\"text-align: right;\">\n",
       "      <th></th>\n",
       "      <th>event</th>\n",
       "      <th>users_count</th>\n",
       "      <th>event_users_to_all_users_ratio</th>\n",
       "    </tr>\n",
       "  </thead>\n",
       "  <tbody>\n",
       "    <tr>\n",
       "      <td>0</td>\n",
       "      <td>MainScreenAppear</td>\n",
       "      <td>7419</td>\n",
       "      <td>0.98</td>\n",
       "    </tr>\n",
       "    <tr>\n",
       "      <td>1</td>\n",
       "      <td>OffersScreenAppear</td>\n",
       "      <td>4593</td>\n",
       "      <td>0.61</td>\n",
       "    </tr>\n",
       "    <tr>\n",
       "      <td>2</td>\n",
       "      <td>CartScreenAppear</td>\n",
       "      <td>3734</td>\n",
       "      <td>0.50</td>\n",
       "    </tr>\n",
       "    <tr>\n",
       "      <td>3</td>\n",
       "      <td>PaymentScreenSuccessful</td>\n",
       "      <td>3539</td>\n",
       "      <td>0.47</td>\n",
       "    </tr>\n",
       "  </tbody>\n",
       "</table>\n",
       "</div>"
      ],
      "text/plain": [
       "                     event  users_count  event_users_to_all_users_ratio\n",
       "0         MainScreenAppear         7419                            0.98\n",
       "1       OffersScreenAppear         4593                            0.61\n",
       "2         CartScreenAppear         3734                            0.50\n",
       "3  PaymentScreenSuccessful         3539                            0.47"
      ]
     },
     "execution_count": 77,
     "metadata": {},
     "output_type": "execute_result"
    }
   ],
   "source": [
    "# Группируем данные по событию и считаем количество уникальных пользователей\n",
    "users_funnel = data_clean.groupby('event').agg({'user_id': 'nunique'}).sort_values(by='user_id', ascending=False).reset_index()\n",
    "users_funnel.columns = ['event', 'users_count']\n",
    "# Считаем процент пользователей от общего количества уникальных пользователей, переходящих на следующий этап \n",
    "users_funnel['event_users_to_all_users_ratio'] = (users_funnel['users_count'] / data['user_id'].nunique()).round(2)\n",
    "users_funnel"
   ]
  },
  {
   "cell_type": "markdown",
   "metadata": {},
   "source": [
    "Мы рассчитали долю пользователей от общего числа уникальных пользователей, которые хоть раз совершали каждое из событий.\n",
    "\n",
    "Дополним таблицу данными о доле пользователей, которая проходит на следующий шаг воронки от числа пользователей на предыдущем. "
   ]
  },
  {
   "cell_type": "code",
   "execution_count": 78,
   "metadata": {},
   "outputs": [
    {
     "data": {
      "text/html": [
       "<div>\n",
       "<style scoped>\n",
       "    .dataframe tbody tr th:only-of-type {\n",
       "        vertical-align: middle;\n",
       "    }\n",
       "\n",
       "    .dataframe tbody tr th {\n",
       "        vertical-align: top;\n",
       "    }\n",
       "\n",
       "    .dataframe thead th {\n",
       "        text-align: right;\n",
       "    }\n",
       "</style>\n",
       "<table border=\"1\" class=\"dataframe\">\n",
       "  <thead>\n",
       "    <tr style=\"text-align: right;\">\n",
       "      <th></th>\n",
       "      <th>event</th>\n",
       "      <th>users_count</th>\n",
       "      <th>event_users_to_all_users_ratio</th>\n",
       "      <th>prev_step_users</th>\n",
       "      <th>event_users_to_prev_step_users_ratio</th>\n",
       "    </tr>\n",
       "  </thead>\n",
       "  <tbody>\n",
       "    <tr>\n",
       "      <td>0</td>\n",
       "      <td>MainScreenAppear</td>\n",
       "      <td>7419</td>\n",
       "      <td>0.98</td>\n",
       "      <td>7419</td>\n",
       "      <td>1.00</td>\n",
       "    </tr>\n",
       "    <tr>\n",
       "      <td>1</td>\n",
       "      <td>OffersScreenAppear</td>\n",
       "      <td>4593</td>\n",
       "      <td>0.61</td>\n",
       "      <td>7419</td>\n",
       "      <td>0.62</td>\n",
       "    </tr>\n",
       "    <tr>\n",
       "      <td>2</td>\n",
       "      <td>CartScreenAppear</td>\n",
       "      <td>3734</td>\n",
       "      <td>0.50</td>\n",
       "      <td>4593</td>\n",
       "      <td>0.81</td>\n",
       "    </tr>\n",
       "    <tr>\n",
       "      <td>3</td>\n",
       "      <td>PaymentScreenSuccessful</td>\n",
       "      <td>3539</td>\n",
       "      <td>0.47</td>\n",
       "      <td>3734</td>\n",
       "      <td>0.95</td>\n",
       "    </tr>\n",
       "  </tbody>\n",
       "</table>\n",
       "</div>"
      ],
      "text/plain": [
       "                     event  users_count  event_users_to_all_users_ratio  \\\n",
       "0         MainScreenAppear         7419                            0.98   \n",
       "1       OffersScreenAppear         4593                            0.61   \n",
       "2         CartScreenAppear         3734                            0.50   \n",
       "3  PaymentScreenSuccessful         3539                            0.47   \n",
       "\n",
       "   prev_step_users  event_users_to_prev_step_users_ratio  \n",
       "0             7419                                  1.00  \n",
       "1             7419                                  0.62  \n",
       "2             4593                                  0.81  \n",
       "3             3734                                  0.95  "
      ]
     },
     "execution_count": 78,
     "metadata": {},
     "output_type": "execute_result"
    }
   ],
   "source": [
    "# Дополним таблицу столбцом с количеством ползователей на предыдущем шаге \n",
    "users_funnel['prev_step_users'] = (users_funnel['users_count'].shift(periods=1)).astype(pd.Int32Dtype())\n",
    "users_funnel['prev_step_users'] = users_funnel['prev_step_users'].fillna(7419)\n",
    "# Считаем соотношение пользователей на текущем шаге к количеству пользователей на предыдущем шаге \n",
    "users_funnel['event_users_to_prev_step_users_ratio'] = (users_funnel['users_count'] / users_funnel['prev_step_users']).round(2)\n",
    "users_funnel"
   ]
  },
  {
   "cell_type": "code",
   "execution_count": 80,
   "metadata": {},
   "outputs": [
    {
     "data": {
      "application/vnd.plotly.v1+json": {
       "config": {
        "plotlyServerURL": "https://plot.ly"
       },
       "data": [
        {
         "type": "funnel",
         "x": [
          7419,
          4593,
          3734,
          3539
         ],
         "y": [
          "MainScreenAppear",
          "OffersScreenAppear",
          "CartScreenAppear",
          "PaymentScreenSuccessful"
         ]
        }
       ],
       "layout": {
        "font": {
         "size": 14
        },
        "template": {
         "data": {
          "bar": [
           {
            "error_x": {
             "color": "#2a3f5f"
            },
            "error_y": {
             "color": "#2a3f5f"
            },
            "marker": {
             "line": {
              "color": "#E5ECF6",
              "width": 0.5
             }
            },
            "type": "bar"
           }
          ],
          "barpolar": [
           {
            "marker": {
             "line": {
              "color": "#E5ECF6",
              "width": 0.5
             }
            },
            "type": "barpolar"
           }
          ],
          "carpet": [
           {
            "aaxis": {
             "endlinecolor": "#2a3f5f",
             "gridcolor": "white",
             "linecolor": "white",
             "minorgridcolor": "white",
             "startlinecolor": "#2a3f5f"
            },
            "baxis": {
             "endlinecolor": "#2a3f5f",
             "gridcolor": "white",
             "linecolor": "white",
             "minorgridcolor": "white",
             "startlinecolor": "#2a3f5f"
            },
            "type": "carpet"
           }
          ],
          "choropleth": [
           {
            "colorbar": {
             "outlinewidth": 0,
             "ticks": ""
            },
            "type": "choropleth"
           }
          ],
          "contour": [
           {
            "colorbar": {
             "outlinewidth": 0,
             "ticks": ""
            },
            "colorscale": [
             [
              0,
              "#0d0887"
             ],
             [
              0.1111111111111111,
              "#46039f"
             ],
             [
              0.2222222222222222,
              "#7201a8"
             ],
             [
              0.3333333333333333,
              "#9c179e"
             ],
             [
              0.4444444444444444,
              "#bd3786"
             ],
             [
              0.5555555555555556,
              "#d8576b"
             ],
             [
              0.6666666666666666,
              "#ed7953"
             ],
             [
              0.7777777777777778,
              "#fb9f3a"
             ],
             [
              0.8888888888888888,
              "#fdca26"
             ],
             [
              1,
              "#f0f921"
             ]
            ],
            "type": "contour"
           }
          ],
          "contourcarpet": [
           {
            "colorbar": {
             "outlinewidth": 0,
             "ticks": ""
            },
            "type": "contourcarpet"
           }
          ],
          "heatmap": [
           {
            "colorbar": {
             "outlinewidth": 0,
             "ticks": ""
            },
            "colorscale": [
             [
              0,
              "#0d0887"
             ],
             [
              0.1111111111111111,
              "#46039f"
             ],
             [
              0.2222222222222222,
              "#7201a8"
             ],
             [
              0.3333333333333333,
              "#9c179e"
             ],
             [
              0.4444444444444444,
              "#bd3786"
             ],
             [
              0.5555555555555556,
              "#d8576b"
             ],
             [
              0.6666666666666666,
              "#ed7953"
             ],
             [
              0.7777777777777778,
              "#fb9f3a"
             ],
             [
              0.8888888888888888,
              "#fdca26"
             ],
             [
              1,
              "#f0f921"
             ]
            ],
            "type": "heatmap"
           }
          ],
          "heatmapgl": [
           {
            "colorbar": {
             "outlinewidth": 0,
             "ticks": ""
            },
            "colorscale": [
             [
              0,
              "#0d0887"
             ],
             [
              0.1111111111111111,
              "#46039f"
             ],
             [
              0.2222222222222222,
              "#7201a8"
             ],
             [
              0.3333333333333333,
              "#9c179e"
             ],
             [
              0.4444444444444444,
              "#bd3786"
             ],
             [
              0.5555555555555556,
              "#d8576b"
             ],
             [
              0.6666666666666666,
              "#ed7953"
             ],
             [
              0.7777777777777778,
              "#fb9f3a"
             ],
             [
              0.8888888888888888,
              "#fdca26"
             ],
             [
              1,
              "#f0f921"
             ]
            ],
            "type": "heatmapgl"
           }
          ],
          "histogram": [
           {
            "marker": {
             "colorbar": {
              "outlinewidth": 0,
              "ticks": ""
             }
            },
            "type": "histogram"
           }
          ],
          "histogram2d": [
           {
            "colorbar": {
             "outlinewidth": 0,
             "ticks": ""
            },
            "colorscale": [
             [
              0,
              "#0d0887"
             ],
             [
              0.1111111111111111,
              "#46039f"
             ],
             [
              0.2222222222222222,
              "#7201a8"
             ],
             [
              0.3333333333333333,
              "#9c179e"
             ],
             [
              0.4444444444444444,
              "#bd3786"
             ],
             [
              0.5555555555555556,
              "#d8576b"
             ],
             [
              0.6666666666666666,
              "#ed7953"
             ],
             [
              0.7777777777777778,
              "#fb9f3a"
             ],
             [
              0.8888888888888888,
              "#fdca26"
             ],
             [
              1,
              "#f0f921"
             ]
            ],
            "type": "histogram2d"
           }
          ],
          "histogram2dcontour": [
           {
            "colorbar": {
             "outlinewidth": 0,
             "ticks": ""
            },
            "colorscale": [
             [
              0,
              "#0d0887"
             ],
             [
              0.1111111111111111,
              "#46039f"
             ],
             [
              0.2222222222222222,
              "#7201a8"
             ],
             [
              0.3333333333333333,
              "#9c179e"
             ],
             [
              0.4444444444444444,
              "#bd3786"
             ],
             [
              0.5555555555555556,
              "#d8576b"
             ],
             [
              0.6666666666666666,
              "#ed7953"
             ],
             [
              0.7777777777777778,
              "#fb9f3a"
             ],
             [
              0.8888888888888888,
              "#fdca26"
             ],
             [
              1,
              "#f0f921"
             ]
            ],
            "type": "histogram2dcontour"
           }
          ],
          "mesh3d": [
           {
            "colorbar": {
             "outlinewidth": 0,
             "ticks": ""
            },
            "type": "mesh3d"
           }
          ],
          "parcoords": [
           {
            "line": {
             "colorbar": {
              "outlinewidth": 0,
              "ticks": ""
             }
            },
            "type": "parcoords"
           }
          ],
          "scatter": [
           {
            "marker": {
             "colorbar": {
              "outlinewidth": 0,
              "ticks": ""
             }
            },
            "type": "scatter"
           }
          ],
          "scatter3d": [
           {
            "line": {
             "colorbar": {
              "outlinewidth": 0,
              "ticks": ""
             }
            },
            "marker": {
             "colorbar": {
              "outlinewidth": 0,
              "ticks": ""
             }
            },
            "type": "scatter3d"
           }
          ],
          "scattercarpet": [
           {
            "marker": {
             "colorbar": {
              "outlinewidth": 0,
              "ticks": ""
             }
            },
            "type": "scattercarpet"
           }
          ],
          "scattergeo": [
           {
            "marker": {
             "colorbar": {
              "outlinewidth": 0,
              "ticks": ""
             }
            },
            "type": "scattergeo"
           }
          ],
          "scattergl": [
           {
            "marker": {
             "colorbar": {
              "outlinewidth": 0,
              "ticks": ""
             }
            },
            "type": "scattergl"
           }
          ],
          "scattermapbox": [
           {
            "marker": {
             "colorbar": {
              "outlinewidth": 0,
              "ticks": ""
             }
            },
            "type": "scattermapbox"
           }
          ],
          "scatterpolar": [
           {
            "marker": {
             "colorbar": {
              "outlinewidth": 0,
              "ticks": ""
             }
            },
            "type": "scatterpolar"
           }
          ],
          "scatterpolargl": [
           {
            "marker": {
             "colorbar": {
              "outlinewidth": 0,
              "ticks": ""
             }
            },
            "type": "scatterpolargl"
           }
          ],
          "scatterternary": [
           {
            "marker": {
             "colorbar": {
              "outlinewidth": 0,
              "ticks": ""
             }
            },
            "type": "scatterternary"
           }
          ],
          "surface": [
           {
            "colorbar": {
             "outlinewidth": 0,
             "ticks": ""
            },
            "colorscale": [
             [
              0,
              "#0d0887"
             ],
             [
              0.1111111111111111,
              "#46039f"
             ],
             [
              0.2222222222222222,
              "#7201a8"
             ],
             [
              0.3333333333333333,
              "#9c179e"
             ],
             [
              0.4444444444444444,
              "#bd3786"
             ],
             [
              0.5555555555555556,
              "#d8576b"
             ],
             [
              0.6666666666666666,
              "#ed7953"
             ],
             [
              0.7777777777777778,
              "#fb9f3a"
             ],
             [
              0.8888888888888888,
              "#fdca26"
             ],
             [
              1,
              "#f0f921"
             ]
            ],
            "type": "surface"
           }
          ],
          "table": [
           {
            "cells": {
             "fill": {
              "color": "#EBF0F8"
             },
             "line": {
              "color": "white"
             }
            },
            "header": {
             "fill": {
              "color": "#C8D4E3"
             },
             "line": {
              "color": "white"
             }
            },
            "type": "table"
           }
          ]
         },
         "layout": {
          "annotationdefaults": {
           "arrowcolor": "#2a3f5f",
           "arrowhead": 0,
           "arrowwidth": 1
          },
          "colorscale": {
           "diverging": [
            [
             0,
             "#8e0152"
            ],
            [
             0.1,
             "#c51b7d"
            ],
            [
             0.2,
             "#de77ae"
            ],
            [
             0.3,
             "#f1b6da"
            ],
            [
             0.4,
             "#fde0ef"
            ],
            [
             0.5,
             "#f7f7f7"
            ],
            [
             0.6,
             "#e6f5d0"
            ],
            [
             0.7,
             "#b8e186"
            ],
            [
             0.8,
             "#7fbc41"
            ],
            [
             0.9,
             "#4d9221"
            ],
            [
             1,
             "#276419"
            ]
           ],
           "sequential": [
            [
             0,
             "#0d0887"
            ],
            [
             0.1111111111111111,
             "#46039f"
            ],
            [
             0.2222222222222222,
             "#7201a8"
            ],
            [
             0.3333333333333333,
             "#9c179e"
            ],
            [
             0.4444444444444444,
             "#bd3786"
            ],
            [
             0.5555555555555556,
             "#d8576b"
            ],
            [
             0.6666666666666666,
             "#ed7953"
            ],
            [
             0.7777777777777778,
             "#fb9f3a"
            ],
            [
             0.8888888888888888,
             "#fdca26"
            ],
            [
             1,
             "#f0f921"
            ]
           ],
           "sequentialminus": [
            [
             0,
             "#0d0887"
            ],
            [
             0.1111111111111111,
             "#46039f"
            ],
            [
             0.2222222222222222,
             "#7201a8"
            ],
            [
             0.3333333333333333,
             "#9c179e"
            ],
            [
             0.4444444444444444,
             "#bd3786"
            ],
            [
             0.5555555555555556,
             "#d8576b"
            ],
            [
             0.6666666666666666,
             "#ed7953"
            ],
            [
             0.7777777777777778,
             "#fb9f3a"
            ],
            [
             0.8888888888888888,
             "#fdca26"
            ],
            [
             1,
             "#f0f921"
            ]
           ]
          },
          "colorway": [
           "#636efa",
           "#EF553B",
           "#00cc96",
           "#ab63fa",
           "#FFA15A",
           "#19d3f3",
           "#FF6692",
           "#B6E880",
           "#FF97FF",
           "#FECB52"
          ],
          "font": {
           "color": "#2a3f5f"
          },
          "geo": {
           "bgcolor": "white",
           "lakecolor": "white",
           "landcolor": "#E5ECF6",
           "showlakes": true,
           "showland": true,
           "subunitcolor": "white"
          },
          "hoverlabel": {
           "align": "left"
          },
          "hovermode": "closest",
          "mapbox": {
           "style": "light"
          },
          "paper_bgcolor": "white",
          "plot_bgcolor": "#E5ECF6",
          "polar": {
           "angularaxis": {
            "gridcolor": "white",
            "linecolor": "white",
            "ticks": ""
           },
           "bgcolor": "#E5ECF6",
           "radialaxis": {
            "gridcolor": "white",
            "linecolor": "white",
            "ticks": ""
           }
          },
          "scene": {
           "xaxis": {
            "backgroundcolor": "#E5ECF6",
            "gridcolor": "white",
            "gridwidth": 2,
            "linecolor": "white",
            "showbackground": true,
            "ticks": "",
            "zerolinecolor": "white"
           },
           "yaxis": {
            "backgroundcolor": "#E5ECF6",
            "gridcolor": "white",
            "gridwidth": 2,
            "linecolor": "white",
            "showbackground": true,
            "ticks": "",
            "zerolinecolor": "white"
           },
           "zaxis": {
            "backgroundcolor": "#E5ECF6",
            "gridcolor": "white",
            "gridwidth": 2,
            "linecolor": "white",
            "showbackground": true,
            "ticks": "",
            "zerolinecolor": "white"
           }
          },
          "shapedefaults": {
           "line": {
            "color": "#2a3f5f"
           }
          },
          "ternary": {
           "aaxis": {
            "gridcolor": "white",
            "linecolor": "white",
            "ticks": ""
           },
           "baxis": {
            "gridcolor": "white",
            "linecolor": "white",
            "ticks": ""
           },
           "bgcolor": "#E5ECF6",
           "caxis": {
            "gridcolor": "white",
            "linecolor": "white",
            "ticks": ""
           }
          },
          "title": {
           "x": 0.05
          },
          "xaxis": {
           "automargin": true,
           "gridcolor": "white",
           "linecolor": "white",
           "ticks": "",
           "zerolinecolor": "white",
           "zerolinewidth": 2
          },
          "yaxis": {
           "automargin": true,
           "gridcolor": "white",
           "linecolor": "white",
           "ticks": "",
           "zerolinecolor": "white",
           "zerolinewidth": 2
          }
         }
        },
        "title": {
         "text": "Воронка событий по количеству уникальных пользователей",
         "x": 0.5,
         "xanchor": "center",
         "y": 0.9,
         "yanchor": "top"
        }
       }
      },
      "text/html": [
       "<div>\n",
       "        \n",
       "        \n",
       "            <div id=\"b6fd98bd-9f90-4211-8634-d9a27bc43990\" class=\"plotly-graph-div\" style=\"height:525px; width:100%;\"></div>\n",
       "            <script type=\"text/javascript\">\n",
       "                require([\"plotly\"], function(Plotly) {\n",
       "                    window.PLOTLYENV=window.PLOTLYENV || {};\n",
       "                    \n",
       "                if (document.getElementById(\"b6fd98bd-9f90-4211-8634-d9a27bc43990\")) {\n",
       "                    Plotly.newPlot(\n",
       "                        'b6fd98bd-9f90-4211-8634-d9a27bc43990',\n",
       "                        [{\"type\": \"funnel\", \"x\": [7419, 4593, 3734, 3539], \"y\": [\"MainScreenAppear\", \"OffersScreenAppear\", \"CartScreenAppear\", \"PaymentScreenSuccessful\"]}],\n",
       "                        {\"font\": {\"size\": 14}, \"template\": {\"data\": {\"bar\": [{\"error_x\": {\"color\": \"#2a3f5f\"}, \"error_y\": {\"color\": \"#2a3f5f\"}, \"marker\": {\"line\": {\"color\": \"#E5ECF6\", \"width\": 0.5}}, \"type\": \"bar\"}], \"barpolar\": [{\"marker\": {\"line\": {\"color\": \"#E5ECF6\", \"width\": 0.5}}, \"type\": \"barpolar\"}], \"carpet\": [{\"aaxis\": {\"endlinecolor\": \"#2a3f5f\", \"gridcolor\": \"white\", \"linecolor\": \"white\", \"minorgridcolor\": \"white\", \"startlinecolor\": \"#2a3f5f\"}, \"baxis\": {\"endlinecolor\": \"#2a3f5f\", \"gridcolor\": \"white\", \"linecolor\": \"white\", \"minorgridcolor\": \"white\", \"startlinecolor\": \"#2a3f5f\"}, \"type\": \"carpet\"}], \"choropleth\": [{\"colorbar\": {\"outlinewidth\": 0, \"ticks\": \"\"}, \"type\": \"choropleth\"}], \"contour\": [{\"colorbar\": {\"outlinewidth\": 0, \"ticks\": \"\"}, \"colorscale\": [[0.0, \"#0d0887\"], [0.1111111111111111, \"#46039f\"], [0.2222222222222222, \"#7201a8\"], [0.3333333333333333, \"#9c179e\"], [0.4444444444444444, \"#bd3786\"], [0.5555555555555556, \"#d8576b\"], [0.6666666666666666, \"#ed7953\"], [0.7777777777777778, \"#fb9f3a\"], [0.8888888888888888, \"#fdca26\"], [1.0, \"#f0f921\"]], \"type\": \"contour\"}], \"contourcarpet\": [{\"colorbar\": {\"outlinewidth\": 0, \"ticks\": \"\"}, \"type\": \"contourcarpet\"}], \"heatmap\": [{\"colorbar\": {\"outlinewidth\": 0, \"ticks\": \"\"}, \"colorscale\": [[0.0, \"#0d0887\"], [0.1111111111111111, \"#46039f\"], [0.2222222222222222, \"#7201a8\"], [0.3333333333333333, \"#9c179e\"], [0.4444444444444444, \"#bd3786\"], [0.5555555555555556, \"#d8576b\"], [0.6666666666666666, \"#ed7953\"], [0.7777777777777778, \"#fb9f3a\"], [0.8888888888888888, \"#fdca26\"], [1.0, \"#f0f921\"]], \"type\": \"heatmap\"}], \"heatmapgl\": [{\"colorbar\": {\"outlinewidth\": 0, \"ticks\": \"\"}, \"colorscale\": [[0.0, \"#0d0887\"], [0.1111111111111111, \"#46039f\"], [0.2222222222222222, \"#7201a8\"], [0.3333333333333333, \"#9c179e\"], [0.4444444444444444, \"#bd3786\"], [0.5555555555555556, \"#d8576b\"], [0.6666666666666666, \"#ed7953\"], [0.7777777777777778, \"#fb9f3a\"], [0.8888888888888888, \"#fdca26\"], [1.0, \"#f0f921\"]], \"type\": \"heatmapgl\"}], \"histogram\": [{\"marker\": {\"colorbar\": {\"outlinewidth\": 0, \"ticks\": \"\"}}, \"type\": \"histogram\"}], \"histogram2d\": [{\"colorbar\": {\"outlinewidth\": 0, \"ticks\": \"\"}, \"colorscale\": [[0.0, \"#0d0887\"], [0.1111111111111111, \"#46039f\"], [0.2222222222222222, \"#7201a8\"], [0.3333333333333333, \"#9c179e\"], [0.4444444444444444, \"#bd3786\"], [0.5555555555555556, \"#d8576b\"], [0.6666666666666666, \"#ed7953\"], [0.7777777777777778, \"#fb9f3a\"], [0.8888888888888888, \"#fdca26\"], [1.0, \"#f0f921\"]], \"type\": \"histogram2d\"}], \"histogram2dcontour\": [{\"colorbar\": {\"outlinewidth\": 0, \"ticks\": \"\"}, \"colorscale\": [[0.0, \"#0d0887\"], [0.1111111111111111, \"#46039f\"], [0.2222222222222222, \"#7201a8\"], [0.3333333333333333, \"#9c179e\"], [0.4444444444444444, \"#bd3786\"], [0.5555555555555556, \"#d8576b\"], [0.6666666666666666, \"#ed7953\"], [0.7777777777777778, \"#fb9f3a\"], [0.8888888888888888, \"#fdca26\"], [1.0, \"#f0f921\"]], \"type\": \"histogram2dcontour\"}], \"mesh3d\": [{\"colorbar\": {\"outlinewidth\": 0, \"ticks\": \"\"}, \"type\": \"mesh3d\"}], \"parcoords\": [{\"line\": {\"colorbar\": {\"outlinewidth\": 0, \"ticks\": \"\"}}, \"type\": \"parcoords\"}], \"scatter\": [{\"marker\": {\"colorbar\": {\"outlinewidth\": 0, \"ticks\": \"\"}}, \"type\": \"scatter\"}], \"scatter3d\": [{\"line\": {\"colorbar\": {\"outlinewidth\": 0, \"ticks\": \"\"}}, \"marker\": {\"colorbar\": {\"outlinewidth\": 0, \"ticks\": \"\"}}, \"type\": \"scatter3d\"}], \"scattercarpet\": [{\"marker\": {\"colorbar\": {\"outlinewidth\": 0, \"ticks\": \"\"}}, \"type\": \"scattercarpet\"}], \"scattergeo\": [{\"marker\": {\"colorbar\": {\"outlinewidth\": 0, \"ticks\": \"\"}}, \"type\": \"scattergeo\"}], \"scattergl\": [{\"marker\": {\"colorbar\": {\"outlinewidth\": 0, \"ticks\": \"\"}}, \"type\": \"scattergl\"}], \"scattermapbox\": [{\"marker\": {\"colorbar\": {\"outlinewidth\": 0, \"ticks\": \"\"}}, \"type\": \"scattermapbox\"}], \"scatterpolar\": [{\"marker\": {\"colorbar\": {\"outlinewidth\": 0, \"ticks\": \"\"}}, \"type\": \"scatterpolar\"}], \"scatterpolargl\": [{\"marker\": {\"colorbar\": {\"outlinewidth\": 0, \"ticks\": \"\"}}, \"type\": \"scatterpolargl\"}], \"scatterternary\": [{\"marker\": {\"colorbar\": {\"outlinewidth\": 0, \"ticks\": \"\"}}, \"type\": \"scatterternary\"}], \"surface\": [{\"colorbar\": {\"outlinewidth\": 0, \"ticks\": \"\"}, \"colorscale\": [[0.0, \"#0d0887\"], [0.1111111111111111, \"#46039f\"], [0.2222222222222222, \"#7201a8\"], [0.3333333333333333, \"#9c179e\"], [0.4444444444444444, \"#bd3786\"], [0.5555555555555556, \"#d8576b\"], [0.6666666666666666, \"#ed7953\"], [0.7777777777777778, \"#fb9f3a\"], [0.8888888888888888, \"#fdca26\"], [1.0, \"#f0f921\"]], \"type\": \"surface\"}], \"table\": [{\"cells\": {\"fill\": {\"color\": \"#EBF0F8\"}, \"line\": {\"color\": \"white\"}}, \"header\": {\"fill\": {\"color\": \"#C8D4E3\"}, \"line\": {\"color\": \"white\"}}, \"type\": \"table\"}]}, \"layout\": {\"annotationdefaults\": {\"arrowcolor\": \"#2a3f5f\", \"arrowhead\": 0, \"arrowwidth\": 1}, \"colorscale\": {\"diverging\": [[0, \"#8e0152\"], [0.1, \"#c51b7d\"], [0.2, \"#de77ae\"], [0.3, \"#f1b6da\"], [0.4, \"#fde0ef\"], [0.5, \"#f7f7f7\"], [0.6, \"#e6f5d0\"], [0.7, \"#b8e186\"], [0.8, \"#7fbc41\"], [0.9, \"#4d9221\"], [1, \"#276419\"]], \"sequential\": [[0.0, \"#0d0887\"], [0.1111111111111111, \"#46039f\"], [0.2222222222222222, \"#7201a8\"], [0.3333333333333333, \"#9c179e\"], [0.4444444444444444, \"#bd3786\"], [0.5555555555555556, \"#d8576b\"], [0.6666666666666666, \"#ed7953\"], [0.7777777777777778, \"#fb9f3a\"], [0.8888888888888888, \"#fdca26\"], [1.0, \"#f0f921\"]], \"sequentialminus\": [[0.0, \"#0d0887\"], [0.1111111111111111, \"#46039f\"], [0.2222222222222222, \"#7201a8\"], [0.3333333333333333, \"#9c179e\"], [0.4444444444444444, \"#bd3786\"], [0.5555555555555556, \"#d8576b\"], [0.6666666666666666, \"#ed7953\"], [0.7777777777777778, \"#fb9f3a\"], [0.8888888888888888, \"#fdca26\"], [1.0, \"#f0f921\"]]}, \"colorway\": [\"#636efa\", \"#EF553B\", \"#00cc96\", \"#ab63fa\", \"#FFA15A\", \"#19d3f3\", \"#FF6692\", \"#B6E880\", \"#FF97FF\", \"#FECB52\"], \"font\": {\"color\": \"#2a3f5f\"}, \"geo\": {\"bgcolor\": \"white\", \"lakecolor\": \"white\", \"landcolor\": \"#E5ECF6\", \"showlakes\": true, \"showland\": true, \"subunitcolor\": \"white\"}, \"hoverlabel\": {\"align\": \"left\"}, \"hovermode\": \"closest\", \"mapbox\": {\"style\": \"light\"}, \"paper_bgcolor\": \"white\", \"plot_bgcolor\": \"#E5ECF6\", \"polar\": {\"angularaxis\": {\"gridcolor\": \"white\", \"linecolor\": \"white\", \"ticks\": \"\"}, \"bgcolor\": \"#E5ECF6\", \"radialaxis\": {\"gridcolor\": \"white\", \"linecolor\": \"white\", \"ticks\": \"\"}}, \"scene\": {\"xaxis\": {\"backgroundcolor\": \"#E5ECF6\", \"gridcolor\": \"white\", \"gridwidth\": 2, \"linecolor\": \"white\", \"showbackground\": true, \"ticks\": \"\", \"zerolinecolor\": \"white\"}, \"yaxis\": {\"backgroundcolor\": \"#E5ECF6\", \"gridcolor\": \"white\", \"gridwidth\": 2, \"linecolor\": \"white\", \"showbackground\": true, \"ticks\": \"\", \"zerolinecolor\": \"white\"}, \"zaxis\": {\"backgroundcolor\": \"#E5ECF6\", \"gridcolor\": \"white\", \"gridwidth\": 2, \"linecolor\": \"white\", \"showbackground\": true, \"ticks\": \"\", \"zerolinecolor\": \"white\"}}, \"shapedefaults\": {\"line\": {\"color\": \"#2a3f5f\"}}, \"ternary\": {\"aaxis\": {\"gridcolor\": \"white\", \"linecolor\": \"white\", \"ticks\": \"\"}, \"baxis\": {\"gridcolor\": \"white\", \"linecolor\": \"white\", \"ticks\": \"\"}, \"bgcolor\": \"#E5ECF6\", \"caxis\": {\"gridcolor\": \"white\", \"linecolor\": \"white\", \"ticks\": \"\"}}, \"title\": {\"x\": 0.05}, \"xaxis\": {\"automargin\": true, \"gridcolor\": \"white\", \"linecolor\": \"white\", \"ticks\": \"\", \"zerolinecolor\": \"white\", \"zerolinewidth\": 2}, \"yaxis\": {\"automargin\": true, \"gridcolor\": \"white\", \"linecolor\": \"white\", \"ticks\": \"\", \"zerolinecolor\": \"white\", \"zerolinewidth\": 2}}}, \"title\": {\"text\": \"\\u0412\\u043e\\u0440\\u043e\\u043d\\u043a\\u0430 \\u0441\\u043e\\u0431\\u044b\\u0442\\u0438\\u0439 \\u043f\\u043e \\u043a\\u043e\\u043b\\u0438\\u0447\\u0435\\u0441\\u0442\\u0432\\u0443 \\u0443\\u043d\\u0438\\u043a\\u0430\\u043b\\u044c\\u043d\\u044b\\u0445 \\u043f\\u043e\\u043b\\u044c\\u0437\\u043e\\u0432\\u0430\\u0442\\u0435\\u043b\\u0435\\u0439\", \"x\": 0.5, \"xanchor\": \"center\", \"y\": 0.9, \"yanchor\": \"top\"}},\n",
       "                        {\"responsive\": true}\n",
       "                    ).then(function(){\n",
       "                            \n",
       "var gd = document.getElementById('b6fd98bd-9f90-4211-8634-d9a27bc43990');\n",
       "var x = new MutationObserver(function (mutations, observer) {{\n",
       "        var display = window.getComputedStyle(gd).display;\n",
       "        if (!display || display === 'none') {{\n",
       "            console.log([gd, 'removed!']);\n",
       "            Plotly.purge(gd);\n",
       "            observer.disconnect();\n",
       "        }}\n",
       "}});\n",
       "\n",
       "// Listen for the removal of the full notebook cells\n",
       "var notebookContainer = gd.closest('#notebook-container');\n",
       "if (notebookContainer) {{\n",
       "    x.observe(notebookContainer, {childList: true});\n",
       "}}\n",
       "\n",
       "// Listen for the clearing of the current output cell\n",
       "var outputEl = gd.closest('.output');\n",
       "if (outputEl) {{\n",
       "    x.observe(outputEl, {childList: true});\n",
       "}}\n",
       "\n",
       "                        })\n",
       "                };\n",
       "                });\n",
       "            </script>\n",
       "        </div>"
      ]
     },
     "metadata": {},
     "output_type": "display_data"
    }
   ],
   "source": [
    "# Визуализируем воронку\n",
    "fig = go.Figure(go.Funnel(y=users_funnel['event'], x=users_funnel['users_count']))\n",
    "fig.update_layout(title={'text': \"Воронка событий по количеству уникальных пользователей\", \n",
    "                         'y':0.9, 'x':0.5, 'xanchor': 'center', 'yanchor': 'top'}, \n",
    "                  font=dict(size=14))\n",
    "fig.show()"
   ]
  },
  {
   "cell_type": "markdown",
   "metadata": {},
   "source": [
    "На интерактивной воронке видим количество пользователей, переходящих на следующий этап, по отношению к первоначальному количеству пользователей (на первом этапе) и по отношению к предыдущему этапу. \n",
    "\n",
    "Мы видим, что больше всего пользователей - почти 38% от первоначального количества - теряем при переходе с первого на второй этап - то есть пользователи, просмотрев главную страницу, не переходят на страницу с товарами. При переходе со второго на третий и с третьего на четверый этап теряется всего 14% от первоначального количества. До оплаты доходят более 47% пользователей от первоначального количества пользователей. "
   ]
  },
  {
   "cell_type": "markdown",
   "metadata": {},
   "source": [
    "<a id='section_3.2'></a>\n",
    "### 3.2 Вывод"
   ]
  },
  {
   "cell_type": "markdown",
   "metadata": {},
   "source": [
    "1. Наша воронка событий выглядит следующим образом:\n",
    "   - Показ главной страницы,\n",
    "   - Показ страницы с товаром,\n",
    "   - Показ корзины с покупками,\n",
    "   - Страница завершения оплаты.\n",
    "2. В данных также содержалась информация о событии \"Знакомство с приложением\", которое не является частью воронки, поэтому мы удалили записи о таких событиях из набора данных. \n",
    "3. Больше всего пользователей - почти 38% от первоначального количества - теряется при переходе с первого на второй этап. При переходе со второго на третий и с третьего на четверый этап теряется всего 14%. До оплаты доходят более 47% пользователей. \n",
    "4. Причины большого отсева пользователей при переходе с первого на второй этап требуют более глубокого изучения."
   ]
  },
  {
   "cell_type": "markdown",
   "metadata": {},
   "source": [
    "## Часть 4. Анализ результатов А/А/В-теста"
   ]
  },
  {
   "cell_type": "markdown",
   "metadata": {},
   "source": [
    "<a id='section_4.1'></a>\n",
    "### 4.1 Подготовка выборок и написание функции"
   ]
  },
  {
   "cell_type": "markdown",
   "metadata": {},
   "source": [
    "Проверим, сколько пользователей входит в каждую группу эксперимента. Для этого сначала сделаем отдельный срез данных по каждой группе и общий по объединенной контрольной."
   ]
  },
  {
   "cell_type": "code",
   "execution_count": 81,
   "metadata": {},
   "outputs": [],
   "source": [
    "# Отберем данные по каждой группе в отдельный датасет\n",
    "data_246 = data_clean.query('exp_id == 246')\n",
    "data_247 = data_clean.query('exp_id == 247')\n",
    "data_248 = data_clean.query('exp_id == 248')\n",
    "data_246_247 = data_clean.query('exp_id == 246 or exp_id == 247')"
   ]
  },
  {
   "cell_type": "code",
   "execution_count": 82,
   "metadata": {},
   "outputs": [
    {
     "name": "stdout",
     "output_type": "stream",
     "text": [
      "Количество пользователей в контрольной группе 246 составляет 2483; это 33.0% от общего числа пользователей.\n",
      "Количество пользователей в контрольной группе 247 составляет 2512; это 33.4% от общего числа пользователей.\n",
      "Количество пользователей в экспериментальной группе 248 составляет 2535; это 33.7% от общего числа пользователей.\n"
     ]
    }
   ],
   "source": [
    "# Посмотрим, сколько пользователей и какой процент от общего числа относится к каждой группе\n",
    "print(\"Количество пользователей в контрольной группе 246 составляет {}; это {:.1%} от общего числа пользователей.\"\n",
    "      .format(data_246['user_id'].nunique(), data_246['user_id'].nunique() / data_clean['user_id'].nunique()))\n",
    "print(\"Количество пользователей в контрольной группе 247 составляет {}; это {:.1%} от общего числа пользователей.\"\n",
    "      .format(data_247['user_id'].nunique(), data_247['user_id'].nunique() / data_clean['user_id'].nunique()))\n",
    "print(\"Количество пользователей в экспериментальной группе 248 составляет {}; это {:.1%} от общего числа пользователей.\"\n",
    "      .format(data_248['user_id'].nunique(), data_248['user_id'].nunique() / data_clean['user_id'].nunique()))"
   ]
  },
  {
   "cell_type": "markdown",
   "metadata": {},
   "source": [
    "Разница в размерах групп колеблется в пределах 0,7%, что допустимо.\n",
    "\n",
    "Далее мы планируем проверить наличие статистически значимых различий между выборками различных групп эксперимента. Для проверки будем использовать z-тест.\n",
    "\n",
    "Так как мы будем проводить целый ряд попарных сравнений, напишем функцию, чтобы оптимизировать данный процесс."
   ]
  },
  {
   "cell_type": "code",
   "execution_count": 83,
   "metadata": {},
   "outputs": [],
   "source": [
    "# Создадим переменную, в которую будем сохранять все р-значения\n",
    "ALL_P_VALUES = []\n",
    "\n",
    "# Напишем функцию для проверки наличия стат. значимых отличий\n",
    "def stat_difference_check(alpha, dataset1, dataset2, event_name):\n",
    "\n",
    "    # Выделим названия групп\n",
    "    group1 = dataset1['exp_id'].unique()\n",
    "    group2 = dataset2['exp_id'].unique()\n",
    "    \n",
    "    # Сформулируем нулевую гипотезу\n",
    "    print('Гипотеза:')\n",
    "    print('H0: Конверсия в событие {} для групп {} и {} одинакова.'.format(event_name, group1, group2))\n",
    "    print('H1: Конверсия в событие {} для групп {} и {} имеет статистически значимое различие.'\n",
    "          .format(event_name, group1, group2))\n",
    "    print()\n",
    "    \n",
    "    # Установим критический уровень статистической значимости\n",
    "    alpha = alpha \n",
    "\n",
    "    # Выделим количество уникальных пользователей в группе 1, у которых наступило событие\n",
    "    event_users_g1 = dataset1.query('event == @event_name')['user_id'].nunique()\n",
    "    # Выделим общее количество уникальных пользователей в группе 1\n",
    "    total_users_g1 = dataset1['user_id'].nunique()\n",
    "\n",
    "    # Выделим количество уникальных пользователей в группе 2, у которых наступило событие\n",
    "    event_users_g2 = dataset2.query('event == @event_name')['user_id'].nunique()\n",
    "    # Выделим общее количество уникальных пользователей в группе 1\n",
    "    total_users_g2 = dataset2['user_id'].nunique()\n",
    "\n",
    "    # Посчитаем пропорцию успехов в группе 1 и группе 2 и выведем на экран \n",
    "    p1 = event_users_g1 / total_users_g1\n",
    "    p2 = event_users_g2 / total_users_g2\n",
    "    print('Результат сравнения:')\n",
    "    print('Соотношение пользователей, у которых произошло событие {}, к общему числу пользователей:'.format(event_name))\n",
    "    print('группа {} - {:.2%};'.format(group1, p1))\n",
    "    print('группа {} - {:.2%}.'.format(group2, p2))\n",
    "   \n",
    "    # Посчитаем общую пропорцию успехов\n",
    "    p_combined = (event_users_g1 + event_users_g2) / (total_users_g1 + total_users_g2)\n",
    "\n",
    "    # Считаем разницу пропорций в датасетах\n",
    "    difference = p1 - p2 \n",
    "\n",
    "    # Считаем статистику в ст.отклонениях стандартного нормального распределения\n",
    "    z_value = difference / mth.sqrt(p_combined * (1 - p_combined) * (1/total_users_g1 + 1/total_users_g2))\n",
    "\n",
    "    # Задаем стандартное нормальное распределение (среднее 0, ст.отклонение 1)\n",
    "    distr = st.norm(0, 1)\n",
    "\n",
    "    # Считаем p-значение\n",
    "    p_value = (1 - distr.cdf(abs(z_value))) * 2\n",
    "    \n",
    "    # Добавим полученное р-значение в переменную ALL_P_VALUES\n",
    "    ALL_P_VALUES.append(p_value)\n",
    "\n",
    "    # Выводим полученное р-значение и вывод о результате проведенного сравнения\n",
    "    print('P-значение:', p_value)\n",
    "    print()\n",
    "    \n",
    "    if (p_value < alpha):\n",
    "        print('Вывод:')\n",
    "        print('Отвергаем нулевую гипотезу - между долями есть значимая разница.')\n",
    "    else:\n",
    "        print('Вывод:')\n",
    "        print('Не получилось отвергнуть нулевую гипотезу, нет оснований считать доли разными.') "
   ]
  },
  {
   "cell_type": "markdown",
   "metadata": {},
   "source": [
    "<a id='section_4.2'></a>\n",
    "### 4.2 Сравнение контрольных групп"
   ]
  },
  {
   "cell_type": "markdown",
   "metadata": {},
   "source": [
    "В нашем тесте пользователи разделены на три группы: 2 контрольные и 1 экспериментальную. Наличие двух контрольных групп вместо одной имеет определённые преимущества. Если две контрольные группы окажутся равны, мы можем быть уверены в точности проведенного тестирования. Если же между значениями контрольных групп будут существенные различия, это поможет обнаружить факторы, которые привели к искажению результатов. \n",
    "\n",
    "Проведем сравнение долей пользователей, совершивших каждое событие в воронке, между контрольными группами 246 и 247, используя подготовленную функцию. Установим уровень значимость равным 0,05."
   ]
  },
  {
   "cell_type": "code",
   "execution_count": 84,
   "metadata": {},
   "outputs": [
    {
     "name": "stdout",
     "output_type": "stream",
     "text": [
      "Гипотеза:\n",
      "H0: Конверсия в событие MainScreenAppear для групп [246] и [247] одинакова.\n",
      "H1: Конверсия в событие MainScreenAppear для групп [246] и [247] имеет статистически значимое различие.\n",
      "\n",
      "Результат сравнения:\n",
      "Соотношение пользователей, у которых произошло событие MainScreenAppear, к общему числу пользователей:\n",
      "группа [246] - 98.67%;\n",
      "группа [247] - 98.57%.\n",
      "P-значение: 0.7526703436483038\n",
      "\n",
      "Вывод:\n",
      "Не получилось отвергнуть нулевую гипотезу, нет оснований считать доли разными.\n"
     ]
    }
   ],
   "source": [
    "# Используем функцию, установив уровень стат. значимости 0,05\n",
    "stat_difference_check(.05, data_246, data_247, \"MainScreenAppear\")"
   ]
  },
  {
   "cell_type": "code",
   "execution_count": 85,
   "metadata": {},
   "outputs": [
    {
     "name": "stdout",
     "output_type": "stream",
     "text": [
      "Гипотеза:\n",
      "H0: Конверсия в событие OffersScreenAppear для групп [246] и [247] одинакова.\n",
      "H1: Конверсия в событие OffersScreenAppear для групп [246] и [247] имеет статистически значимое различие.\n",
      "\n",
      "Результат сравнения:\n",
      "Соотношение пользователей, у которых произошло событие OffersScreenAppear, к общему числу пользователей:\n",
      "группа [246] - 62.10%;\n",
      "группа [247] - 60.51%.\n",
      "P-значение: 0.24786096925282264\n",
      "\n",
      "Вывод:\n",
      "Не получилось отвергнуть нулевую гипотезу, нет оснований считать доли разными.\n"
     ]
    }
   ],
   "source": [
    "# Используем функцию, установив уровень стат. значимости 0,05\n",
    "stat_difference_check(.05, data_246, data_247, \"OffersScreenAppear\")"
   ]
  },
  {
   "cell_type": "code",
   "execution_count": 86,
   "metadata": {},
   "outputs": [
    {
     "name": "stdout",
     "output_type": "stream",
     "text": [
      "Гипотеза:\n",
      "H0: Конверсия в событие CartScreenAppear для групп [246] и [247] одинакова.\n",
      "H1: Конверсия в событие CartScreenAppear для групп [246] и [247] имеет статистически значимое различие.\n",
      "\n",
      "Результат сравнения:\n",
      "Соотношение пользователей, у которых произошло событие CartScreenAppear, к общему числу пользователей:\n",
      "группа [246] - 50.99%;\n",
      "группа [247] - 49.28%.\n",
      "P-значение: 0.22867643757335676\n",
      "\n",
      "Вывод:\n",
      "Не получилось отвергнуть нулевую гипотезу, нет оснований считать доли разными.\n"
     ]
    }
   ],
   "source": [
    "# Используем функцию, установив уровень стат. значимости 0,05\n",
    "stat_difference_check(.05, data_246, data_247, \"CartScreenAppear\")"
   ]
  },
  {
   "cell_type": "code",
   "execution_count": 87,
   "metadata": {},
   "outputs": [
    {
     "name": "stdout",
     "output_type": "stream",
     "text": [
      "Гипотеза:\n",
      "H0: Конверсия в событие PaymentScreenSuccessful для групп [246] и [247] одинакова.\n",
      "H1: Конверсия в событие PaymentScreenSuccessful для групп [246] и [247] имеет статистически значимое различие.\n",
      "\n",
      "Результат сравнения:\n",
      "Соотношение пользователей, у которых произошло событие PaymentScreenSuccessful, к общему числу пользователей:\n",
      "группа [246] - 48.33%;\n",
      "группа [247] - 46.10%.\n",
      "P-значение: 0.11446627829276612\n",
      "\n",
      "Вывод:\n",
      "Не получилось отвергнуть нулевую гипотезу, нет оснований считать доли разными.\n"
     ]
    }
   ],
   "source": [
    "# Используем функцию, установив уровень стат. значимости 0,05\n",
    "stat_difference_check(.05, data_246, data_247, \"PaymentScreenSuccessful\")"
   ]
  },
  {
   "cell_type": "markdown",
   "metadata": {},
   "source": [
    "**Вывод:**\n",
    "Z-тест не выявил статистически значимых различий в долях пользователей групп 246 и 247 на каждом уровне воронки, что в свою очередь подтверждает, что контрольные группы были отобраны корректно."
   ]
  },
  {
   "cell_type": "markdown",
   "metadata": {},
   "source": [
    "<a id='section_4.3'></a>\n",
    "### 4.3 Сравнение экспериментальной группы с контрольными"
   ]
  },
  {
   "cell_type": "markdown",
   "metadata": {},
   "source": [
    "Теперь аналогичным образом сравним результаты экспериментальной группы 248 (пользователи которой видели страницу с измененными шрифтами) с каждой из контрольных групп в отдельности по каждому событию."
   ]
  },
  {
   "cell_type": "code",
   "execution_count": 88,
   "metadata": {},
   "outputs": [
    {
     "name": "stdout",
     "output_type": "stream",
     "text": [
      "Гипотеза:\n",
      "H0: Конверсия в событие MainScreenAppear для групп [246] и [248] одинакова.\n",
      "H1: Конверсия в событие MainScreenAppear для групп [246] и [248] имеет статистически значимое различие.\n",
      "\n",
      "Результат сравнения:\n",
      "Соотношение пользователей, у которых произошло событие MainScreenAppear, к общему числу пользователей:\n",
      "группа [246] - 98.67%;\n",
      "группа [248] - 98.34%.\n",
      "P-значение: 0.3387114076159288\n",
      "\n",
      "Вывод:\n",
      "Не получилось отвергнуть нулевую гипотезу, нет оснований считать доли разными.\n"
     ]
    }
   ],
   "source": [
    "# Используем функцию, установив уровень стат. значимости 0,05\n",
    "stat_difference_check(.05, data_246, data_248, \"MainScreenAppear\")"
   ]
  },
  {
   "cell_type": "code",
   "execution_count": 89,
   "metadata": {},
   "outputs": [
    {
     "name": "stdout",
     "output_type": "stream",
     "text": [
      "Гипотеза:\n",
      "H0: Конверсия в событие MainScreenAppear для групп [247] и [248] одинакова.\n",
      "H1: Конверсия в событие MainScreenAppear для групп [247] и [248] имеет статистически значимое различие.\n",
      "\n",
      "Результат сравнения:\n",
      "Соотношение пользователей, у которых произошло событие MainScreenAppear, к общему числу пользователей:\n",
      "группа [247] - 98.57%;\n",
      "группа [248] - 98.34%.\n",
      "P-значение: 0.5194964354051703\n",
      "\n",
      "Вывод:\n",
      "Не получилось отвергнуть нулевую гипотезу, нет оснований считать доли разными.\n"
     ]
    }
   ],
   "source": [
    "# Используем функцию, установив уровень стат. значимости 0,05\n",
    "stat_difference_check(.05, data_247, data_248, \"MainScreenAppear\")"
   ]
  },
  {
   "cell_type": "code",
   "execution_count": 90,
   "metadata": {},
   "outputs": [
    {
     "name": "stdout",
     "output_type": "stream",
     "text": [
      "Гипотеза:\n",
      "H0: Конверсия в событие OffersScreenAppear для групп [246] и [248] одинакова.\n",
      "H1: Конверсия в событие OffersScreenAppear для групп [246] и [248] имеет статистически значимое различие.\n",
      "\n",
      "Результат сравнения:\n",
      "Соотношение пользователей, у которых произошло событие OffersScreenAppear, к общему числу пользователей:\n",
      "группа [246] - 62.10%;\n",
      "группа [248] - 60.39%.\n",
      "P-значение: 0.21442476639710506\n",
      "\n",
      "Вывод:\n",
      "Не получилось отвергнуть нулевую гипотезу, нет оснований считать доли разными.\n"
     ]
    }
   ],
   "source": [
    "# Используем функцию, установив уровень стат. значимости 0,05\n",
    "stat_difference_check(.05, data_246, data_248, \"OffersScreenAppear\")"
   ]
  },
  {
   "cell_type": "code",
   "execution_count": 91,
   "metadata": {},
   "outputs": [
    {
     "name": "stdout",
     "output_type": "stream",
     "text": [
      "Гипотеза:\n",
      "H0: Конверсия в событие OffersScreenAppear для групп [247] и [248] одинакова.\n",
      "H1: Конверсия в событие OffersScreenAppear для групп [247] и [248] имеет статистически значимое различие.\n",
      "\n",
      "Результат сравнения:\n",
      "Соотношение пользователей, у которых произошло событие OffersScreenAppear, к общему числу пользователей:\n",
      "группа [247] - 60.51%;\n",
      "группа [248] - 60.39%.\n",
      "P-значение: 0.9333751305879443\n",
      "\n",
      "Вывод:\n",
      "Не получилось отвергнуть нулевую гипотезу, нет оснований считать доли разными.\n"
     ]
    }
   ],
   "source": [
    "# Используем функцию, установив уровень стат. значимости 0,05\n",
    "stat_difference_check(.05, data_247, data_248, \"OffersScreenAppear\")"
   ]
  },
  {
   "cell_type": "code",
   "execution_count": 92,
   "metadata": {},
   "outputs": [
    {
     "name": "stdout",
     "output_type": "stream",
     "text": [
      "Гипотеза:\n",
      "H0: Конверсия в событие CartScreenAppear для групп [246] и [248] одинакова.\n",
      "H1: Конверсия в событие CartScreenAppear для групп [246] и [248] имеет статистически значимое различие.\n",
      "\n",
      "Результат сравнения:\n",
      "Соотношение пользователей, у которых произошло событие CartScreenAppear, к общему числу пользователей:\n",
      "группа [246] - 50.99%;\n",
      "группа [248] - 48.52%.\n",
      "P-значение: 0.08067367598823139\n",
      "\n",
      "Вывод:\n",
      "Не получилось отвергнуть нулевую гипотезу, нет оснований считать доли разными.\n"
     ]
    }
   ],
   "source": [
    "# Используем функцию, установив уровень стат. значимости 0,05\n",
    "stat_difference_check(.05, data_246, data_248, \"CartScreenAppear\")"
   ]
  },
  {
   "cell_type": "code",
   "execution_count": 93,
   "metadata": {},
   "outputs": [
    {
     "name": "stdout",
     "output_type": "stream",
     "text": [
      "Гипотеза:\n",
      "H0: Конверсия в событие CartScreenAppear для групп [247] и [248] одинакова.\n",
      "H1: Конверсия в событие CartScreenAppear для групп [247] и [248] имеет статистически значимое различие.\n",
      "\n",
      "Результат сравнения:\n",
      "Соотношение пользователей, у которых произошло событие CartScreenAppear, к общему числу пользователей:\n",
      "группа [247] - 49.28%;\n",
      "группа [248] - 48.52%.\n",
      "P-значение: 0.5878284605111943\n",
      "\n",
      "Вывод:\n",
      "Не получилось отвергнуть нулевую гипотезу, нет оснований считать доли разными.\n"
     ]
    }
   ],
   "source": [
    "# Используем функцию, установив уровень стат. значимости 0,05\n",
    "stat_difference_check(.05, data_247, data_248, \"CartScreenAppear\")"
   ]
  },
  {
   "cell_type": "code",
   "execution_count": 94,
   "metadata": {},
   "outputs": [
    {
     "name": "stdout",
     "output_type": "stream",
     "text": [
      "Гипотеза:\n",
      "H0: Конверсия в событие PaymentScreenSuccessful для групп [246] и [248] одинакова.\n",
      "H1: Конверсия в событие PaymentScreenSuccessful для групп [246] и [248] имеет статистически значимое различие.\n",
      "\n",
      "Результат сравнения:\n",
      "Соотношение пользователей, у которых произошло событие PaymentScreenSuccessful, к общему числу пользователей:\n",
      "группа [246] - 48.33%;\n",
      "группа [248] - 46.59%.\n",
      "P-значение: 0.21693033984516674\n",
      "\n",
      "Вывод:\n",
      "Не получилось отвергнуть нулевую гипотезу, нет оснований считать доли разными.\n"
     ]
    }
   ],
   "source": [
    "# Используем функцию, установив уровень стат. значимости 0,05\n",
    "stat_difference_check(.05, data_246, data_248, \"PaymentScreenSuccessful\")"
   ]
  },
  {
   "cell_type": "code",
   "execution_count": 95,
   "metadata": {},
   "outputs": [
    {
     "name": "stdout",
     "output_type": "stream",
     "text": [
      "Гипотеза:\n",
      "H0: Конверсия в событие PaymentScreenSuccessful для групп [247] и [248] одинакова.\n",
      "H1: Конверсия в событие PaymentScreenSuccessful для групп [247] и [248] имеет статистически значимое различие.\n",
      "\n",
      "Результат сравнения:\n",
      "Соотношение пользователей, у которых произошло событие PaymentScreenSuccessful, к общему числу пользователей:\n",
      "группа [247] - 46.10%;\n",
      "группа [248] - 46.59%.\n",
      "P-значение: 0.7275718682261119\n",
      "\n",
      "Вывод:\n",
      "Не получилось отвергнуть нулевую гипотезу, нет оснований считать доли разными.\n"
     ]
    }
   ],
   "source": [
    "# Используем функцию, установив уровень стат. значимости 0,05\n",
    "stat_difference_check(.05, data_247, data_248, \"PaymentScreenSuccessful\")"
   ]
  },
  {
   "cell_type": "markdown",
   "metadata": {},
   "source": [
    "**Вывод:**\n",
    "По результатам сравнения долей пользователей, совершивших события, в каждой из контрольных групп с экспериментальной группой не удалось выявить статистически значимых различий. Таким образом, можно считать, что замена шрифтов не повлияла на конверсию в любое из событий воронки. \n",
    "\n",
    "Дополнительно сравним результаты экспериментальной группы с объединённой контрольной группой."
   ]
  },
  {
   "cell_type": "code",
   "execution_count": 96,
   "metadata": {},
   "outputs": [
    {
     "name": "stdout",
     "output_type": "stream",
     "text": [
      "Гипотеза:\n",
      "H0: Конверсия в событие MainScreenAppear для групп [246 247] и [248] одинакова.\n",
      "H1: Конверсия в событие MainScreenAppear для групп [246 247] и [248] имеет статистически значимое различие.\n",
      "\n",
      "Результат сравнения:\n",
      "Соотношение пользователей, у которых произошло событие MainScreenAppear, к общему числу пользователей:\n",
      "группа [246 247] - 98.62%;\n",
      "группа [248] - 98.34%.\n",
      "P-значение: 0.3486684291093256\n",
      "\n",
      "Вывод:\n",
      "Не получилось отвергнуть нулевую гипотезу, нет оснований считать доли разными.\n"
     ]
    }
   ],
   "source": [
    "# Используем функцию, установив уровень стат. значимости 0,05\n",
    "stat_difference_check(.05, data_246_247, data_248, \"MainScreenAppear\")"
   ]
  },
  {
   "cell_type": "code",
   "execution_count": 97,
   "metadata": {},
   "outputs": [
    {
     "name": "stdout",
     "output_type": "stream",
     "text": [
      "Гипотеза:\n",
      "H0: Конверсия в событие OffersScreenAppear для групп [246 247] и [248] одинакова.\n",
      "H1: Конверсия в событие OffersScreenAppear для групп [246 247] и [248] имеет статистически значимое различие.\n",
      "\n",
      "Результат сравнения:\n",
      "Соотношение пользователей, у которых произошло событие OffersScreenAppear, к общему числу пользователей:\n",
      "группа [246 247] - 61.30%;\n",
      "группа [248] - 60.39%.\n",
      "P-значение: 0.44582745409482394\n",
      "\n",
      "Вывод:\n",
      "Не получилось отвергнуть нулевую гипотезу, нет оснований считать доли разными.\n"
     ]
    }
   ],
   "source": [
    "# Используем функцию, установив уровень стат. значимости 0,05\n",
    "stat_difference_check(.05, data_246_247, data_248, \"OffersScreenAppear\")"
   ]
  },
  {
   "cell_type": "code",
   "execution_count": 98,
   "metadata": {},
   "outputs": [
    {
     "name": "stdout",
     "output_type": "stream",
     "text": [
      "Гипотеза:\n",
      "H0: Конверсия в событие CartScreenAppear для групп [246 247] и [248] одинакова.\n",
      "H1: Конверсия в событие CartScreenAppear для групп [246 247] и [248] имеет статистически значимое различие.\n",
      "\n",
      "Результат сравнения:\n",
      "Соотношение пользователей, у которых произошло событие CartScreenAppear, к общему числу пользователей:\n",
      "группа [246 247] - 50.13%;\n",
      "группа [248] - 48.52%.\n",
      "P-значение: 0.18683558686831558\n",
      "\n",
      "Вывод:\n",
      "Не получилось отвергнуть нулевую гипотезу, нет оснований считать доли разными.\n"
     ]
    }
   ],
   "source": [
    "# Используем функцию, установив уровень стат. значимости 0,05\n",
    "stat_difference_check(.05, data_246_247, data_248, \"CartScreenAppear\")"
   ]
  },
  {
   "cell_type": "code",
   "execution_count": 99,
   "metadata": {},
   "outputs": [
    {
     "name": "stdout",
     "output_type": "stream",
     "text": [
      "Гипотеза:\n",
      "H0: Конверсия в событие PaymentScreenSuccessful для групп [246 247] и [248] одинакова.\n",
      "H1: Конверсия в событие PaymentScreenSuccessful для групп [246 247] и [248] имеет статистически значимое различие.\n",
      "\n",
      "Результат сравнения:\n",
      "Соотношение пользователей, у которых произошло событие PaymentScreenSuccessful, к общему числу пользователей:\n",
      "группа [246 247] - 47.21%;\n",
      "группа [248] - 46.59%.\n",
      "P-значение: 0.6107918742187335\n",
      "\n",
      "Вывод:\n",
      "Не получилось отвергнуть нулевую гипотезу, нет оснований считать доли разными.\n"
     ]
    }
   ],
   "source": [
    "# Используем функцию, установив уровень стат. значимости 0,05\n",
    "stat_difference_check(.05, data_246_247, data_248, \"PaymentScreenSuccessful\")"
   ]
  },
  {
   "cell_type": "markdown",
   "metadata": {},
   "source": [
    "**Вывод:**\n",
    "Сравнение объединенной контрольной группы с экспериментальной группой не выявило статистически значимых различий ни на одном уровне, что подтверждает ранее сделаные выводы."
   ]
  },
  {
   "cell_type": "markdown",
   "metadata": {},
   "source": [
    "<a id='section_4.4'></a>\n",
    "### 4.4 Применение поправки Холма-Бонферрони для множественных сравнений"
   ]
  },
  {
   "cell_type": "markdown",
   "metadata": {},
   "source": [
    "Какой уровень значимости вы выбрали при проверке статистических гипотез выше? Посчитайте, сколько проверок статистических гипотез вы сделали. При уровне значимости 0.1 каждый десятый раз можно получать ложный результат. Какой уровень значимости стоит применить? Если вы хотите изменить его, проделайте предыдущие пункты и проверьте свои выводы."
   ]
  },
  {
   "cell_type": "markdown",
   "metadata": {},
   "source": [
    "В целом мы провели 16 тестов, используя один набор данных. \n",
    "\n",
    "Известно, что при одновременной проверке большого числа гипотез на одном наборе данных вероятность сделать неверное заключение в отношении хотя бы одной из этих гипотез значительно превышает изначально принятый уровень значимости.\n",
    "\n",
    "Для того, чтобы минимизировать число ложных отклонений верных гипотез, можно использовать метод Холма, который представляет собой гораздно более мощную модификацию подхода, предложенного Бонферрони.\n",
    "\n",
    "Модифицированный метод основан на алгоритме, который включает следующие шаги:\n",
    "- Исходные Р-значения упорядочиваются по возрастанию (эти Р-значения соответствуют проверяемым гипотезам).\n",
    "- Если минимальное р-значение больше уровня значимости, деленного на количество проведенных тестов, все нулевые гипотезы принимаются и процедура останавливается. \n",
    "- Иначе следует отвергнуть гипотезу, при проверке которой было получено минимальное р-значение и продолжить.\n",
    "- Если следующее р-значение больше уровня значимости, деленного на количество проведенных тестов минус 1, все оставшиеся нулевые гипотезы принимаются и процедура останавливается. \n",
    "- Иначе гипотеза отвергается и процедура продолжается. При каждой последующей проверке р-значение сравнивается с уровнем значимости, деленным на количество тестов, уменьшенное на 1 по сравнению с количеством тестов в предыдущей проверке.\n",
    "\n",
    "Применим метод Холма-Бонферрони к р-значениям, полученным в ходе проведения сравнения результатов нашего теста. Строго говоря, в случае с ранее проведенными сравнениями, ни одна из нулевых гипотез не была отвергнута, поэтому можно было не применять метод Бонферрони-Холма. Но написанный алгоритм позволит провести нам сравнения с разными уровнями значимости."
   ]
  },
  {
   "cell_type": "code",
   "execution_count": 100,
   "metadata": {},
   "outputs": [
    {
     "name": "stdout",
     "output_type": "stream",
     "text": [
      "Уровень значимости - 0.05.\n",
      "Вывод c учетом применения поправки Бонферрони-Холма:\n",
      "Все гипотезы приняты.\n"
     ]
    }
   ],
   "source": [
    "# Отсортируем по возрастанию список со всеми р-значениями \n",
    "ALL_P_VALUES.sort()\n",
    "\n",
    "# Указываем уровень значимости\n",
    "alpha = .05\n",
    "# Указываем общее количество тестов\n",
    "n_tests = 16\n",
    "\n",
    "print(f'Уровень значимости - {alpha}.')\n",
    "print('Вывод c учетом применения поправки Бонферрони-Холма:')\n",
    "\n",
    "# Проверяем все р-значения в списке, начиная с наименьшего:\n",
    "# Если минимальное р-значение больше уровня значимости, деленного на общее количество тестов,\n",
    "# то принимаем все гипотезы\n",
    "if ALL_P_VALUES[0] > alpha / n_tests:\n",
    "    print(f'Все гипотезы приняты.')\n",
    "else:\n",
    "# Если минимальное р-значение меньше уровня значимости, деленного на общее количество тестов,\n",
    "# то отвергаем гипотезу с данным р-значением и уменьшаем количество тестов на 1\n",
    "    print(f'Гипотеза с p-значением {ALL_P_VALUES[0]} отвергнута.')\n",
    "    n_tests -= 1\n",
    "    for i in range(1, len(ALL_P_VALUES)):\n",
    "        if ALL_P_VALUES[i] < alpha / n_tests:\n",
    "            print(f'Гипотеза с p-значением {ALL_P_VALUES[i]} отвергнута.')\n",
    "            n_tests -=1\n",
    "# Как только доходим до гипотезы, у которой р-значение больше уровня значимости, \n",
    "# деленного на оставшееся количество тестов, принимаем все оставшиемя гипотезы и\n",
    "# выходим из цикла\n",
    "        else:\n",
    "            print('Все последующие гипотезы приняты.')\n",
    "            break"
   ]
  },
  {
   "cell_type": "markdown",
   "metadata": {},
   "source": [
    "**Вывод:** с учетом применения метода Холма-Бонферрони, который применяется чтобы снизить групповую вероятность ошибки первого рода и скорректировать требуемые уровни значимости, все нулевые гипотезы приняты. То есть мы не выявили статистически значимых различий между контрольными группами и между контрольными группами и экспериментальной группой."
   ]
  },
  {
   "cell_type": "markdown",
   "metadata": {},
   "source": [
    "<a id='section_4.5'></a>\n",
    "### 4.5 Вывод "
   ]
  },
  {
   "cell_type": "markdown",
   "metadata": {},
   "source": [
    "В ходе А/А/В-теста были получены результаты двух контрольных и одной экспериментальной группы. Мы проверили количество пользователей, вошедших в каждую группу, и разница составила на более 0,7%.\n",
    "\n",
    "Мы провели 16 z-тестов для сравнения долей пользователей, совершивших события, составляющие нашу воронку событий.\n",
    "В ходе тестов:\n",
    "1) мы не выявили статистически значимых различий между результатами двух контрольных групп - что подтверждает точность тестирования.\n",
    "2) мы не выявили статистически значимых различий между результатами контрольных групп и экспериментальной группы. Это говорит, об отсутствии влияния замены шрифтов на конверсию пользователей мобильного приложения.\n",
    "\n",
    "Для снижения группой вероятности ошибки первого рода (отвержения верной гипотезы), мы применили метод Холма-Бонферрони. При применении метода корректность сделанных ранее выводов подтвердилась."
   ]
  }
 ],
 "metadata": {
  "kernelspec": {
   "display_name": "Python 3",
   "language": "python",
   "name": "python3"
  },
  "language_info": {
   "codemirror_mode": {
    "name": "ipython",
    "version": 3
   },
   "file_extension": ".py",
   "mimetype": "text/x-python",
   "name": "python",
   "nbconvert_exporter": "python",
   "pygments_lexer": "ipython3",
   "version": "3.8.5"
  }
 },
 "nbformat": 4,
 "nbformat_minor": 2
}
